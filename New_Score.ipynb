{
 "cells": [
  {
   "cell_type": "markdown",
   "metadata": {},
   "source": [
    "# 2. Search Engine"
   ]
  },
  {
   "cell_type": "code",
   "execution_count": 1,
   "metadata": {},
   "outputs": [
    {
     "ename": "ModuleNotFoundError",
     "evalue": "No module named 'langdetect'",
     "output_type": "error",
     "traceback": [
      "\u001b[1;31m---------------------------------------------------------------------------\u001b[0m",
      "\u001b[1;31mModuleNotFoundError\u001b[0m                       Traceback (most recent call last)",
      "\u001b[1;32m<ipython-input-1-f78719951ca2>\u001b[0m in \u001b[0;36m<module>\u001b[1;34m\u001b[0m\n\u001b[0;32m      3\u001b[0m \u001b[1;32mimport\u001b[0m \u001b[0mos\u001b[0m\u001b[1;33m\u001b[0m\u001b[1;33m\u001b[0m\u001b[0m\n\u001b[0;32m      4\u001b[0m \u001b[1;32mimport\u001b[0m \u001b[0mre\u001b[0m\u001b[1;33m\u001b[0m\u001b[1;33m\u001b[0m\u001b[0m\n\u001b[1;32m----> 5\u001b[1;33m \u001b[1;32mfrom\u001b[0m \u001b[0mlangdetect\u001b[0m \u001b[1;32mimport\u001b[0m \u001b[0mdetect\u001b[0m\u001b[1;33m\u001b[0m\u001b[1;33m\u001b[0m\u001b[0m\n\u001b[0m\u001b[0;32m      6\u001b[0m \u001b[1;32mimport\u001b[0m \u001b[0mnltk\u001b[0m\u001b[1;33m\u001b[0m\u001b[1;33m\u001b[0m\u001b[0m\n",
      "\u001b[1;31mModuleNotFoundError\u001b[0m: No module named 'langdetect'"
     ]
    }
   ],
   "source": [
    "import pandas as pd\n",
    "import glob\n",
    "import os\n",
    "import re\n",
    "from langdetect import detect\n",
    "import nltk"
   ]
  },
  {
   "cell_type": "code",
   "execution_count": null,
   "metadata": {},
   "outputs": [],
   "source": [
    "from our_functions import *"
   ]
  },
  {
   "cell_type": "code",
   "execution_count": null,
   "metadata": {},
   "outputs": [],
   "source": [
    "extension = 'tsv'\n",
    "filenames = [i for i in glob.glob('*.{}'.format(extension))]"
   ]
  },
  {
   "cell_type": "code",
   "execution_count": null,
   "metadata": {},
   "outputs": [],
   "source": [
    "column_names = ['title', 'series', 'author', 'ratingValue', 'ratingCount', 'plots', 'reviewCount', 'date', 'characters', 'settings', 'url']"
   ]
  },
  {
   "cell_type": "code",
   "execution_count": null,
   "metadata": {},
   "outputs": [],
   "source": [
    "dataset = pd.concat([pd.read_csv(f, sep='\\t', header=None, names = column_names) for f in filenames], axis = 0)"
   ]
  },
  {
   "cell_type": "code",
   "execution_count": null,
   "metadata": {},
   "outputs": [],
   "source": [
    "numbers = list(map(lambda x : int(re.search(\"[0-9]+\" ,x).group(0)), filenames))"
   ]
  },
  {
   "cell_type": "code",
   "execution_count": null,
   "metadata": {},
   "outputs": [],
   "source": [
    "dataset[\"index\"] = numbers"
   ]
  },
  {
   "cell_type": "code",
   "execution_count": null,
   "metadata": {},
   "outputs": [],
   "source": [
    "ds = dataset.sort_values(by=['index'])"
   ]
  },
  {
   "cell_type": "code",
   "execution_count": null,
   "metadata": {},
   "outputs": [],
   "source": [
    "ds.head()"
   ]
  },
  {
   "cell_type": "code",
   "execution_count": null,
   "metadata": {},
   "outputs": [],
   "source": [
    "#drop rows where there is not plot\n",
    "ds = ds.dropna(subset = ['plots'])"
   ]
  },
  {
   "cell_type": "code",
   "execution_count": null,
   "metadata": {},
   "outputs": [],
   "source": [
    "#check if the plot is in english\n",
    "def is_english(plot):\n",
    "    try:\n",
    "        result = (detect(plot) == 'en')\n",
    "    except:\n",
    "        #where the plot is empty\n",
    "        result = False\n",
    "    return(result)"
   ]
  },
  {
   "cell_type": "code",
   "execution_count": null,
   "metadata": {},
   "outputs": [],
   "source": [
    "#discard not eglish plot\n",
    "df = ds[list(map(lambda x : is_english(x), list(ds['plots'])))]"
   ]
  },
  {
   "cell_type": "code",
   "execution_count": null,
   "metadata": {},
   "outputs": [],
   "source": [
    "plots = df[['plots', 'index']]"
   ]
  },
  {
   "cell_type": "code",
   "execution_count": null,
   "metadata": {},
   "outputs": [],
   "source": [
    "plots.head()"
   ]
  },
  {
   "cell_type": "code",
   "execution_count": null,
   "metadata": {},
   "outputs": [],
   "source": [
    "#save the dataset of file\n",
    "df.to_csv('books_dataset.tsv', sep = '\\t', index=False)    "
   ]
  },
  {
   "cell_type": "markdown",
   "metadata": {},
   "source": [
    "### Remove Stop Word"
   ]
  },
  {
   "cell_type": "code",
   "execution_count": null,
   "metadata": {},
   "outputs": [],
   "source": [
    "from nltk.corpus import stopwords"
   ]
  },
  {
   "cell_type": "code",
   "execution_count": null,
   "metadata": {},
   "outputs": [],
   "source": [
    "nltk.download('stopwords')\n",
    "from nltk.tokenize import word_tokenize"
   ]
  },
  {
   "cell_type": "code",
   "execution_count": null,
   "metadata": {},
   "outputs": [],
   "source": [
    "from nltk.tokenize import RegexpTokenizer"
   ]
  },
  {
   "cell_type": "code",
   "execution_count": null,
   "metadata": {},
   "outputs": [],
   "source": [
    " nltk.download()"
   ]
  },
  {
   "cell_type": "code",
   "execution_count": null,
   "metadata": {},
   "outputs": [],
   "source": [
    "stop_words = set(stopwords.words('english'))"
   ]
  },
  {
   "cell_type": "code",
   "execution_count": null,
   "metadata": {},
   "outputs": [],
   "source": [
    "def remove_stop_word(phrases):\n",
    "    tokenizer = RegexpTokenizer(r'[a-z]+')\n",
    "    word = tokenizer.tokenize(phrases.lower())\n",
    "    return [w for w in word if w not in stop_words]"
   ]
  },
  {
   "cell_type": "code",
   "execution_count": null,
   "metadata": {},
   "outputs": [],
   "source": [
    "plots['words'] = plots.apply(lambda x : remove_stop_word(x['plots']), axis=1)"
   ]
  },
  {
   "cell_type": "code",
   "execution_count": null,
   "metadata": {},
   "outputs": [],
   "source": [
    "plots.head()"
   ]
  },
  {
   "cell_type": "code",
   "execution_count": null,
   "metadata": {},
   "outputs": [],
   "source": [
    "words = plots[['words', 'index']]"
   ]
  },
  {
   "cell_type": "code",
   "execution_count": null,
   "metadata": {},
   "outputs": [],
   "source": [
    "words.head()"
   ]
  },
  {
   "cell_type": "code",
   "execution_count": null,
   "metadata": {},
   "outputs": [],
   "source": [
    "words = words.explode(column='words')"
   ]
  },
  {
   "cell_type": "code",
   "execution_count": null,
   "metadata": {},
   "outputs": [],
   "source": [
    "inverted_index = words.groupby('words')['index'].apply(list).to_dict()"
   ]
  },
  {
   "cell_type": "code",
   "execution_count": null,
   "metadata": {},
   "outputs": [],
   "source": [
    "keys = list(inverted_index.keys())"
   ]
  },
  {
   "cell_type": "code",
   "execution_count": null,
   "metadata": {},
   "outputs": [],
   "source": [
    "for k in keys[500:510]:\n",
    "    print(k,':', inverted_index[k])"
   ]
  },
  {
   "cell_type": "code",
   "execution_count": null,
   "metadata": {},
   "outputs": [],
   "source": [
    "#save on file\n",
    "import json\n",
    "with open('inverted_index.json', 'w') as fp:\n",
    "    json.dump(inverted_index, fp)"
   ]
  },
  {
   "cell_type": "markdown",
   "metadata": {},
   "source": [
    "## 2.1.2) Execute the query"
   ]
  },
  {
   "cell_type": "code",
   "execution_count": null,
   "metadata": {},
   "outputs": [],
   "source": [
    "import json\n",
    "import pandas as pd\n",
    "from nltk.corpus import stopwords \n",
    "from nltk.stem import PorterStemmer\n",
    "from nltk.tokenize import RegexpTokenizer"
   ]
  },
  {
   "cell_type": "code",
   "execution_count": null,
   "metadata": {},
   "outputs": [],
   "source": [
    "from functools import reduce"
   ]
  },
  {
   "cell_type": "code",
   "execution_count": null,
   "metadata": {},
   "outputs": [],
   "source": [
    "#load the file \n",
    "with open('inverted_index.json','r') as fp:\n",
    "    inverted_index = json.load(fp)"
   ]
  },
  {
   "cell_type": "code",
   "execution_count": null,
   "metadata": {},
   "outputs": [],
   "source": [
    "#load the dateset\n",
    "dataset = pd.read_csv('books_dataset.tsv', sep='\\t', index_col=None)"
   ]
  },
  {
   "cell_type": "code",
   "execution_count": null,
   "metadata": {},
   "outputs": [],
   "source": [
    "dataset = dataset[['title', 'plots','url', 'index']]"
   ]
  },
  {
   "cell_type": "code",
   "execution_count": null,
   "metadata": {},
   "outputs": [],
   "source": [
    "dataset = dataset.rename(columns={'index': 'number'})"
   ]
  },
  {
   "cell_type": "code",
   "execution_count": null,
   "metadata": {},
   "outputs": [],
   "source": [
    "def clean_text(text):\n",
    "    stop_words = set(stopwords.words('english'))\n",
    "    tokenizer = RegexpTokenizer(\"[a-z]+\")\n",
    "    tokens = tokenizer.tokenize(text.lower())\n",
    "    result = [word for word in tokens if not word in stop_words]\n",
    "    return tokens"
   ]
  },
  {
   "cell_type": "code",
   "execution_count": null,
   "metadata": {},
   "outputs": [],
   "source": [
    "def search_engine_io(dataset, inverted_index):\n",
    "    query = input('Insert words to seach: ')\n",
    "    return search_engine(dataset, inverted_index,query)"
   ]
  },
  {
   "cell_type": "code",
   "execution_count": null,
   "metadata": {},
   "outputs": [],
   "source": [
    "def search_engine(dataset, inverted_index, query):    \n",
    "    query_items = clean_text(query) #remove stop word\n",
    "    numbers_docs =[set(inverted_index[q]) for q in query_items] #get sets of number' documents for each query word\n",
    "    and_results = reduce(set.intersection, numbers_docs) #compute the overall intersections between sets\n",
    "    return and_results    "
   ]
  },
  {
   "cell_type": "code",
   "execution_count": null,
   "metadata": {},
   "outputs": [],
   "source": [
    "results = search_engine_io(dataset, inverted_index) # survival, games\n",
    "dataset[dataset.number.isin(results)]"
   ]
  },
  {
   "cell_type": "markdown",
   "metadata": {},
   "source": [
    "# 3. Define a new score!"
   ]
  },
  {
   "cell_type": "markdown",
   "metadata": {},
   "source": []
  },
  {
   "cell_type": "markdown",
   "metadata": {},
   "source": [
    "Our third search engine allows the user to insert two new parameter."
   ]
  },
  {
   "cell_type": "code",
   "execution_count": 134,
   "metadata": {},
   "outputs": [],
   "source": [
    "import editdistance\n",
    "import itertools\n",
    "from heapq import *"
   ]
  },
  {
   "cell_type": "code",
   "execution_count": 174,
   "metadata": {},
   "outputs": [],
   "source": [
    "pd.set_option('display.max_colwidth', None)"
   ]
  },
  {
   "cell_type": "code",
   "execution_count": 235,
   "metadata": {},
   "outputs": [],
   "source": [
    "df = pd.read_csv('books_dataset.tsv', sep='\\t', index_col = 'number')"
   ]
  },
  {
   "cell_type": "markdown",
   "metadata": {},
   "source": [
    "So now we are going to define a new score for our search. We know that people search books mainly considering Author, plot and the ratings given to the book by readers. We are going mainly considering those to features to rank the books according to the searches."
   ]
  },
  {
   "cell_type": "markdown",
   "metadata": {},
   "source": [
    "First we have to get extra information for the search from the user.\n",
    "User will insert Author, ratings and plots he's refering to."
   ]
  },
  {
   "cell_type": "code",
   "execution_count": 236,
   "metadata": {},
   "outputs": [],
   "source": [
    "#handler the input output from user to search engine\n",
    "def search_engine3_io():\n",
    "    plot = input('Insert words in plot:')\n",
    "    if not plot:\n",
    "        input('Please insert words in plot:')\n",
    "    author = input('insert author:')\n",
    "    ratingValue = input('insert a rating value:')\n",
    "    if not author and not ratingValue:\n",
    "        return search_engine_3(dataset, inverted_index, plot) \n",
    "    if not author and ratingValue:\n",
    "        return search_engine_3(dataset, inverted_index, plot, ratingValue)\n",
    "    if author and not ratingValue:\n",
    "        return search_engine_3(dataset, inverted_index, plot, author)\n",
    "    if author and ratingValue:\n",
    "        return search_engine_3(dataset, inverted_index, plot, author, ratingValue)   \n",
    "    "
   ]
  },
  {
   "cell_type": "markdown",
   "metadata": {},
   "source": [
    " According to the given values by the user, we calculate edit distance of for our search results"
   ]
  },
  {
   "cell_type": "code",
   "execution_count": 364,
   "metadata": {},
   "outputs": [],
   "source": [
    "def compute_distance(query_author, query_rating_value, num_doc, df):\n",
    "    if not query_author: # the author has not been required\n",
    "        distance_author = 1\n",
    "    else: #compute the edit distance from the author normalized \n",
    "        author_doc = df.loc[num_doc,'author']\n",
    "        distance_author = editdistance.eval(author_doc, query_author)\n",
    "        distance_author /= len(author_doc) #normalization\n",
    "        \n",
    "    #compute the distance from the rating values nomralized \n",
    "    rating_value_doc = df.loc[num_doc,'ratingValue']\n",
    "    rating_value_distance = round(abs(query_rating_value - rating_value_doc),2)\n",
    "    rating_value_distance /= 5 #normalization\n",
    "    \n",
    "    #retun the mean value\n",
    "    return round(0.5*distance_author + 0.5*rating_value_distance,2)\n",
    "    "
   ]
  },
  {
   "cell_type": "markdown",
   "metadata": {},
   "source": [
    "Add and remove documents to the heap according to the priority"
   ]
  },
  {
   "cell_type": "code",
   "execution_count": 328,
   "metadata": {},
   "outputs": [],
   "source": [
    "def add_doc(pq,doc_num,distance=0):\n",
    "    'Add a new document'\n",
    "    count = next(counter)\n",
    "    entry = [distance, count, doc_num]\n",
    "    entry_finder[doc_num] = entry\n",
    "    heappush(pq, entry)    \n",
    "    \n",
    "def pop_doc(pq):\n",
    "    'Remove and return the lowest priority doc'\n",
    "    distance, count, doc = heappop(pq)\n",
    "    return [doc, distance]"
   ]
  },
  {
   "cell_type": "markdown",
   "metadata": {},
   "source": [
    "Build the priority queque according to the calcualted edit distances"
   ]
  },
  {
   "cell_type": "code",
   "execution_count": 315,
   "metadata": {},
   "outputs": [],
   "source": [
    "#build a priority queue\n",
    "def build_pq(pq,df, inverted_index, plot='', query_author='', query_rating_value=5):\n",
    "    docs_num_list = search_engine(df, inverted_index, plot)       \n",
    "    for num_doc in docs_num_list:\n",
    "        add_doc(pq,num_doc, compute_distance(query_author, query_rating_value,num_doc,df))\n",
    "    return pq"
   ]
  },
  {
   "cell_type": "markdown",
   "metadata": {},
   "source": [
    "New serch engine that rank books according to the score given by calculating edit distances for user's extra information "
   ]
  },
  {
   "cell_type": "code",
   "execution_count": 376,
   "metadata": {},
   "outputs": [],
   "source": [
    "def search_engine_3(k,df, inverted_index, plot='', query_author='', query_rating_value=5):\n",
    "    pq = []                         \n",
    "    entry_finder = {}\n",
    "    counter = itertools.count()\n",
    "    pq = build_pq(pq,df, inverted_index, plot, query_author, query_rating_value)\n",
    "    \n",
    "    doc_result = k*[None]\n",
    "    distance_doc_result = k*[None]\n",
    "    #retrieve the max \n",
    "    for i in range(k):\n",
    "        doc_result[i],distance_doc_result[i] =  pop_doc(pq)\n",
    "    df_result = df.loc[doc_result,['title','author','ratingValue','plots','url']]\n",
    "    similarity = [1 - x for x in distance_doc_result]\n",
    "    df_result['Similarity'] = similarity\n",
    "    return df_result\n",
    "       "
   ]
  },
  {
   "cell_type": "markdown",
   "metadata": {},
   "source": [
    "Run and tast the algorithm"
   ]
  },
  {
   "cell_type": "code",
   "execution_count": 377,
   "metadata": {},
   "outputs": [
    {
     "data": {
      "text/html": [
       "<div>\n",
       "<style scoped>\n",
       "    .dataframe tbody tr th:only-of-type {\n",
       "        vertical-align: middle;\n",
       "    }\n",
       "\n",
       "    .dataframe tbody tr th {\n",
       "        vertical-align: top;\n",
       "    }\n",
       "\n",
       "    .dataframe thead th {\n",
       "        text-align: right;\n",
       "    }\n",
       "</style>\n",
       "<table border=\"1\" class=\"dataframe\">\n",
       "  <thead>\n",
       "    <tr style=\"text-align: right;\">\n",
       "      <th></th>\n",
       "      <th>title</th>\n",
       "      <th>author</th>\n",
       "      <th>ratingValue</th>\n",
       "      <th>plots</th>\n",
       "      <th>url</th>\n",
       "      <th>Similarity</th>\n",
       "    </tr>\n",
       "    <tr>\n",
       "      <th>number</th>\n",
       "      <th></th>\n",
       "      <th></th>\n",
       "      <th></th>\n",
       "      <th></th>\n",
       "      <th></th>\n",
       "      <th></th>\n",
       "    </tr>\n",
       "  </thead>\n",
       "  <tbody>\n",
       "    <tr>\n",
       "      <th>377</th>\n",
       "      <td>Mansfield Park</td>\n",
       "      <td>Jane Austen</td>\n",
       "      <td>3.86</td>\n",
       "      <td>Adopted into the household of her uncle, Sir Thomas Bertram, Fanny Price grows up a meek outsider among her cousins in the unaccustomed elegance of Mansfield Park. Soon after Sir Thomas absents himself on estate business in Antigua (the family's investment in slavery and sugar is considered in the Introduction in a new, post-colonial light), Mary Crawford and her brother Henry arrive at Mansfield, bringing with them London glamour, and the seductive taste for flirtation and theatre that precipitates a crisis. While Mansfield Park appears in some ways to continue where Pride and Prejudice left off, it is, as Kathryn Sutherland shows in her illuminating Introduction, a much darker work, which challenges 'the very values (of tradition, stability, retirement and faithfulness) it appears to endorse'. This new edition provides an accurate text based, for the first time since its original publication, on the first edition of 1814.</td>\n",
       "      <td>https://www.goodreads.com/review/show/2756260</td>\n",
       "      <td>0.76</td>\n",
       "    </tr>\n",
       "    <tr>\n",
       "      <th>4</th>\n",
       "      <td>Pride and Prejudice</td>\n",
       "      <td>Jane Austen</td>\n",
       "      <td>4.26</td>\n",
       "      <td>Since its immediate success in 1813, Pride and Prejudice has remained one of the most popular novels in the English language. Jane Austen called this brilliant work \"her own darling child\" and its vivacious heroine, Elizabeth Bennet, \"as delightful a creature as ever appeared in print.\" The romantic clash between the opinionated Elizabeth and her proud beau, Mr. Darcy, is a splendid performance of civilized sparring. And Jane Austen's radiant wit sparkles as her characters dance a delicate quadrille of flirtation and intrigue, making this book the most superb comedy of manners of Regency England.</td>\n",
       "      <td>https://www.goodreads.com/book/show/1885.Pride_and_Prejudice</td>\n",
       "      <td>0.75</td>\n",
       "    </tr>\n",
       "    <tr>\n",
       "      <th>358</th>\n",
       "      <td>The Complete Novels</td>\n",
       "      <td>Jane Austen</td>\n",
       "      <td>4.56</td>\n",
       "      <td>This volume contains the six major novels: \"Emma\", \"Mansfield Park\", \"Northanger Abbey\", \"Persuasion\", \"Sense and Sensibility\", \"Pride and Prejudice\".</td>\n",
       "      <td>https://www.goodreads.com/review/show/2506231654</td>\n",
       "      <td>0.72</td>\n",
       "    </tr>\n",
       "    <tr>\n",
       "      <th>29798</th>\n",
       "      <td>The Gladiator's Master</td>\n",
       "      <td>Fae Sutherland</td>\n",
       "      <td>3.90</td>\n",
       "      <td>When Roman politician Caelius inherits a stable of gladiators, there is one who captures his attention above the others...one whose eyes gleam with hate, pride and desire.Forced into slavery by Roman greed, Gaidres can barely conceal his contempt toward his new Dominus. Gaidres has a plan: kill Caelius and end the lineage of the Roman family that enslaved him. For his plan to succeed, he must make a show of respect and obedience--even when called on to service his master's desires.Gaidres is shocked to learn that in the confines of his quarters, Caelius doesn't want to dominate his slave, but to be taken by him. The sex is explosive as they break society's taboos and, to Gaidres's dismay, they form a tenuous relationship. Even when Caelius learns of Gaidres's plans for revenge, he knows he can't live without his perfect lover. Is he willing to risk it all to tame his gladiator's heart?88,000 words</td>\n",
       "      <td>https://www.goodreads.com/review/show/337968509</td>\n",
       "      <td>0.63</td>\n",
       "    </tr>\n",
       "    <tr>\n",
       "      <th>20084</th>\n",
       "      <td>Heretics</td>\n",
       "      <td>G.K. Chesterton</td>\n",
       "      <td>4.18</td>\n",
       "      <td>G. K. Chesterton, the \"Prince of Paradox,\" is at his witty best in this collection of twenty essays and articles from the turn of the twentieth century. Focusing on \"heretics\" — those who pride themselves on their superiority to Christian views — Chesterton appraises prominent figures who fall into that category from the literary and art worlds. Luminaries such as Rudyard Kipling, George Bernard Shaw, H. G. Wells, and James McNeill Whistler come under the author's scrutiny, where they meet with equal measures of his characteristic wisdom and good humor.In addition to incisive assessments of well-known individuals (\"Mr. Rudyard Kipling and Making the World Small\" and \"Mr. H. G. Wells and the Giants\"), these essays contain observations on the wider world. \"On Sandals and Simplicity,\" \"Science and the Savages,\" \"On Certain Modern Writers and the Institution of the Family,\" \"On Smart Novelists and the Smart Set,\" and \"Slum Novelists and the Slums\" reflect the main themes of Chesterton's life's work. Heretics roused the ire of some critics for censuring contemporary philosophies without providing alternatives; the author responded a few years later with a companion volume, Orthodoxy. Sardonic, jolly, and generous, both books are vintage Chesterton.He is criticizing those who hold incomplete and inadequate views about \"life, the universe, and everything.\" He is, in short, criticizing all that host of non-Christian views of reality, as he demonstrated in his follow-up book Orthodoxy. The book is both an easy read and a difficult read. But he manages to demonstrate, among other things, that our new 21st century heresies are really not new because he himself deals with most of them.</td>\n",
       "      <td>https://www.goodreads.com/review/show/58292307</td>\n",
       "      <td>0.62</td>\n",
       "    </tr>\n",
       "  </tbody>\n",
       "</table>\n",
       "</div>"
      ],
      "text/plain": [
       "                         title           author  ratingValue  \\\n",
       "number                                                         \n",
       "377             Mansfield Park      Jane Austen         3.86   \n",
       "4          Pride and Prejudice      Jane Austen         4.26   \n",
       "358        The Complete Novels      Jane Austen         4.56   \n",
       "29798   The Gladiator's Master   Fae Sutherland         3.90   \n",
       "20084                 Heretics  G.K. Chesterton         4.18   \n",
       "\n",
       "                                                                                                                                                                                                                                                                                                                                                                                                                                                                                                                                                                                                                                                                                                                                                                                                                                                                                                                                                                                                                                                                                                                                                                                                                                                                                                                                                                                                                                                                                                                                                                                                                                                                                                                                                                         plots  \\\n",
       "number                                                                                                                                                                                                                                                                                                                                                                                                                                                                                                                                                                                                                                                                                                                                                                                                                                                                                                                                                                                                                                                                                                                                                                                                                                                                                                                                                                                                                                                                                                                                                                                                                                                                                                                                                                           \n",
       "377                                                                                                                                                                                                                                                                                                                                                                                                                                                                                                                                                                                                                                                                                                                                                                                                  Adopted into the household of her uncle, Sir Thomas Bertram, Fanny Price grows up a meek outsider among her cousins in the unaccustomed elegance of Mansfield Park. Soon after Sir Thomas absents himself on estate business in Antigua (the family's investment in slavery and sugar is considered in the Introduction in a new, post-colonial light), Mary Crawford and her brother Henry arrive at Mansfield, bringing with them London glamour, and the seductive taste for flirtation and theatre that precipitates a crisis. While Mansfield Park appears in some ways to continue where Pride and Prejudice left off, it is, as Kathryn Sutherland shows in her illuminating Introduction, a much darker work, which challenges 'the very values (of tradition, stability, retirement and faithfulness) it appears to endorse'. This new edition provides an accurate text based, for the first time since its original publication, on the first edition of 1814.   \n",
       "4                                                                                                                                                                                                                                                                                                                                                                                                                                                                                                                                                                                                                                                                                                                                                                                                                                                                                                                                                                                                                                                                                                                                                  Since its immediate success in 1813, Pride and Prejudice has remained one of the most popular novels in the English language. Jane Austen called this brilliant work \"her own darling child\" and its vivacious heroine, Elizabeth Bennet, \"as delightful a creature as ever appeared in print.\" The romantic clash between the opinionated Elizabeth and her proud beau, Mr. Darcy, is a splendid performance of civilized sparring. And Jane Austen's radiant wit sparkles as her characters dance a delicate quadrille of flirtation and intrigue, making this book the most superb comedy of manners of Regency England.   \n",
       "358                                                                                                                                                                                                                                                                                                                                                                                                                                                                                                                                                                                                                                                                                                                                                                                                                                                                                                                                                                                                                                                                                                                                                                                                                                                                                                                                                                                                                                                                                                                                                                                                                     This volume contains the six major novels: \"Emma\", \"Mansfield Park\", \"Northanger Abbey\", \"Persuasion\", \"Sense and Sensibility\", \"Pride and Prejudice\".   \n",
       "29798                                                                                                                                                                                                                                                                                                                                                                                                                                                                                                                                                                                                                                                                                                                                                                                                                           When Roman politician Caelius inherits a stable of gladiators, there is one who captures his attention above the others...one whose eyes gleam with hate, pride and desire.Forced into slavery by Roman greed, Gaidres can barely conceal his contempt toward his new Dominus. Gaidres has a plan: kill Caelius and end the lineage of the Roman family that enslaved him. For his plan to succeed, he must make a show of respect and obedience--even when called on to service his master's desires.Gaidres is shocked to learn that in the confines of his quarters, Caelius doesn't want to dominate his slave, but to be taken by him. The sex is explosive as they break society's taboos and, to Gaidres's dismay, they form a tenuous relationship. Even when Caelius learns of Gaidres's plans for revenge, he knows he can't live without his perfect lover. Is he willing to risk it all to tame his gladiator's heart?88,000 words   \n",
       "20084   G. K. Chesterton, the \"Prince of Paradox,\" is at his witty best in this collection of twenty essays and articles from the turn of the twentieth century. Focusing on \"heretics\" — those who pride themselves on their superiority to Christian views — Chesterton appraises prominent figures who fall into that category from the literary and art worlds. Luminaries such as Rudyard Kipling, George Bernard Shaw, H. G. Wells, and James McNeill Whistler come under the author's scrutiny, where they meet with equal measures of his characteristic wisdom and good humor.In addition to incisive assessments of well-known individuals (\"Mr. Rudyard Kipling and Making the World Small\" and \"Mr. H. G. Wells and the Giants\"), these essays contain observations on the wider world. \"On Sandals and Simplicity,\" \"Science and the Savages,\" \"On Certain Modern Writers and the Institution of the Family,\" \"On Smart Novelists and the Smart Set,\" and \"Slum Novelists and the Slums\" reflect the main themes of Chesterton's life's work. Heretics roused the ire of some critics for censuring contemporary philosophies without providing alternatives; the author responded a few years later with a companion volume, Orthodoxy. Sardonic, jolly, and generous, both books are vintage Chesterton.He is criticizing those who hold incomplete and inadequate views about \"life, the universe, and everything.\" He is, in short, criticizing all that host of non-Christian views of reality, as he demonstrated in his follow-up book Orthodoxy. The book is both an easy read and a difficult read. But he manages to demonstrate, among other things, that our new 21st century heresies are really not new because he himself deals with most of them.   \n",
       "\n",
       "                                                                 url  \\\n",
       "number                                                                 \n",
       "377                    https://www.goodreads.com/review/show/2756260   \n",
       "4       https://www.goodreads.com/book/show/1885.Pride_and_Prejudice   \n",
       "358                 https://www.goodreads.com/review/show/2506231654   \n",
       "29798                https://www.goodreads.com/review/show/337968509   \n",
       "20084                 https://www.goodreads.com/review/show/58292307   \n",
       "\n",
       "        Similarity  \n",
       "number              \n",
       "377           0.76  \n",
       "4             0.75  \n",
       "358           0.72  \n",
       "29798         0.63  \n",
       "20084         0.62  "
      ]
     },
     "execution_count": 377,
     "metadata": {},
     "output_type": "execute_result"
    }
   ],
   "source": [
    "search_engine_3(5,df, inverted_index, plot='pride', query_author='austen', query_rating_value=4)"
   ]
  },
  {
   "cell_type": "code",
   "execution_count": null,
   "metadata": {},
   "outputs": [],
   "source": []
  }
 ],
 "metadata": {
  "kernelspec": {
   "display_name": "Python 3",
   "language": "python",
   "name": "python3"
  }
 },
 "nbformat": 4,
 "nbformat_minor": 4
}
