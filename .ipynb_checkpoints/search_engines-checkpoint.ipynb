{
 "cells": [
  {
   "cell_type": "markdown",
   "metadata": {},
   "source": [
    "# 2. Search Engine"
   ]
  },
  {
   "cell_type": "markdown",
   "metadata": {},
   "source": [
    "The first search engine given a query in input finds all the books that have all the words in the plots.\n",
    "\n",
    "First of all we remove stop words from the plots.\n",
    "\n",
    "Second we build a reversed index that maps each word to the all documents that contain the word, useful for the search engine.\n",
    "\n",
    "In the end we build the search engine."
   ]
  },
  {
   "cell_type": "code",
   "execution_count": 23,
   "metadata": {},
   "outputs": [],
   "source": [
    "import pandas as pd\n",
    "import glob\n",
    "import os\n",
    "import re\n",
    "from langdetect import detect\n",
    "import nltk"
   ]
  },
  {
   "cell_type": "code",
   "execution_count": 22,
   "metadata": {},
   "outputs": [],
   "source": [
    "from our_functions import *"
   ]
  },
  {
   "cell_type": "code",
   "execution_count": 25,
   "metadata": {},
   "outputs": [],
   "source": [
    "extension = 'tsv'\n",
    "filenames = [i for i in glob.glob('*.{}'.format(extension))]"
   ]
  },
  {
   "cell_type": "code",
   "execution_count": 5,
   "metadata": {},
   "outputs": [],
   "source": [
    "column_names = ['title', 'series', 'author', 'ratingValue', 'ratingCount', 'plots', 'reviewCount', 'date', 'characters', 'settings', 'url']"
   ]
  },
  {
   "cell_type": "code",
   "execution_count": 30,
   "metadata": {},
   "outputs": [],
   "source": [
    "dataset = pd.concat([pd.read_csv(f, sep='\\t', header=None, names = column_names) for f in filenames], axis = 0)"
   ]
  },
  {
   "cell_type": "code",
   "execution_count": 31,
   "metadata": {},
   "outputs": [],
   "source": [
    "numbers = list(map(lambda x : int(re.search(\"[0-9]+\" ,x).group(0)), filenames))"
   ]
  },
  {
   "cell_type": "code",
   "execution_count": 32,
   "metadata": {},
   "outputs": [],
   "source": [
    "dataset[\"index\"] = numbers"
   ]
  },
  {
   "cell_type": "code",
   "execution_count": 33,
   "metadata": {},
   "outputs": [],
   "source": [
    "ds = dataset.sort_values(by=['index'])"
   ]
  },
  {
   "cell_type": "code",
   "execution_count": 38,
   "metadata": {},
   "outputs": [
    {
     "data": {
      "text/html": [
       "<div>\n",
       "<style scoped>\n",
       "    .dataframe tbody tr th:only-of-type {\n",
       "        vertical-align: middle;\n",
       "    }\n",
       "\n",
       "    .dataframe tbody tr th {\n",
       "        vertical-align: top;\n",
       "    }\n",
       "\n",
       "    .dataframe thead th {\n",
       "        text-align: right;\n",
       "    }\n",
       "</style>\n",
       "<table border=\"1\" class=\"dataframe\">\n",
       "  <thead>\n",
       "    <tr style=\"text-align: right;\">\n",
       "      <th></th>\n",
       "      <th>title</th>\n",
       "      <th>series</th>\n",
       "      <th>author</th>\n",
       "      <th>ratingValue</th>\n",
       "      <th>ratingCount</th>\n",
       "      <th>plots</th>\n",
       "      <th>reviewCount</th>\n",
       "      <th>date</th>\n",
       "      <th>characters</th>\n",
       "      <th>settings</th>\n",
       "      <th>url</th>\n",
       "      <th>index</th>\n",
       "    </tr>\n",
       "  </thead>\n",
       "  <tbody>\n",
       "    <tr>\n",
       "      <th>0</th>\n",
       "      <td>The Hunger Games</td>\n",
       "      <td>The Hunger Games #1</td>\n",
       "      <td>Suzanne Collins</td>\n",
       "      <td>4.33</td>\n",
       "      <td>6414062.0</td>\n",
       "      <td>Could you survive on your own in the wild, wit...</td>\n",
       "      <td>374.0</td>\n",
       "      <td>September 14th 2008</td>\n",
       "      <td>Katniss Everdeen, Peeta Mellark, Cato (Hunger ...</td>\n",
       "      <td>District 12 Panem, Capitol Panem, Panem</td>\n",
       "      <td>https://www.goodreads.com/book/show/2767052-th...</td>\n",
       "      <td>1</td>\n",
       "    </tr>\n",
       "    <tr>\n",
       "      <th>0</th>\n",
       "      <td>Harry Potter and the Order of the Phoenix</td>\n",
       "      <td>Harry Potter #5</td>\n",
       "      <td>J.K. Rowling</td>\n",
       "      <td>4.50</td>\n",
       "      <td>2528402.0</td>\n",
       "      <td>There is a door at the end of a silent corrido...</td>\n",
       "      <td>870.0</td>\n",
       "      <td>September 2004</td>\n",
       "      <td>Sirius Black, Draco Malfoy, Ron Weasley, Petun...</td>\n",
       "      <td>Hogwarts School of Witchcraft and Wizardry, Lo...</td>\n",
       "      <td>https://www.goodreads.com/book/show/2.Harry_Po...</td>\n",
       "      <td>2</td>\n",
       "    </tr>\n",
       "    <tr>\n",
       "      <th>0</th>\n",
       "      <td>To Kill a Mockingbird</td>\n",
       "      <td>To Kill a Mockingbird</td>\n",
       "      <td>Harper Lee</td>\n",
       "      <td>4.28</td>\n",
       "      <td>4532078.0</td>\n",
       "      <td>The unforgettable novel of a childhood in a sl...</td>\n",
       "      <td>324.0</td>\n",
       "      <td>May 23rd 2006</td>\n",
       "      <td>Scout Finch, Atticus Finch, Jem Finch, Arthur ...</td>\n",
       "      <td>Maycomb Alabama</td>\n",
       "      <td>https://www.goodreads.com/book/show/2657.To_Ki...</td>\n",
       "      <td>3</td>\n",
       "    </tr>\n",
       "    <tr>\n",
       "      <th>0</th>\n",
       "      <td>Pride and Prejudice</td>\n",
       "      <td>NaN</td>\n",
       "      <td>Jane Austen</td>\n",
       "      <td>4.26</td>\n",
       "      <td>3021524.0</td>\n",
       "      <td>Since its immediate success in 1813, Pride and...</td>\n",
       "      <td>279.0</td>\n",
       "      <td>October 10th 2000</td>\n",
       "      <td>Mr. Bennet, Mrs. Bennet, Jane Bennet, Elizabet...</td>\n",
       "      <td>United Kingdom, Derbyshire England, England, H...</td>\n",
       "      <td>https://www.goodreads.com/book/show/1885.Pride...</td>\n",
       "      <td>4</td>\n",
       "    </tr>\n",
       "    <tr>\n",
       "      <th>0</th>\n",
       "      <td>Twilight</td>\n",
       "      <td>The Twilight Saga #1</td>\n",
       "      <td>Stephenie Meyer</td>\n",
       "      <td>3.60</td>\n",
       "      <td>4994637.0</td>\n",
       "      <td>About three things I was absolutely positive.F...</td>\n",
       "      <td>501.0</td>\n",
       "      <td>September 6th 2006</td>\n",
       "      <td>Edward Cullen, Jacob Black, Laurent, Renee, Be...</td>\n",
       "      <td>Forks Washington, Phoenix Arizona, Washington ...</td>\n",
       "      <td>https://www.goodreads.com/book/show/41865.Twil...</td>\n",
       "      <td>5</td>\n",
       "    </tr>\n",
       "  </tbody>\n",
       "</table>\n",
       "</div>"
      ],
      "text/plain": [
       "                                       title                 series  \\\n",
       "0                           The Hunger Games    The Hunger Games #1   \n",
       "0  Harry Potter and the Order of the Phoenix        Harry Potter #5   \n",
       "0                      To Kill a Mockingbird  To Kill a Mockingbird   \n",
       "0                        Pride and Prejudice                    NaN   \n",
       "0                                   Twilight   The Twilight Saga #1   \n",
       "\n",
       "            author  ratingValue  ratingCount  \\\n",
       "0  Suzanne Collins         4.33    6414062.0   \n",
       "0     J.K. Rowling         4.50    2528402.0   \n",
       "0       Harper Lee         4.28    4532078.0   \n",
       "0      Jane Austen         4.26    3021524.0   \n",
       "0  Stephenie Meyer         3.60    4994637.0   \n",
       "\n",
       "                                               plots  reviewCount  \\\n",
       "0  Could you survive on your own in the wild, wit...        374.0   \n",
       "0  There is a door at the end of a silent corrido...        870.0   \n",
       "0  The unforgettable novel of a childhood in a sl...        324.0   \n",
       "0  Since its immediate success in 1813, Pride and...        279.0   \n",
       "0  About three things I was absolutely positive.F...        501.0   \n",
       "\n",
       "                  date                                         characters  \\\n",
       "0  September 14th 2008  Katniss Everdeen, Peeta Mellark, Cato (Hunger ...   \n",
       "0       September 2004  Sirius Black, Draco Malfoy, Ron Weasley, Petun...   \n",
       "0        May 23rd 2006  Scout Finch, Atticus Finch, Jem Finch, Arthur ...   \n",
       "0    October 10th 2000  Mr. Bennet, Mrs. Bennet, Jane Bennet, Elizabet...   \n",
       "0   September 6th 2006  Edward Cullen, Jacob Black, Laurent, Renee, Be...   \n",
       "\n",
       "                                            settings  \\\n",
       "0            District 12 Panem, Capitol Panem, Panem   \n",
       "0  Hogwarts School of Witchcraft and Wizardry, Lo...   \n",
       "0                                    Maycomb Alabama   \n",
       "0  United Kingdom, Derbyshire England, England, H...   \n",
       "0  Forks Washington, Phoenix Arizona, Washington ...   \n",
       "\n",
       "                                                 url  index  \n",
       "0  https://www.goodreads.com/book/show/2767052-th...      1  \n",
       "0  https://www.goodreads.com/book/show/2.Harry_Po...      2  \n",
       "0  https://www.goodreads.com/book/show/2657.To_Ki...      3  \n",
       "0  https://www.goodreads.com/book/show/1885.Pride...      4  \n",
       "0  https://www.goodreads.com/book/show/41865.Twil...      5  "
      ]
     },
     "execution_count": 38,
     "metadata": {},
     "output_type": "execute_result"
    }
   ],
   "source": [
    "ds.head()"
   ]
  },
  {
   "cell_type": "code",
   "execution_count": 35,
   "metadata": {},
   "outputs": [],
   "source": [
    "#drop rows where there is not plot\n",
    "ds = ds.dropna(subset = ['plots'])"
   ]
  },
  {
   "cell_type": "code",
   "execution_count": 39,
   "metadata": {},
   "outputs": [],
   "source": [
    "#check if the plot is in english\n",
    "def is_english(plot):\n",
    "    try:\n",
    "        result = (detect(plot) == 'en')\n",
    "    except:\n",
    "        #where the plot is empty\n",
    "        result = False\n",
    "    return(result)"
   ]
  },
  {
   "cell_type": "code",
   "execution_count": 40,
   "metadata": {},
   "outputs": [],
   "source": [
    "#discard not eglish plot\n",
    "df = ds[list(map(lambda x : is_english(x), list(ds['plots'])))]"
   ]
  },
  {
   "cell_type": "code",
   "execution_count": 41,
   "metadata": {},
   "outputs": [],
   "source": [
    "plots = df[['plots', 'index']]"
   ]
  },
  {
   "cell_type": "code",
   "execution_count": 44,
   "metadata": {},
   "outputs": [
    {
     "data": {
      "text/html": [
       "<div>\n",
       "<style scoped>\n",
       "    .dataframe tbody tr th:only-of-type {\n",
       "        vertical-align: middle;\n",
       "    }\n",
       "\n",
       "    .dataframe tbody tr th {\n",
       "        vertical-align: top;\n",
       "    }\n",
       "\n",
       "    .dataframe thead th {\n",
       "        text-align: right;\n",
       "    }\n",
       "</style>\n",
       "<table border=\"1\" class=\"dataframe\">\n",
       "  <thead>\n",
       "    <tr style=\"text-align: right;\">\n",
       "      <th></th>\n",
       "      <th>plots</th>\n",
       "      <th>index</th>\n",
       "    </tr>\n",
       "  </thead>\n",
       "  <tbody>\n",
       "    <tr>\n",
       "      <th>0</th>\n",
       "      <td>Could you survive on your own in the wild, wit...</td>\n",
       "      <td>1</td>\n",
       "    </tr>\n",
       "    <tr>\n",
       "      <th>0</th>\n",
       "      <td>There is a door at the end of a silent corrido...</td>\n",
       "      <td>2</td>\n",
       "    </tr>\n",
       "    <tr>\n",
       "      <th>0</th>\n",
       "      <td>The unforgettable novel of a childhood in a sl...</td>\n",
       "      <td>3</td>\n",
       "    </tr>\n",
       "    <tr>\n",
       "      <th>0</th>\n",
       "      <td>Since its immediate success in 1813, Pride and...</td>\n",
       "      <td>4</td>\n",
       "    </tr>\n",
       "    <tr>\n",
       "      <th>0</th>\n",
       "      <td>About three things I was absolutely positive.F...</td>\n",
       "      <td>5</td>\n",
       "    </tr>\n",
       "  </tbody>\n",
       "</table>\n",
       "</div>"
      ],
      "text/plain": [
       "                                               plots  index\n",
       "0  Could you survive on your own in the wild, wit...      1\n",
       "0  There is a door at the end of a silent corrido...      2\n",
       "0  The unforgettable novel of a childhood in a sl...      3\n",
       "0  Since its immediate success in 1813, Pride and...      4\n",
       "0  About three things I was absolutely positive.F...      5"
      ]
     },
     "execution_count": 44,
     "metadata": {},
     "output_type": "execute_result"
    }
   ],
   "source": [
    "plots.head()"
   ]
  },
  {
   "cell_type": "code",
   "execution_count": 54,
   "metadata": {},
   "outputs": [],
   "source": [
    "#save the dataset of file\n",
    "df.to_csv('books_dataset.tsv', sep = '\\t', index=False)    "
   ]
  },
  {
   "cell_type": "markdown",
   "metadata": {},
   "source": [
    "### Remove Stop Word"
   ]
  },
  {
   "cell_type": "code",
   "execution_count": 34,
   "metadata": {},
   "outputs": [],
   "source": [
    "from nltk.corpus import stopwords"
   ]
  },
  {
   "cell_type": "code",
   "execution_count": 35,
   "metadata": {
    "collapsed": true
   },
   "outputs": [
    {
     "name": "stderr",
     "output_type": "stream",
     "text": [
      "[nltk_data] Downloading package stopwords to\n",
      "[nltk_data]     C:\\Users\\Alessandra\\AppData\\Roaming\\nltk_data...\n",
      "[nltk_data]   Unzipping corpora\\stopwords.zip.\n"
     ]
    }
   ],
   "source": [
    "nltk.download('stopwords')\n",
    "from nltk.tokenize import word_tokenize"
   ]
  },
  {
   "cell_type": "code",
   "execution_count": 95,
   "metadata": {},
   "outputs": [],
   "source": [
    "from nltk.tokenize import RegexpTokenizer"
   ]
  },
  {
   "cell_type": "code",
   "execution_count": 40,
   "metadata": {},
   "outputs": [
    {
     "name": "stdout",
     "output_type": "stream",
     "text": [
      "showing info https://raw.githubusercontent.com/nltk/nltk_data/gh-pages/index.xml\n"
     ]
    },
    {
     "data": {
      "text/plain": [
       "True"
      ]
     },
     "execution_count": 40,
     "metadata": {},
     "output_type": "execute_result"
    }
   ],
   "source": [
    " nltk.download()"
   ]
  },
  {
   "cell_type": "code",
   "execution_count": 36,
   "metadata": {},
   "outputs": [],
   "source": [
    "stop_words = set(stopwords.words('english'))"
   ]
  },
  {
   "cell_type": "code",
   "execution_count": 178,
   "metadata": {},
   "outputs": [],
   "source": [
    "def remove_stop_word(phrases):\n",
    "    tokenizer = RegexpTokenizer(r'[a-z]+')\n",
    "    word = tokenizer.tokenize(phrases.lower())\n",
    "    return [w for w in word if w not in stop_words]"
   ]
  },
  {
   "cell_type": "code",
   "execution_count": 179,
   "metadata": {
    "collapsed": true
   },
   "outputs": [
    {
     "name": "stderr",
     "output_type": "stream",
     "text": [
      "<ipython-input-179-a5dbe89053a5>:1: SettingWithCopyWarning: \n",
      "A value is trying to be set on a copy of a slice from a DataFrame.\n",
      "Try using .loc[row_indexer,col_indexer] = value instead\n",
      "\n",
      "See the caveats in the documentation: https://pandas.pydata.org/pandas-docs/stable/user_guide/indexing.html#returning-a-view-versus-a-copy\n",
      "  plots['words'] = plots.apply(lambda x : remove_stop_word(x['plots']), axis=1)\n"
     ]
    }
   ],
   "source": [
    "plots['words'] = plots.apply(lambda x : remove_stop_word(x['plots']), axis=1)"
   ]
  },
  {
   "cell_type": "code",
   "execution_count": 180,
   "metadata": {},
   "outputs": [
    {
     "data": {
      "text/html": [
       "<div>\n",
       "<style scoped>\n",
       "    .dataframe tbody tr th:only-of-type {\n",
       "        vertical-align: middle;\n",
       "    }\n",
       "\n",
       "    .dataframe tbody tr th {\n",
       "        vertical-align: top;\n",
       "    }\n",
       "\n",
       "    .dataframe thead th {\n",
       "        text-align: right;\n",
       "    }\n",
       "</style>\n",
       "<table border=\"1\" class=\"dataframe\">\n",
       "  <thead>\n",
       "    <tr style=\"text-align: right;\">\n",
       "      <th></th>\n",
       "      <th>plots</th>\n",
       "      <th>index</th>\n",
       "      <th>words</th>\n",
       "    </tr>\n",
       "  </thead>\n",
       "  <tbody>\n",
       "    <tr>\n",
       "      <th>0</th>\n",
       "      <td>Could you survive on your own in the wild, wit...</td>\n",
       "      <td>1</td>\n",
       "      <td>[could, survive, wild, every, one, make, sure,...</td>\n",
       "    </tr>\n",
       "    <tr>\n",
       "      <th>0</th>\n",
       "      <td>There is a door at the end of a silent corrido...</td>\n",
       "      <td>2</td>\n",
       "      <td>[door, end, silent, corridor, haunting, harry,...</td>\n",
       "    </tr>\n",
       "    <tr>\n",
       "      <th>0</th>\n",
       "      <td>The unforgettable novel of a childhood in a sl...</td>\n",
       "      <td>3</td>\n",
       "      <td>[unforgettable, novel, childhood, sleepy, sout...</td>\n",
       "    </tr>\n",
       "    <tr>\n",
       "      <th>0</th>\n",
       "      <td>Since its immediate success in 1813, Pride and...</td>\n",
       "      <td>4</td>\n",
       "      <td>[since, immediate, success, pride, prejudice, ...</td>\n",
       "    </tr>\n",
       "    <tr>\n",
       "      <th>0</th>\n",
       "      <td>About three things I was absolutely positive.F...</td>\n",
       "      <td>5</td>\n",
       "      <td>[three, things, absolutely, positive, first, e...</td>\n",
       "    </tr>\n",
       "  </tbody>\n",
       "</table>\n",
       "</div>"
      ],
      "text/plain": [
       "                                               plots  index  \\\n",
       "0  Could you survive on your own in the wild, wit...      1   \n",
       "0  There is a door at the end of a silent corrido...      2   \n",
       "0  The unforgettable novel of a childhood in a sl...      3   \n",
       "0  Since its immediate success in 1813, Pride and...      4   \n",
       "0  About three things I was absolutely positive.F...      5   \n",
       "\n",
       "                                               words  \n",
       "0  [could, survive, wild, every, one, make, sure,...  \n",
       "0  [door, end, silent, corridor, haunting, harry,...  \n",
       "0  [unforgettable, novel, childhood, sleepy, sout...  \n",
       "0  [since, immediate, success, pride, prejudice, ...  \n",
       "0  [three, things, absolutely, positive, first, e...  "
      ]
     },
     "execution_count": 180,
     "metadata": {},
     "output_type": "execute_result"
    }
   ],
   "source": [
    "plots.head()"
   ]
  },
  {
   "cell_type": "code",
   "execution_count": 181,
   "metadata": {},
   "outputs": [],
   "source": [
    "words = plots[['words', 'index']]"
   ]
  },
  {
   "cell_type": "code",
   "execution_count": 182,
   "metadata": {},
   "outputs": [
    {
     "data": {
      "text/html": [
       "<div>\n",
       "<style scoped>\n",
       "    .dataframe tbody tr th:only-of-type {\n",
       "        vertical-align: middle;\n",
       "    }\n",
       "\n",
       "    .dataframe tbody tr th {\n",
       "        vertical-align: top;\n",
       "    }\n",
       "\n",
       "    .dataframe thead th {\n",
       "        text-align: right;\n",
       "    }\n",
       "</style>\n",
       "<table border=\"1\" class=\"dataframe\">\n",
       "  <thead>\n",
       "    <tr style=\"text-align: right;\">\n",
       "      <th></th>\n",
       "      <th>words</th>\n",
       "      <th>index</th>\n",
       "    </tr>\n",
       "  </thead>\n",
       "  <tbody>\n",
       "    <tr>\n",
       "      <th>0</th>\n",
       "      <td>[could, survive, wild, every, one, make, sure,...</td>\n",
       "      <td>1</td>\n",
       "    </tr>\n",
       "    <tr>\n",
       "      <th>0</th>\n",
       "      <td>[door, end, silent, corridor, haunting, harry,...</td>\n",
       "      <td>2</td>\n",
       "    </tr>\n",
       "    <tr>\n",
       "      <th>0</th>\n",
       "      <td>[unforgettable, novel, childhood, sleepy, sout...</td>\n",
       "      <td>3</td>\n",
       "    </tr>\n",
       "    <tr>\n",
       "      <th>0</th>\n",
       "      <td>[since, immediate, success, pride, prejudice, ...</td>\n",
       "      <td>4</td>\n",
       "    </tr>\n",
       "    <tr>\n",
       "      <th>0</th>\n",
       "      <td>[three, things, absolutely, positive, first, e...</td>\n",
       "      <td>5</td>\n",
       "    </tr>\n",
       "  </tbody>\n",
       "</table>\n",
       "</div>"
      ],
      "text/plain": [
       "                                               words  index\n",
       "0  [could, survive, wild, every, one, make, sure,...      1\n",
       "0  [door, end, silent, corridor, haunting, harry,...      2\n",
       "0  [unforgettable, novel, childhood, sleepy, sout...      3\n",
       "0  [since, immediate, success, pride, prejudice, ...      4\n",
       "0  [three, things, absolutely, positive, first, e...      5"
      ]
     },
     "execution_count": 182,
     "metadata": {},
     "output_type": "execute_result"
    }
   ],
   "source": [
    "words.head()"
   ]
  },
  {
   "cell_type": "code",
   "execution_count": 183,
   "metadata": {},
   "outputs": [],
   "source": [
    "words = words.explode(column='words')"
   ]
  },
  {
   "cell_type": "code",
   "execution_count": 196,
   "metadata": {},
   "outputs": [],
   "source": [
    "inverted_index = words.groupby('words')['index'].apply(list).to_dict()"
   ]
  },
  {
   "cell_type": "code",
   "execution_count": 239,
   "metadata": {},
   "outputs": [],
   "source": [
    "keys = list(inverted_index.keys())"
   ]
  },
  {
   "cell_type": "markdown",
   "metadata": {},
   "source": [
    "Below we see a piece of the reversed index that maps each word to the relativies document id:"
   ]
  },
  {
   "cell_type": "code",
   "execution_count": 7,
   "metadata": {},
   "outputs": [
    {
     "name": "stdout",
     "output_type": "stream",
     "text": [
      "adamantine : [23332]\n",
      "adamantly : [28435]\n",
      "adamat : [6384]\n",
      "adams : [156, 283, 658, 658, 658, 658, 658, 658, 658, 658, 658, 658, 658, 658, 658, 658, 658, 658, 658, 768, 814, 1945, 2923, 3001, 3410, 3464, 3860, 4313, 4639, 4639, 4639, 4639, 4764, 5270, 5790, 6353, 6353, 7057, 7085, 7314, 7461, 8373, 9067, 9272, 9272, 9272, 9564, 9576, 9995, 20632, 20670, 20670, 20905, 20905, 21797, 22517, 22622, 22738, 22831, 23286, 23306, 23390, 23948, 24385, 25093, 25093, 25093, 25093, 25357, 25383, 25795, 25999, 26514, 26775, 27273, 27273, 27273, 27273, 27273, 27273, 27273, 27301, 28436, 28670, 28879, 29428, 29620, 29825]\n",
      "adamsdebated : [9067]\n",
      "adamson : [6414, 6414, 8530]\n",
      "adan : [26775, 27515]\n",
      "adana : [22622]\n",
      "adapt : [300, 1039, 1445, 1880, 2813, 2962, 2962, 3154, 3545, 4262, 4330, 5949, 5980, 6431, 6785, 7071, 8265, 8297, 9140, 9204, 9207, 9628, 9908, 20875, 21009, 21419, 22532, 23188, 23848, 23927, 24134, 24509, 24897, 26022, 26759, 27454, 27824, 28509, 28549, 28742, 28742, 28890, 28912, 29106, 29829]\n",
      "adaptability : [20004, 26994]\n"
     ]
    }
   ],
   "source": [
    "for k in keys[500:510]:\n",
    "    print(k,':', inverted_index[k])"
   ]
  },
  {
   "cell_type": "code",
   "execution_count": 197,
   "metadata": {},
   "outputs": [],
   "source": [
    "#save on file\n",
    "import json\n",
    "with open('inverted_index.json', 'w') as fp:\n",
    "    json.dump(inverted_index, fp)"
   ]
  },
  {
   "cell_type": "markdown",
   "metadata": {},
   "source": [
    "## 2.1.2) Execute the query"
   ]
  },
  {
   "cell_type": "code",
   "execution_count": 378,
   "metadata": {},
   "outputs": [],
   "source": [
    "import json\n",
    "import pandas as pd\n",
    "from nltk.corpus import stopwords \n",
    "from nltk.stem import PorterStemmer\n",
    "from nltk.tokenize import RegexpTokenizer"
   ]
  },
  {
   "cell_type": "code",
   "execution_count": 379,
   "metadata": {},
   "outputs": [],
   "source": [
    "pd.set_option('display.max_colwidth', None)"
   ]
  },
  {
   "cell_type": "code",
   "execution_count": 380,
   "metadata": {},
   "outputs": [],
   "source": [
    "from functools import reduce"
   ]
  },
  {
   "cell_type": "code",
   "execution_count": 381,
   "metadata": {},
   "outputs": [],
   "source": [
    "#load the file \n",
    "with open('inverted_index.json','r') as fp:\n",
    "    inverted_index = json.load(fp)"
   ]
  },
  {
   "cell_type": "code",
   "execution_count": 382,
   "metadata": {},
   "outputs": [],
   "source": [
    "#load the dateset\n",
    "dataset = pd.read_csv('books_dataset.tsv', sep='\\t', index_col=None)"
   ]
  },
  {
   "cell_type": "code",
   "execution_count": 384,
   "metadata": {},
   "outputs": [],
   "source": [
    "dataset = dataset[['title', 'plots','url', 'number']]"
   ]
  },
  {
   "cell_type": "code",
   "execution_count": 385,
   "metadata": {},
   "outputs": [],
   "source": [
    "def clean_text(text):\n",
    "    stop_words = set(stopwords.words('english'))\n",
    "    tokenizer = RegexpTokenizer(\"[a-z]+\")\n",
    "    tokens = tokenizer.tokenize(text.lower())\n",
    "    result = [word for word in tokens if not word in stop_words]\n",
    "    return tokens"
   ]
  },
  {
   "cell_type": "code",
   "execution_count": 386,
   "metadata": {},
   "outputs": [],
   "source": [
    "def search_engine_io(dataset, inverted_index):\n",
    "    query = input('Insert words to seach: ')\n",
    "    return search_engine(dataset, inverted_index,query)"
   ]
  },
  {
   "cell_type": "code",
   "execution_count": 387,
   "metadata": {},
   "outputs": [],
   "source": [
    "def search_engine(dataset, inverted_index, query):    \n",
    "    query_items = clean_text(query) #remove stop word\n",
    "    numbers_docs =[set(inverted_index[q]) for q in query_items] #get sets of number' documents for each query word\n",
    "    and_results = reduce(set.intersection, numbers_docs) #compute the overall intersections between sets\n",
    "    return and_results    "
   ]
  },
  {
   "cell_type": "code",
   "execution_count": 388,
   "metadata": {},
   "outputs": [
    {
     "name": "stdout",
     "output_type": "stream",
     "text": [
      "Insert words to seach: survival games\n"
     ]
    },
    {
     "data": {
      "text/html": [
       "<div>\n",
       "<style scoped>\n",
       "    .dataframe tbody tr th:only-of-type {\n",
       "        vertical-align: middle;\n",
       "    }\n",
       "\n",
       "    .dataframe tbody tr th {\n",
       "        vertical-align: top;\n",
       "    }\n",
       "\n",
       "    .dataframe thead th {\n",
       "        text-align: right;\n",
       "    }\n",
       "</style>\n",
       "<table border=\"1\" class=\"dataframe\">\n",
       "  <thead>\n",
       "    <tr style=\"text-align: right;\">\n",
       "      <th></th>\n",
       "      <th>title</th>\n",
       "      <th>plots</th>\n",
       "      <th>url</th>\n",
       "      <th>number</th>\n",
       "    </tr>\n",
       "  </thead>\n",
       "  <tbody>\n",
       "    <tr>\n",
       "      <th>0</th>\n",
       "      <td>The Hunger Games</td>\n",
       "      <td>Could you survive on your own in the wild, with every one out to make sure you don't live to see the morning?In the ruins of a place once known as North America lies the nation of Panem, a shining Capitol surrounded by twelve outlying districts. The Capitol is harsh and cruel and keeps the districts in line by forcing them all to send one boy and one girl between the ages of twelve and eighteen to participate in the annual Hunger Games, a fight to the death on live TV.Sixteen-year-old Katniss Everdeen, who lives alone with her mother and younger sister, regards it as a death sentence when she steps forward to take her sister's place in the Games. But Katniss has been close to dead before—and survival, for her, is second nature. Without really meaning to, she becomes a contender. But if she is to win, she will have to start making choices that weight survival against humanity and life against love.</td>\n",
       "      <td>https://www.goodreads.com/book/show/2767052-the-hunger-games</td>\n",
       "      <td>1</td>\n",
       "    </tr>\n",
       "    <tr>\n",
       "      <th>4630</th>\n",
       "      <td>The Maze Runner Trilogy (Maze Runner, #1-3)</td>\n",
       "      <td>The perfect gift for fans of The Hunger Games and Divergent, this boxed set of the paperback editions of James Dashner's New York Times bestselling series includes The Maze Runner, The Scorch Trials, and The Death Cure. The Maze Runner motion picture featuring the star of MTV's Teen Wolf, Dylan O'Brien; Kaya Scodelario; Aml Ameen; Will Poulter; and Thomas Brodie-Sangster, and hits theaters September 19, 2014 Also look for James Dashner's newest book The Eye of Minds, book one in the Mortality Doctrine series. If you ain't scared, you ain't human.  When Thomas wakes up in the lift, the only thing he can remember is his name. He's surrounded by strangers--boys whose memories are also gone. Nice to meet ya, shank. Welcome to the Glade.  Outside the towering stone walls that surround the Glade is a limitless, ever-changing maze. It's the only way out--and no one's ever made it through alive. Everything is going to change.  Then a girl arrives. The first girl ever. And the message she delivers is terrifying.  Remember. Survive. Run. Praise for the Maze Runner series:  A] mysterious survival saga that passionate fans describe as a fusion of Lord of the Flies, The Hunger Games, and Lost.--EW.com  Wonderful action writing--fast-paced...but smart and well observed.--Newsday  A] nail-biting must-read.--Seventeen.com  Breathless, cinematic action. --Publishers Weekly  Heart-pounding to the very last moment. --Kirkus Reviews  Exclamation-worthy. --Romantic Times  STAR] James Dashner's illuminating prequel The Kill Order] will thrill fans of this Maze Runner series] and prove just as exciting for readers new to the series. --Shelf Awareness, Starred</td>\n",
       "      <td>https://www.goodreads.com/review/show/857746984</td>\n",
       "      <td>4804</td>\n",
       "    </tr>\n",
       "    <tr>\n",
       "      <th>9172</th>\n",
       "      <td>Londonstani</td>\n",
       "      <td>Jas is in trouble. Because of who he is-an eighteen-year-old Asian living in London. Because of the gang he hangs out with. And because of the woman he fancies, Samira, who Jas shouldn't have taken a shining to because she is, as his pals point out, not one of his own. He's in trouble because his education, never mind his career, is going nowhere. And he's fallen into the schemes, games and prejudices of his friends on the streets of the big western city in which he lives. But Jas's main trouble is Jas himself, and he doesn't even know the trouble he's in, and try as hard as he does, he's failing to make sense of what it is to be young, male and what you might say is Indostani in a city that professes to be a melting pot but is a city of racial and religious exclusion zones. Without his parents' aspirations to assimilate, without the gifts of his more academically accomplished contemporaries, Jas is a young man without a survival plan to get by in the big city. He's out of touch, an anachronism posing as young man who's up-to-date, living free-style, making things up as he goes along in suburbs of West London.  Gautam Malkani's extraordinary comic novel portrays the lives of young Muslim, Sikh, and Hindu men in the ethnically charged enclave of one of the biggest western cities, London. A world usually-but wrongly-portrayed as the breeding ground for Islamic militants is, in actuality, a world of money (sometimes), flash cars (usually), cell phones (all the time), rap music and MTV, as well as rivalries and feuds, and the small-time crooks who exploit them. In Malkani's hilarious depiction of multiculturalism, race is no more than a proxy for masculinity, or lack of masculinity, among young men struggling to get by in a remorseless city. Just as Martin Amis and Irving Welsh captured the mood and the ethos of the eighties and nighties, twenty-nine-year-old Gautam Malkani brilliantly evokes the life of immigrants who are not immigrants in Londonstani, bringing an entirely fresh perspective to contemporary fiction as he does so.</td>\n",
       "      <td>https://www.goodreads.com/review/show/39876981</td>\n",
       "      <td>9706</td>\n",
       "    </tr>\n",
       "    <tr>\n",
       "      <th>9840</th>\n",
       "      <td>The Warden</td>\n",
       "      <td>Alice has led a normal life up until now. She wakes up finding herself trapped in a sick game of survival within the walls of an old asylum. She has to fight her way out while facing psychotic enemies, no one said they were all living psychopaths though...  When she discovers how she got there she is forced to make difficult decisions.  Will Alice survive the horror games?</td>\n",
       "      <td>https://www.goodreads.com/review/show/2054142668</td>\n",
       "      <td>20474</td>\n",
       "    </tr>\n",
       "    <tr>\n",
       "      <th>15562</th>\n",
       "      <td>Everything Beautiful Is Not Ruined</td>\n",
       "      <td>Then Ingrid traveled all over Europe with her opera star mother, Margot-Sophia. Life was beautiful and bright, and every day soared with music. Now Ingrid is on a summertime wilderness survival trek for at-risk teens: addicts, runaways, and her. She's fighting to survive crushing humiliations, physical challenges that push her to her limits, and mind games that threaten to break her. Then When the curtain fell on Margot-Sophia's singing career, they buried the past and settled into a small, painfully normal life. But Ingrid longed to let the music soar again. She wanted it so much that, for a while, nothing else mattered. Now Ingrid is never going to make it through this summer if she can't figure out why she's here, what happened to Margot-Sophia, and why the music really stopped.\"</td>\n",
       "      <td>https://www.goodreads.com/review/show/2555117352</td>\n",
       "      <td>27548</td>\n",
       "    </tr>\n",
       "    <tr>\n",
       "      <th>16429</th>\n",
       "      <td>Inside the Maze Runner: The Guide to the Glade</td>\n",
       "      <td>The first book in James Dashner’s New York Times bestselling Maze Runner series is soon to be a major motion picture. Featuring the star of MTV's Teen Wolf, Dylan O’Brien; Kaya Scodelario; Aml Ameen; Will Poulter; and Thomas Brodie-Sangster, the movie will be in theaters September 19, 2014. The Maze Runner is perfect for fans of The Hunger Games and Divergent.    Explore the Glade and uncover the secrets to the Maze in the ultimate Maze Runner movie companion book. This action-packed volume features more than 100 thrilling full-color photographs, up-close profiles of the Gladers, and details about the Glade, the Maze, and more! A must-have for fans of the Maze Runner series, who’ll want to learn all they can before The Maze Runner movie hits theaters on September, 19, 2014.   \\nPraise for the Maze Runner series:\\n   \"[A] mysterious survival saga that passionate fans describe as a fusion of Lord of the Flies, The Hunger Games, and Lost.\"—EW.com   “Wonderful action writing—fast-paced…but smart and well observed.”—Newsday   “[A] nail-biting must-read.”—Seventeen.com   “Breathless, cinematic action.” —Publishers Weekly   “Heart-pounding to the very last moment.” —Kirkus Reviews   “Exclamation-worthy.” —Romantic Times   [STAR] “James Dashner’s illuminating prequel [The Kill Order] will thrill fans of this Maze Runner [series] and prove just as exciting for readers new to the series.”—Shelf Awareness, Starred</td>\n",
       "      <td>https://www.goodreads.com/review/show/1012316501</td>\n",
       "      <td>28617</td>\n",
       "    </tr>\n",
       "    <tr>\n",
       "      <th>17480</th>\n",
       "      <td>Indian Hill</td>\n",
       "      <td>A Michael Talbot Adventure: This first story is about an ordinary boy, who grows up in relatively normal times to find himself thrust into an extra-ordinary position. Growing up in suburban Boston he enjoys the trials and tribulations that all adolescents go through. From the seemingly tyrannical mother, to girl problems to run-ins with the law. From there he escapes to college out in Colorado with his best friend, Paul, where they begin to forge new relationships with those around them. It is one girl in particular that has caught the eye of Michael and he alternately pines for her and then laments ever meeting her. It is on their true 'first' date that things go strangely askew. This is where the story truly takes a paranormal twist. Mike soon finds himself captive aboard an alien vessel, fighting for his very survival. The aliens have devised gladiator type games. The games are of two-fold importance for the aliens. One reason, being for the entertainment value, the other reason being that they want to see how combative humans are, what our weaknesses and strengths are. They want to better learn how to attack and defeat us. The battles are to the death on varying terrains that are computer generated. Follow Mike as he battles for his life and Paul has he battles to keep main stream US safe.</td>\n",
       "      <td>https://www.goodreads.com/review/show/1657572657</td>\n",
       "      <td>29953</td>\n",
       "    </tr>\n",
       "  </tbody>\n",
       "</table>\n",
       "</div>"
      ],
      "text/plain": [
       "                                                title  \\\n",
       "0                                    The Hunger Games   \n",
       "4630      The Maze Runner Trilogy (Maze Runner, #1-3)   \n",
       "9172                                      Londonstani   \n",
       "9840                                       The Warden   \n",
       "15562              Everything Beautiful Is Not Ruined   \n",
       "16429  Inside the Maze Runner: The Guide to the Glade   \n",
       "17480                                     Indian Hill   \n",
       "\n",
       "                                                                                                                                                                                                                                                                                                                                                                                                                                                                                                                                                                                                                                                                                                                                                                                                                                                                                                                                                                                                                                                                                                                                                                                                                                                                                                                                                                                                                                                                                                                                                                                                                                                                                                                                                                                                                                                                                                                                                                                                                                                                                                                                               plots  \\\n",
       "0                                                                                                                                                                                                                                                                                                                                                                                                                                                                                                                                                                                                                                                                                                                                                                                                                                                                                                                                                                                                                                                                                                                                                                                                     Could you survive on your own in the wild, with every one out to make sure you don't live to see the morning?In the ruins of a place once known as North America lies the nation of Panem, a shining Capitol surrounded by twelve outlying districts. The Capitol is harsh and cruel and keeps the districts in line by forcing them all to send one boy and one girl between the ages of twelve and eighteen to participate in the annual Hunger Games, a fight to the death on live TV.Sixteen-year-old Katniss Everdeen, who lives alone with her mother and younger sister, regards it as a death sentence when she steps forward to take her sister's place in the Games. But Katniss has been close to dead before—and survival, for her, is second nature. Without really meaning to, she becomes a contender. But if she is to win, she will have to start making choices that weight survival against humanity and life against love.   \n",
       "4630                                                                                                                                                                                                                                                                                                                                                                                                                The perfect gift for fans of The Hunger Games and Divergent, this boxed set of the paperback editions of James Dashner's New York Times bestselling series includes The Maze Runner, The Scorch Trials, and The Death Cure. The Maze Runner motion picture featuring the star of MTV's Teen Wolf, Dylan O'Brien; Kaya Scodelario; Aml Ameen; Will Poulter; and Thomas Brodie-Sangster, and hits theaters September 19, 2014 Also look for James Dashner's newest book The Eye of Minds, book one in the Mortality Doctrine series. If you ain't scared, you ain't human.  When Thomas wakes up in the lift, the only thing he can remember is his name. He's surrounded by strangers--boys whose memories are also gone. Nice to meet ya, shank. Welcome to the Glade.  Outside the towering stone walls that surround the Glade is a limitless, ever-changing maze. It's the only way out--and no one's ever made it through alive. Everything is going to change.  Then a girl arrives. The first girl ever. And the message she delivers is terrifying.  Remember. Survive. Run. Praise for the Maze Runner series:  A] mysterious survival saga that passionate fans describe as a fusion of Lord of the Flies, The Hunger Games, and Lost.--EW.com  Wonderful action writing--fast-paced...but smart and well observed.--Newsday  A] nail-biting must-read.--Seventeen.com  Breathless, cinematic action. --Publishers Weekly  Heart-pounding to the very last moment. --Kirkus Reviews  Exclamation-worthy. --Romantic Times  STAR] James Dashner's illuminating prequel The Kill Order] will thrill fans of this Maze Runner series] and prove just as exciting for readers new to the series. --Shelf Awareness, Starred   \n",
       "9172   Jas is in trouble. Because of who he is-an eighteen-year-old Asian living in London. Because of the gang he hangs out with. And because of the woman he fancies, Samira, who Jas shouldn't have taken a shining to because she is, as his pals point out, not one of his own. He's in trouble because his education, never mind his career, is going nowhere. And he's fallen into the schemes, games and prejudices of his friends on the streets of the big western city in which he lives. But Jas's main trouble is Jas himself, and he doesn't even know the trouble he's in, and try as hard as he does, he's failing to make sense of what it is to be young, male and what you might say is Indostani in a city that professes to be a melting pot but is a city of racial and religious exclusion zones. Without his parents' aspirations to assimilate, without the gifts of his more academically accomplished contemporaries, Jas is a young man without a survival plan to get by in the big city. He's out of touch, an anachronism posing as young man who's up-to-date, living free-style, making things up as he goes along in suburbs of West London.  Gautam Malkani's extraordinary comic novel portrays the lives of young Muslim, Sikh, and Hindu men in the ethnically charged enclave of one of the biggest western cities, London. A world usually-but wrongly-portrayed as the breeding ground for Islamic militants is, in actuality, a world of money (sometimes), flash cars (usually), cell phones (all the time), rap music and MTV, as well as rivalries and feuds, and the small-time crooks who exploit them. In Malkani's hilarious depiction of multiculturalism, race is no more than a proxy for masculinity, or lack of masculinity, among young men struggling to get by in a remorseless city. Just as Martin Amis and Irving Welsh captured the mood and the ethos of the eighties and nighties, twenty-nine-year-old Gautam Malkani brilliantly evokes the life of immigrants who are not immigrants in Londonstani, bringing an entirely fresh perspective to contemporary fiction as he does so.   \n",
       "9840                                                                                                                                                                                                                                                                                                                                                                                                                                                                                                                                                                                                                                                                                                                                                                                                                                                                                                                                                                                                                                                                                                                                                                                                                                                                                                                                                                                                                                                                                                                                                                                                                                                                                                                                                         Alice has led a normal life up until now. She wakes up finding herself trapped in a sick game of survival within the walls of an old asylum. She has to fight her way out while facing psychotic enemies, no one said they were all living psychopaths though...  When she discovers how she got there she is forced to make difficult decisions.  Will Alice survive the horror games?   \n",
       "15562                                                                                                                                                                                                                                                                                                                                                                                                                                                                                                                                                                                                                                                                                                                                                                                                                                                                                                                                                                                                                                                                                                                                                                                                                                                                                                                      Then Ingrid traveled all over Europe with her opera star mother, Margot-Sophia. Life was beautiful and bright, and every day soared with music. Now Ingrid is on a summertime wilderness survival trek for at-risk teens: addicts, runaways, and her. She's fighting to survive crushing humiliations, physical challenges that push her to her limits, and mind games that threaten to break her. Then When the curtain fell on Margot-Sophia's singing career, they buried the past and settled into a small, painfully normal life. But Ingrid longed to let the music soar again. She wanted it so much that, for a while, nothing else mattered. Now Ingrid is never going to make it through this summer if she can't figure out why she's here, what happened to Margot-Sophia, and why the music really stopped.\"   \n",
       "16429                                                                                                                                                                                                                                                                                                                                                                                                                                                                                                                                                                                                                                                             The first book in James Dashner’s New York Times bestselling Maze Runner series is soon to be a major motion picture. Featuring the star of MTV's Teen Wolf, Dylan O’Brien; Kaya Scodelario; Aml Ameen; Will Poulter; and Thomas Brodie-Sangster, the movie will be in theaters September 19, 2014. The Maze Runner is perfect for fans of The Hunger Games and Divergent.    Explore the Glade and uncover the secrets to the Maze in the ultimate Maze Runner movie companion book. This action-packed volume features more than 100 thrilling full-color photographs, up-close profiles of the Gladers, and details about the Glade, the Maze, and more! A must-have for fans of the Maze Runner series, who’ll want to learn all they can before The Maze Runner movie hits theaters on September, 19, 2014.   \\nPraise for the Maze Runner series:\\n   \"[A] mysterious survival saga that passionate fans describe as a fusion of Lord of the Flies, The Hunger Games, and Lost.\"—EW.com   “Wonderful action writing—fast-paced…but smart and well observed.”—Newsday   “[A] nail-biting must-read.”—Seventeen.com   “Breathless, cinematic action.” —Publishers Weekly   “Heart-pounding to the very last moment.” —Kirkus Reviews   “Exclamation-worthy.” —Romantic Times   [STAR] “James Dashner’s illuminating prequel [The Kill Order] will thrill fans of this Maze Runner [series] and prove just as exciting for readers new to the series.”—Shelf Awareness, Starred   \n",
       "17480                                                                                                                                                                                                                                                                                                                                                                                                                                                                                                                                                                                                                                                                                                                                                                             A Michael Talbot Adventure: This first story is about an ordinary boy, who grows up in relatively normal times to find himself thrust into an extra-ordinary position. Growing up in suburban Boston he enjoys the trials and tribulations that all adolescents go through. From the seemingly tyrannical mother, to girl problems to run-ins with the law. From there he escapes to college out in Colorado with his best friend, Paul, where they begin to forge new relationships with those around them. It is one girl in particular that has caught the eye of Michael and he alternately pines for her and then laments ever meeting her. It is on their true 'first' date that things go strangely askew. This is where the story truly takes a paranormal twist. Mike soon finds himself captive aboard an alien vessel, fighting for his very survival. The aliens have devised gladiator type games. The games are of two-fold importance for the aliens. One reason, being for the entertainment value, the other reason being that they want to see how combative humans are, what our weaknesses and strengths are. They want to better learn how to attack and defeat us. The battles are to the death on varying terrains that are computer generated. Follow Mike as he battles for his life and Paul has he battles to keep main stream US safe.   \n",
       "\n",
       "                                                                url  number  \n",
       "0      https://www.goodreads.com/book/show/2767052-the-hunger-games       1  \n",
       "4630                https://www.goodreads.com/review/show/857746984    4804  \n",
       "9172                 https://www.goodreads.com/review/show/39876981    9706  \n",
       "9840               https://www.goodreads.com/review/show/2054142668   20474  \n",
       "15562              https://www.goodreads.com/review/show/2555117352   27548  \n",
       "16429              https://www.goodreads.com/review/show/1012316501   28617  \n",
       "17480              https://www.goodreads.com/review/show/1657572657   29953  "
      ]
     },
     "execution_count": 388,
     "metadata": {},
     "output_type": "execute_result"
    }
   ],
   "source": [
    "results = search_engine_io(dataset, inverted_index) # survival, games\n",
    "dataset[dataset.number.isin(results)]"
   ]
  },
  {
   "cell_type": "code",
   "execution_count": null,
   "metadata": {},
   "outputs": [],
   "source": []
  },
  {
   "cell_type": "markdown",
   "metadata": {},
   "source": [
    "# 2.2) Conjunctive query & Ranking score"
   ]
  },
  {
   "cell_type": "markdown",
   "metadata": {},
   "source": [
    "For the second search engine, given a query, we get the top-5 documents related to the query,\n",
    "finding all the documents that contains all the words in the query, sort them by their similarity with the query using a heap data structure for maintaining the top-k documents."
   ]
  },
  {
   "cell_type": "markdown",
   "metadata": {},
   "source": [
    "## 2.2.1 Inverted index"
   ]
  },
  {
   "cell_type": "code",
   "execution_count": 1,
   "metadata": {
    "ExecuteTime": {
     "end_time": "2020-12-06T10:37:04.926512Z",
     "start_time": "2020-12-06T10:37:04.248516Z"
    }
   },
   "outputs": [],
   "source": [
    "import pandas as pd\n",
    "import heapq\n",
    "import os  \n",
    "import sys  \n",
    "import json\n",
    "import numpy as np"
   ]
  },
  {
   "cell_type": "code",
   "execution_count": 2,
   "metadata": {
    "ExecuteTime": {
     "end_time": "2020-12-06T10:37:05.339595Z",
     "start_time": "2020-12-06T10:37:04.932514Z"
    }
   },
   "outputs": [],
   "source": [
    "dataset = pd.read_csv('books_dataset.tsv', sep='\\t', index_col=None)"
   ]
  },
  {
   "cell_type": "code",
   "execution_count": 3,
   "metadata": {
    "ExecuteTime": {
     "end_time": "2020-12-06T10:37:05.399525Z",
     "start_time": "2020-12-06T10:37:05.345513Z"
    }
   },
   "outputs": [
    {
     "data": {
      "text/html": [
       "<div>\n",
       "<style scoped>\n",
       "    .dataframe tbody tr th:only-of-type {\n",
       "        vertical-align: middle;\n",
       "    }\n",
       "\n",
       "    .dataframe tbody tr th {\n",
       "        vertical-align: top;\n",
       "    }\n",
       "\n",
       "    .dataframe thead th {\n",
       "        text-align: right;\n",
       "    }\n",
       "</style>\n",
       "<table border=\"1\" class=\"dataframe\">\n",
       "  <thead>\n",
       "    <tr style=\"text-align: right;\">\n",
       "      <th></th>\n",
       "      <th>title</th>\n",
       "      <th>series</th>\n",
       "      <th>author</th>\n",
       "      <th>ratingValue</th>\n",
       "      <th>ratingCount</th>\n",
       "      <th>plots</th>\n",
       "      <th>reviewCount</th>\n",
       "      <th>date</th>\n",
       "      <th>characters</th>\n",
       "      <th>settings</th>\n",
       "      <th>url</th>\n",
       "      <th>index</th>\n",
       "    </tr>\n",
       "  </thead>\n",
       "  <tbody>\n",
       "    <tr>\n",
       "      <th>0</th>\n",
       "      <td>The Hunger Games</td>\n",
       "      <td>The Hunger Games #1</td>\n",
       "      <td>Suzanne Collins</td>\n",
       "      <td>4.33</td>\n",
       "      <td>6414062.0</td>\n",
       "      <td>Could you survive on your own in the wild, wit...</td>\n",
       "      <td>374.0</td>\n",
       "      <td>September 14th 2008</td>\n",
       "      <td>Katniss Everdeen, Peeta Mellark, Cato (Hunger ...</td>\n",
       "      <td>District 12 Panem, Capitol Panem, Panem</td>\n",
       "      <td>https://www.goodreads.com/book/show/2767052-th...</td>\n",
       "      <td>1</td>\n",
       "    </tr>\n",
       "    <tr>\n",
       "      <th>1</th>\n",
       "      <td>Harry Potter and the Order of the Phoenix</td>\n",
       "      <td>Harry Potter #5</td>\n",
       "      <td>J.K. Rowling</td>\n",
       "      <td>4.50</td>\n",
       "      <td>2528402.0</td>\n",
       "      <td>There is a door at the end of a silent corrido...</td>\n",
       "      <td>870.0</td>\n",
       "      <td>September 2004</td>\n",
       "      <td>Sirius Black, Draco Malfoy, Ron Weasley, Petun...</td>\n",
       "      <td>Hogwarts School of Witchcraft and Wizardry, Lo...</td>\n",
       "      <td>https://www.goodreads.com/book/show/2.Harry_Po...</td>\n",
       "      <td>2</td>\n",
       "    </tr>\n",
       "    <tr>\n",
       "      <th>2</th>\n",
       "      <td>To Kill a Mockingbird</td>\n",
       "      <td>To Kill a Mockingbird</td>\n",
       "      <td>Harper Lee</td>\n",
       "      <td>4.28</td>\n",
       "      <td>4532078.0</td>\n",
       "      <td>The unforgettable novel of a childhood in a sl...</td>\n",
       "      <td>324.0</td>\n",
       "      <td>May 23rd 2006</td>\n",
       "      <td>Scout Finch, Atticus Finch, Jem Finch, Arthur ...</td>\n",
       "      <td>Maycomb Alabama</td>\n",
       "      <td>https://www.goodreads.com/book/show/2657.To_Ki...</td>\n",
       "      <td>3</td>\n",
       "    </tr>\n",
       "    <tr>\n",
       "      <th>3</th>\n",
       "      <td>Pride and Prejudice</td>\n",
       "      <td>NaN</td>\n",
       "      <td>Jane Austen</td>\n",
       "      <td>4.26</td>\n",
       "      <td>3021524.0</td>\n",
       "      <td>Since its immediate success in 1813, Pride and...</td>\n",
       "      <td>279.0</td>\n",
       "      <td>October 10th 2000</td>\n",
       "      <td>Mr. Bennet, Mrs. Bennet, Jane Bennet, Elizabet...</td>\n",
       "      <td>United Kingdom, Derbyshire England, England, H...</td>\n",
       "      <td>https://www.goodreads.com/book/show/1885.Pride...</td>\n",
       "      <td>4</td>\n",
       "    </tr>\n",
       "    <tr>\n",
       "      <th>4</th>\n",
       "      <td>Twilight</td>\n",
       "      <td>The Twilight Saga #1</td>\n",
       "      <td>Stephenie Meyer</td>\n",
       "      <td>3.60</td>\n",
       "      <td>4994637.0</td>\n",
       "      <td>About three things I was absolutely positive.F...</td>\n",
       "      <td>501.0</td>\n",
       "      <td>September 6th 2006</td>\n",
       "      <td>Edward Cullen, Jacob Black, Laurent, Renee, Be...</td>\n",
       "      <td>Forks Washington, Phoenix Arizona, Washington ...</td>\n",
       "      <td>https://www.goodreads.com/book/show/41865.Twil...</td>\n",
       "      <td>5</td>\n",
       "    </tr>\n",
       "  </tbody>\n",
       "</table>\n",
       "</div>"
      ],
      "text/plain": [
       "                                       title                 series  \\\n",
       "0                           The Hunger Games    The Hunger Games #1   \n",
       "1  Harry Potter and the Order of the Phoenix        Harry Potter #5   \n",
       "2                      To Kill a Mockingbird  To Kill a Mockingbird   \n",
       "3                        Pride and Prejudice                    NaN   \n",
       "4                                   Twilight   The Twilight Saga #1   \n",
       "\n",
       "            author  ratingValue  ratingCount  \\\n",
       "0  Suzanne Collins         4.33    6414062.0   \n",
       "1     J.K. Rowling         4.50    2528402.0   \n",
       "2       Harper Lee         4.28    4532078.0   \n",
       "3      Jane Austen         4.26    3021524.0   \n",
       "4  Stephenie Meyer         3.60    4994637.0   \n",
       "\n",
       "                                               plots  reviewCount  \\\n",
       "0  Could you survive on your own in the wild, wit...        374.0   \n",
       "1  There is a door at the end of a silent corrido...        870.0   \n",
       "2  The unforgettable novel of a childhood in a sl...        324.0   \n",
       "3  Since its immediate success in 1813, Pride and...        279.0   \n",
       "4  About three things I was absolutely positive.F...        501.0   \n",
       "\n",
       "                  date                                         characters  \\\n",
       "0  September 14th 2008  Katniss Everdeen, Peeta Mellark, Cato (Hunger ...   \n",
       "1       September 2004  Sirius Black, Draco Malfoy, Ron Weasley, Petun...   \n",
       "2        May 23rd 2006  Scout Finch, Atticus Finch, Jem Finch, Arthur ...   \n",
       "3    October 10th 2000  Mr. Bennet, Mrs. Bennet, Jane Bennet, Elizabet...   \n",
       "4   September 6th 2006  Edward Cullen, Jacob Black, Laurent, Renee, Be...   \n",
       "\n",
       "                                            settings  \\\n",
       "0            District 12 Panem, Capitol Panem, Panem   \n",
       "1  Hogwarts School of Witchcraft and Wizardry, Lo...   \n",
       "2                                    Maycomb Alabama   \n",
       "3  United Kingdom, Derbyshire England, England, H...   \n",
       "4  Forks Washington, Phoenix Arizona, Washington ...   \n",
       "\n",
       "                                                 url  index  \n",
       "0  https://www.goodreads.com/book/show/2767052-th...      1  \n",
       "1  https://www.goodreads.com/book/show/2.Harry_Po...      2  \n",
       "2  https://www.goodreads.com/book/show/2657.To_Ki...      3  \n",
       "3  https://www.goodreads.com/book/show/1885.Pride...      4  \n",
       "4  https://www.goodreads.com/book/show/41865.Twil...      5  "
      ]
     },
     "execution_count": 3,
     "metadata": {},
     "output_type": "execute_result"
    }
   ],
   "source": [
    "dataset.head(5)"
   ]
  },
  {
   "cell_type": "code",
   "execution_count": 4,
   "metadata": {
    "ExecuteTime": {
     "end_time": "2020-12-06T10:37:05.428511Z",
     "start_time": "2020-12-06T10:37:05.404514Z"
    }
   },
   "outputs": [
    {
     "data": {
      "text/html": [
       "<div>\n",
       "<style scoped>\n",
       "    .dataframe tbody tr th:only-of-type {\n",
       "        vertical-align: middle;\n",
       "    }\n",
       "\n",
       "    .dataframe tbody tr th {\n",
       "        vertical-align: top;\n",
       "    }\n",
       "\n",
       "    .dataframe thead th {\n",
       "        text-align: right;\n",
       "    }\n",
       "</style>\n",
       "<table border=\"1\" class=\"dataframe\">\n",
       "  <thead>\n",
       "    <tr style=\"text-align: right;\">\n",
       "      <th></th>\n",
       "      <th>title</th>\n",
       "      <th>plots</th>\n",
       "      <th>author</th>\n",
       "      <th>characters</th>\n",
       "      <th>settings</th>\n",
       "      <th>url</th>\n",
       "      <th>index</th>\n",
       "    </tr>\n",
       "  </thead>\n",
       "  <tbody>\n",
       "    <tr>\n",
       "      <th>0</th>\n",
       "      <td>The Hunger Games</td>\n",
       "      <td>Could you survive on your own in the wild, wit...</td>\n",
       "      <td>Suzanne Collins</td>\n",
       "      <td>Katniss Everdeen, Peeta Mellark, Cato (Hunger ...</td>\n",
       "      <td>District 12 Panem, Capitol Panem, Panem</td>\n",
       "      <td>https://www.goodreads.com/book/show/2767052-th...</td>\n",
       "      <td>1</td>\n",
       "    </tr>\n",
       "    <tr>\n",
       "      <th>1</th>\n",
       "      <td>Harry Potter and the Order of the Phoenix</td>\n",
       "      <td>There is a door at the end of a silent corrido...</td>\n",
       "      <td>J.K. Rowling</td>\n",
       "      <td>Sirius Black, Draco Malfoy, Ron Weasley, Petun...</td>\n",
       "      <td>Hogwarts School of Witchcraft and Wizardry, Lo...</td>\n",
       "      <td>https://www.goodreads.com/book/show/2.Harry_Po...</td>\n",
       "      <td>2</td>\n",
       "    </tr>\n",
       "    <tr>\n",
       "      <th>2</th>\n",
       "      <td>To Kill a Mockingbird</td>\n",
       "      <td>The unforgettable novel of a childhood in a sl...</td>\n",
       "      <td>Harper Lee</td>\n",
       "      <td>Scout Finch, Atticus Finch, Jem Finch, Arthur ...</td>\n",
       "      <td>Maycomb Alabama</td>\n",
       "      <td>https://www.goodreads.com/book/show/2657.To_Ki...</td>\n",
       "      <td>3</td>\n",
       "    </tr>\n",
       "    <tr>\n",
       "      <th>3</th>\n",
       "      <td>Pride and Prejudice</td>\n",
       "      <td>Since its immediate success in 1813, Pride and...</td>\n",
       "      <td>Jane Austen</td>\n",
       "      <td>Mr. Bennet, Mrs. Bennet, Jane Bennet, Elizabet...</td>\n",
       "      <td>United Kingdom, Derbyshire England, England, H...</td>\n",
       "      <td>https://www.goodreads.com/book/show/1885.Pride...</td>\n",
       "      <td>4</td>\n",
       "    </tr>\n",
       "    <tr>\n",
       "      <th>4</th>\n",
       "      <td>Twilight</td>\n",
       "      <td>About three things I was absolutely positive.F...</td>\n",
       "      <td>Stephenie Meyer</td>\n",
       "      <td>Edward Cullen, Jacob Black, Laurent, Renee, Be...</td>\n",
       "      <td>Forks Washington, Phoenix Arizona, Washington ...</td>\n",
       "      <td>https://www.goodreads.com/book/show/41865.Twil...</td>\n",
       "      <td>5</td>\n",
       "    </tr>\n",
       "  </tbody>\n",
       "</table>\n",
       "</div>"
      ],
      "text/plain": [
       "                                       title  \\\n",
       "0                           The Hunger Games   \n",
       "1  Harry Potter and the Order of the Phoenix   \n",
       "2                      To Kill a Mockingbird   \n",
       "3                        Pride and Prejudice   \n",
       "4                                   Twilight   \n",
       "\n",
       "                                               plots           author  \\\n",
       "0  Could you survive on your own in the wild, wit...  Suzanne Collins   \n",
       "1  There is a door at the end of a silent corrido...     J.K. Rowling   \n",
       "2  The unforgettable novel of a childhood in a sl...       Harper Lee   \n",
       "3  Since its immediate success in 1813, Pride and...      Jane Austen   \n",
       "4  About three things I was absolutely positive.F...  Stephenie Meyer   \n",
       "\n",
       "                                          characters  \\\n",
       "0  Katniss Everdeen, Peeta Mellark, Cato (Hunger ...   \n",
       "1  Sirius Black, Draco Malfoy, Ron Weasley, Petun...   \n",
       "2  Scout Finch, Atticus Finch, Jem Finch, Arthur ...   \n",
       "3  Mr. Bennet, Mrs. Bennet, Jane Bennet, Elizabet...   \n",
       "4  Edward Cullen, Jacob Black, Laurent, Renee, Be...   \n",
       "\n",
       "                                            settings  \\\n",
       "0            District 12 Panem, Capitol Panem, Panem   \n",
       "1  Hogwarts School of Witchcraft and Wizardry, Lo...   \n",
       "2                                    Maycomb Alabama   \n",
       "3  United Kingdom, Derbyshire England, England, H...   \n",
       "4  Forks Washington, Phoenix Arizona, Washington ...   \n",
       "\n",
       "                                                 url  index  \n",
       "0  https://www.goodreads.com/book/show/2767052-th...      1  \n",
       "1  https://www.goodreads.com/book/show/2.Harry_Po...      2  \n",
       "2  https://www.goodreads.com/book/show/2657.To_Ki...      3  \n",
       "3  https://www.goodreads.com/book/show/1885.Pride...      4  \n",
       "4  https://www.goodreads.com/book/show/41865.Twil...      5  "
      ]
     },
     "execution_count": 4,
     "metadata": {},
     "output_type": "execute_result"
    }
   ],
   "source": [
    "df = dataset[['title','plots','author','characters','settings','url','index']]\n",
    "df.head(5)"
   ]
  },
  {
   "cell_type": "code",
   "execution_count": 5,
   "metadata": {
    "ExecuteTime": {
     "end_time": "2020-12-06T10:37:05.450513Z",
     "start_time": "2020-12-06T10:37:05.434523Z"
    }
   },
   "outputs": [
    {
     "data": {
      "text/plain": [
       "title             1\n",
       "plots             0\n",
       "author            1\n",
       "characters    11070\n",
       "settings      12235\n",
       "url               2\n",
       "index             0\n",
       "dtype: int64"
      ]
     },
     "execution_count": 5,
     "metadata": {},
     "output_type": "execute_result"
    }
   ],
   "source": [
    "df.isnull().sum()"
   ]
  },
  {
   "cell_type": "code",
   "execution_count": 6,
   "metadata": {
    "ExecuteTime": {
     "end_time": "2020-12-06T10:37:05.468511Z",
     "start_time": "2020-12-06T10:37:05.452512Z"
    },
    "collapsed": true
   },
   "outputs": [
    {
     "name": "stderr",
     "output_type": "stream",
     "text": [
      "C:\\Users\\14193\\anaconda3\\lib\\site-packages\\pandas\\core\\series.py:4517: SettingWithCopyWarning: \n",
      "A value is trying to be set on a copy of a slice from a DataFrame\n",
      "\n",
      "See the caveats in the documentation: https://pandas.pydata.org/pandas-docs/stable/user_guide/indexing.html#returning-a-view-versus-a-copy\n",
      "  return super().fillna(\n"
     ]
    }
   ],
   "source": [
    "df['title'].fillna('', inplace=True)\n",
    "df['url'].fillna('', inplace=True)\n",
    "df['author'].fillna('', inplace=True)\n",
    "df['characters'].fillna('', inplace=True)\n",
    "df['settings'].fillna('', inplace=True)"
   ]
  },
  {
   "cell_type": "code",
   "execution_count": 7,
   "metadata": {
    "ExecuteTime": {
     "end_time": "2020-12-06T10:37:05.480533Z",
     "start_time": "2020-12-06T10:37:05.470517Z"
    }
   },
   "outputs": [
    {
     "data": {
      "text/plain": [
       "title         0\n",
       "plots         0\n",
       "author        0\n",
       "characters    0\n",
       "settings      0\n",
       "url           0\n",
       "index         0\n",
       "dtype: int64"
      ]
     },
     "execution_count": 7,
     "metadata": {},
     "output_type": "execute_result"
    }
   ],
   "source": [
    "df.isnull().sum()"
   ]
  },
  {
   "cell_type": "code",
   "execution_count": 8,
   "metadata": {
    "ExecuteTime": {
     "end_time": "2020-12-06T10:37:07.902588Z",
     "start_time": "2020-12-06T10:37:05.484511Z"
    }
   },
   "outputs": [],
   "source": [
    "from nltk.corpus import stopwords\n",
    "from nltk.tokenize import word_tokenize\n",
    "from nltk.tokenize import RegexpTokenizer"
   ]
  },
  {
   "cell_type": "code",
   "execution_count": 9,
   "metadata": {
    "ExecuteTime": {
     "end_time": "2020-12-06T10:37:07.922511Z",
     "start_time": "2020-12-06T10:37:07.905511Z"
    }
   },
   "outputs": [],
   "source": [
    "stop_words = set(stopwords.words('english'))"
   ]
  },
  {
   "cell_type": "code",
   "execution_count": 10,
   "metadata": {
    "ExecuteTime": {
     "end_time": "2020-12-06T10:37:07.929523Z",
     "start_time": "2020-12-06T10:37:07.924513Z"
    }
   },
   "outputs": [],
   "source": [
    "def remove_stop_word(phrases):\n",
    "    tokenizer = RegexpTokenizer(r'[a-z]+')\n",
    "    word = tokenizer.tokenize(phrases.lower())\n",
    "    return [w for w in word if w not in stop_words]"
   ]
  },
  {
   "cell_type": "code",
   "execution_count": 11,
   "metadata": {
    "ExecuteTime": {
     "end_time": "2020-12-06T10:37:11.676513Z",
     "start_time": "2020-12-06T10:37:07.937512Z"
    },
    "collapsed": true
   },
   "outputs": [
    {
     "name": "stderr",
     "output_type": "stream",
     "text": [
      "<ipython-input-11-5473df57246b>:1: SettingWithCopyWarning: \n",
      "A value is trying to be set on a copy of a slice from a DataFrame.\n",
      "Try using .loc[row_indexer,col_indexer] = value instead\n",
      "\n",
      "See the caveats in the documentation: https://pandas.pydata.org/pandas-docs/stable/user_guide/indexing.html#returning-a-view-versus-a-copy\n",
      "  df['title'] = df.apply(lambda x : remove_stop_word(x['title']), axis=1)\n",
      "<ipython-input-11-5473df57246b>:2: SettingWithCopyWarning: \n",
      "A value is trying to be set on a copy of a slice from a DataFrame.\n",
      "Try using .loc[row_indexer,col_indexer] = value instead\n",
      "\n",
      "See the caveats in the documentation: https://pandas.pydata.org/pandas-docs/stable/user_guide/indexing.html#returning-a-view-versus-a-copy\n",
      "  df['plots'] = df.apply(lambda x : remove_stop_word(x['plots']), axis=1)\n",
      "<ipython-input-11-5473df57246b>:3: SettingWithCopyWarning: \n",
      "A value is trying to be set on a copy of a slice from a DataFrame.\n",
      "Try using .loc[row_indexer,col_indexer] = value instead\n",
      "\n",
      "See the caveats in the documentation: https://pandas.pydata.org/pandas-docs/stable/user_guide/indexing.html#returning-a-view-versus-a-copy\n",
      "  df['author'] = df.apply(lambda x : remove_stop_word(x['author']), axis=1)\n",
      "<ipython-input-11-5473df57246b>:4: SettingWithCopyWarning: \n",
      "A value is trying to be set on a copy of a slice from a DataFrame.\n",
      "Try using .loc[row_indexer,col_indexer] = value instead\n",
      "\n",
      "See the caveats in the documentation: https://pandas.pydata.org/pandas-docs/stable/user_guide/indexing.html#returning-a-view-versus-a-copy\n",
      "  df['characters'] = df.apply(lambda x : remove_stop_word(x['characters']), axis=1)\n",
      "<ipython-input-11-5473df57246b>:5: SettingWithCopyWarning: \n",
      "A value is trying to be set on a copy of a slice from a DataFrame.\n",
      "Try using .loc[row_indexer,col_indexer] = value instead\n",
      "\n",
      "See the caveats in the documentation: https://pandas.pydata.org/pandas-docs/stable/user_guide/indexing.html#returning-a-view-versus-a-copy\n",
      "  df['settings'] = df.apply(lambda x : remove_stop_word(x['settings']), axis=1)\n"
     ]
    }
   ],
   "source": [
    "df['title'] = df.apply(lambda x : remove_stop_word(x['title']), axis=1)\n",
    "df['plots'] = df.apply(lambda x : remove_stop_word(x['plots']), axis=1)\n",
    "df['author'] = df.apply(lambda x : remove_stop_word(x['author']), axis=1)\n",
    "df['characters'] = df.apply(lambda x : remove_stop_word(x['characters']), axis=1)\n",
    "df['settings'] = df.apply(lambda x : remove_stop_word(x['settings']), axis=1)"
   ]
  },
  {
   "cell_type": "code",
   "execution_count": 12,
   "metadata": {
    "ExecuteTime": {
     "end_time": "2020-12-06T10:37:11.721515Z",
     "start_time": "2020-12-06T10:37:11.683512Z"
    }
   },
   "outputs": [
    {
     "data": {
      "text/html": [
       "<div>\n",
       "<style scoped>\n",
       "    .dataframe tbody tr th:only-of-type {\n",
       "        vertical-align: middle;\n",
       "    }\n",
       "\n",
       "    .dataframe tbody tr th {\n",
       "        vertical-align: top;\n",
       "    }\n",
       "\n",
       "    .dataframe thead th {\n",
       "        text-align: right;\n",
       "    }\n",
       "</style>\n",
       "<table border=\"1\" class=\"dataframe\">\n",
       "  <thead>\n",
       "    <tr style=\"text-align: right;\">\n",
       "      <th></th>\n",
       "      <th>title</th>\n",
       "      <th>plots</th>\n",
       "      <th>author</th>\n",
       "      <th>characters</th>\n",
       "      <th>settings</th>\n",
       "      <th>url</th>\n",
       "      <th>index</th>\n",
       "    </tr>\n",
       "  </thead>\n",
       "  <tbody>\n",
       "    <tr>\n",
       "      <th>0</th>\n",
       "      <td>[hunger, games]</td>\n",
       "      <td>[could, survive, wild, every, one, make, sure,...</td>\n",
       "      <td>[suzanne, collins]</td>\n",
       "      <td>[katniss, everdeen, peeta, mellark, cato, hung...</td>\n",
       "      <td>[district, panem, capitol, panem, panem]</td>\n",
       "      <td>https://www.goodreads.com/book/show/2767052-th...</td>\n",
       "      <td>1</td>\n",
       "    </tr>\n",
       "    <tr>\n",
       "      <th>1</th>\n",
       "      <td>[harry, potter, order, phoenix]</td>\n",
       "      <td>[door, end, silent, corridor, haunting, harry,...</td>\n",
       "      <td>[j, k, rowling]</td>\n",
       "      <td>[sirius, black, draco, malfoy, ron, weasley, p...</td>\n",
       "      <td>[hogwarts, school, witchcraft, wizardry, londo...</td>\n",
       "      <td>https://www.goodreads.com/book/show/2.Harry_Po...</td>\n",
       "      <td>2</td>\n",
       "    </tr>\n",
       "    <tr>\n",
       "      <th>2</th>\n",
       "      <td>[kill, mockingbird]</td>\n",
       "      <td>[unforgettable, novel, childhood, sleepy, sout...</td>\n",
       "      <td>[harper, lee]</td>\n",
       "      <td>[scout, finch, atticus, finch, jem, finch, art...</td>\n",
       "      <td>[maycomb, alabama]</td>\n",
       "      <td>https://www.goodreads.com/book/show/2657.To_Ki...</td>\n",
       "      <td>3</td>\n",
       "    </tr>\n",
       "    <tr>\n",
       "      <th>3</th>\n",
       "      <td>[pride, prejudice]</td>\n",
       "      <td>[since, immediate, success, pride, prejudice, ...</td>\n",
       "      <td>[jane, austen]</td>\n",
       "      <td>[mr, bennet, mrs, bennet, jane, bennet, elizab...</td>\n",
       "      <td>[united, kingdom, derbyshire, england, england...</td>\n",
       "      <td>https://www.goodreads.com/book/show/1885.Pride...</td>\n",
       "      <td>4</td>\n",
       "    </tr>\n",
       "    <tr>\n",
       "      <th>4</th>\n",
       "      <td>[twilight]</td>\n",
       "      <td>[three, things, absolutely, positive, first, e...</td>\n",
       "      <td>[stephenie, meyer]</td>\n",
       "      <td>[edward, cullen, jacob, black, laurent, renee,...</td>\n",
       "      <td>[forks, washington, phoenix, arizona, washingt...</td>\n",
       "      <td>https://www.goodreads.com/book/show/41865.Twil...</td>\n",
       "      <td>5</td>\n",
       "    </tr>\n",
       "  </tbody>\n",
       "</table>\n",
       "</div>"
      ],
      "text/plain": [
       "                             title  \\\n",
       "0                  [hunger, games]   \n",
       "1  [harry, potter, order, phoenix]   \n",
       "2              [kill, mockingbird]   \n",
       "3               [pride, prejudice]   \n",
       "4                       [twilight]   \n",
       "\n",
       "                                               plots              author  \\\n",
       "0  [could, survive, wild, every, one, make, sure,...  [suzanne, collins]   \n",
       "1  [door, end, silent, corridor, haunting, harry,...     [j, k, rowling]   \n",
       "2  [unforgettable, novel, childhood, sleepy, sout...       [harper, lee]   \n",
       "3  [since, immediate, success, pride, prejudice, ...      [jane, austen]   \n",
       "4  [three, things, absolutely, positive, first, e...  [stephenie, meyer]   \n",
       "\n",
       "                                          characters  \\\n",
       "0  [katniss, everdeen, peeta, mellark, cato, hung...   \n",
       "1  [sirius, black, draco, malfoy, ron, weasley, p...   \n",
       "2  [scout, finch, atticus, finch, jem, finch, art...   \n",
       "3  [mr, bennet, mrs, bennet, jane, bennet, elizab...   \n",
       "4  [edward, cullen, jacob, black, laurent, renee,...   \n",
       "\n",
       "                                            settings  \\\n",
       "0           [district, panem, capitol, panem, panem]   \n",
       "1  [hogwarts, school, witchcraft, wizardry, londo...   \n",
       "2                                 [maycomb, alabama]   \n",
       "3  [united, kingdom, derbyshire, england, england...   \n",
       "4  [forks, washington, phoenix, arizona, washingt...   \n",
       "\n",
       "                                                 url  index  \n",
       "0  https://www.goodreads.com/book/show/2767052-th...      1  \n",
       "1  https://www.goodreads.com/book/show/2.Harry_Po...      2  \n",
       "2  https://www.goodreads.com/book/show/2657.To_Ki...      3  \n",
       "3  https://www.goodreads.com/book/show/1885.Pride...      4  \n",
       "4  https://www.goodreads.com/book/show/41865.Twil...      5  "
      ]
     },
     "execution_count": 12,
     "metadata": {},
     "output_type": "execute_result"
    }
   ],
   "source": [
    "df.head()"
   ]
  },
  {
   "cell_type": "code",
   "execution_count": 13,
   "metadata": {
    "ExecuteTime": {
     "end_time": "2020-12-06T10:37:11.733514Z",
     "start_time": "2020-12-06T10:37:11.724512Z"
    }
   },
   "outputs": [
    {
     "data": {
      "text/plain": [
       "list"
      ]
     },
     "execution_count": 13,
     "metadata": {},
     "output_type": "execute_result"
    }
   ],
   "source": [
    "type(df['title'][0])"
   ]
  },
  {
   "cell_type": "markdown",
   "metadata": {},
   "source": [
    "> Combining all words from \"title\", \"plots\", \"author\", \"character\" and \"settings\" as a words list."
   ]
  },
  {
   "cell_type": "code",
   "execution_count": 14,
   "metadata": {
    "ExecuteTime": {
     "end_time": "2020-12-06T10:37:13.252516Z",
     "start_time": "2020-12-06T10:37:11.736513Z"
    }
   },
   "outputs": [
    {
     "name": "stderr",
     "output_type": "stream",
     "text": [
      "<ipython-input-14-1ca1c0426f1d>:21: SettingWithCopyWarning: \n",
      "A value is trying to be set on a copy of a slice from a DataFrame.\n",
      "Try using .loc[row_indexer,col_indexer] = value instead\n",
      "\n",
      "See the caveats in the documentation: https://pandas.pydata.org/pandas-docs/stable/user_guide/indexing.html#returning-a-view-versus-a-copy\n",
      "  df[\"All Words\"] = pd.Series(all_words)\n"
     ]
    },
    {
     "data": {
      "text/html": [
       "<div>\n",
       "<style scoped>\n",
       "    .dataframe tbody tr th:only-of-type {\n",
       "        vertical-align: middle;\n",
       "    }\n",
       "\n",
       "    .dataframe tbody tr th {\n",
       "        vertical-align: top;\n",
       "    }\n",
       "\n",
       "    .dataframe thead th {\n",
       "        text-align: right;\n",
       "    }\n",
       "</style>\n",
       "<table border=\"1\" class=\"dataframe\">\n",
       "  <thead>\n",
       "    <tr style=\"text-align: right;\">\n",
       "      <th></th>\n",
       "      <th>title</th>\n",
       "      <th>plots</th>\n",
       "      <th>author</th>\n",
       "      <th>characters</th>\n",
       "      <th>settings</th>\n",
       "      <th>url</th>\n",
       "      <th>index</th>\n",
       "      <th>All Words</th>\n",
       "    </tr>\n",
       "  </thead>\n",
       "  <tbody>\n",
       "    <tr>\n",
       "      <th>0</th>\n",
       "      <td>[hunger, games]</td>\n",
       "      <td>[could, survive, wild, every, one, make, sure,...</td>\n",
       "      <td>[suzanne, collins]</td>\n",
       "      <td>[katniss, everdeen, peeta, mellark, cato, hung...</td>\n",
       "      <td>[district, panem, capitol, panem, panem]</td>\n",
       "      <td>https://www.goodreads.com/book/show/2767052-th...</td>\n",
       "      <td>1</td>\n",
       "      <td>[hunger, games, could, survive, wild, every, o...</td>\n",
       "    </tr>\n",
       "    <tr>\n",
       "      <th>1</th>\n",
       "      <td>[harry, potter, order, phoenix]</td>\n",
       "      <td>[door, end, silent, corridor, haunting, harry,...</td>\n",
       "      <td>[j, k, rowling]</td>\n",
       "      <td>[sirius, black, draco, malfoy, ron, weasley, p...</td>\n",
       "      <td>[hogwarts, school, witchcraft, wizardry, londo...</td>\n",
       "      <td>https://www.goodreads.com/book/show/2.Harry_Po...</td>\n",
       "      <td>2</td>\n",
       "      <td>[harry, potter, order, phoenix, door, end, sil...</td>\n",
       "    </tr>\n",
       "    <tr>\n",
       "      <th>2</th>\n",
       "      <td>[kill, mockingbird]</td>\n",
       "      <td>[unforgettable, novel, childhood, sleepy, sout...</td>\n",
       "      <td>[harper, lee]</td>\n",
       "      <td>[scout, finch, atticus, finch, jem, finch, art...</td>\n",
       "      <td>[maycomb, alabama]</td>\n",
       "      <td>https://www.goodreads.com/book/show/2657.To_Ki...</td>\n",
       "      <td>3</td>\n",
       "      <td>[kill, mockingbird, unforgettable, novel, chil...</td>\n",
       "    </tr>\n",
       "    <tr>\n",
       "      <th>3</th>\n",
       "      <td>[pride, prejudice]</td>\n",
       "      <td>[since, immediate, success, pride, prejudice, ...</td>\n",
       "      <td>[jane, austen]</td>\n",
       "      <td>[mr, bennet, mrs, bennet, jane, bennet, elizab...</td>\n",
       "      <td>[united, kingdom, derbyshire, england, england...</td>\n",
       "      <td>https://www.goodreads.com/book/show/1885.Pride...</td>\n",
       "      <td>4</td>\n",
       "      <td>[pride, prejudice, since, immediate, success, ...</td>\n",
       "    </tr>\n",
       "    <tr>\n",
       "      <th>4</th>\n",
       "      <td>[twilight]</td>\n",
       "      <td>[three, things, absolutely, positive, first, e...</td>\n",
       "      <td>[stephenie, meyer]</td>\n",
       "      <td>[edward, cullen, jacob, black, laurent, renee,...</td>\n",
       "      <td>[forks, washington, phoenix, arizona, washingt...</td>\n",
       "      <td>https://www.goodreads.com/book/show/41865.Twil...</td>\n",
       "      <td>5</td>\n",
       "      <td>[twilight, three, things, absolutely, positive...</td>\n",
       "    </tr>\n",
       "  </tbody>\n",
       "</table>\n",
       "</div>"
      ],
      "text/plain": [
       "                             title  \\\n",
       "0                  [hunger, games]   \n",
       "1  [harry, potter, order, phoenix]   \n",
       "2              [kill, mockingbird]   \n",
       "3               [pride, prejudice]   \n",
       "4                       [twilight]   \n",
       "\n",
       "                                               plots              author  \\\n",
       "0  [could, survive, wild, every, one, make, sure,...  [suzanne, collins]   \n",
       "1  [door, end, silent, corridor, haunting, harry,...     [j, k, rowling]   \n",
       "2  [unforgettable, novel, childhood, sleepy, sout...       [harper, lee]   \n",
       "3  [since, immediate, success, pride, prejudice, ...      [jane, austen]   \n",
       "4  [three, things, absolutely, positive, first, e...  [stephenie, meyer]   \n",
       "\n",
       "                                          characters  \\\n",
       "0  [katniss, everdeen, peeta, mellark, cato, hung...   \n",
       "1  [sirius, black, draco, malfoy, ron, weasley, p...   \n",
       "2  [scout, finch, atticus, finch, jem, finch, art...   \n",
       "3  [mr, bennet, mrs, bennet, jane, bennet, elizab...   \n",
       "4  [edward, cullen, jacob, black, laurent, renee,...   \n",
       "\n",
       "                                            settings  \\\n",
       "0           [district, panem, capitol, panem, panem]   \n",
       "1  [hogwarts, school, witchcraft, wizardry, londo...   \n",
       "2                                 [maycomb, alabama]   \n",
       "3  [united, kingdom, derbyshire, england, england...   \n",
       "4  [forks, washington, phoenix, arizona, washingt...   \n",
       "\n",
       "                                                 url  index  \\\n",
       "0  https://www.goodreads.com/book/show/2767052-th...      1   \n",
       "1  https://www.goodreads.com/book/show/2.Harry_Po...      2   \n",
       "2  https://www.goodreads.com/book/show/2657.To_Ki...      3   \n",
       "3  https://www.goodreads.com/book/show/1885.Pride...      4   \n",
       "4  https://www.goodreads.com/book/show/41865.Twil...      5   \n",
       "\n",
       "                                           All Words  \n",
       "0  [hunger, games, could, survive, wild, every, o...  \n",
       "1  [harry, potter, order, phoenix, door, end, sil...  \n",
       "2  [kill, mockingbird, unforgettable, novel, chil...  \n",
       "3  [pride, prejudice, since, immediate, success, ...  \n",
       "4  [twilight, three, things, absolutely, positive...  "
      ]
     },
     "execution_count": 14,
     "metadata": {},
     "output_type": "execute_result"
    }
   ],
   "source": [
    "words=[] \n",
    "all_words = [] \n",
    "for i in range(len(df)):\n",
    "    c_all = []\n",
    "    for wordt in df['title'][i]:\n",
    "        words.append(wordt)\n",
    "        c_all.append(wordt)\n",
    "    for wordp in df['plots'][i]:\n",
    "        words.append(wordp)\n",
    "        c_all.append(wordp)\n",
    "    for worda in df['author'][i]:\n",
    "        words.append(worda)\n",
    "        c_all.append(worda)\n",
    "    for wordc in df['characters'][i]:\n",
    "        words.append(wordc)\n",
    "        c_all.append(wordc)\n",
    "    for wordst in df['settings'][i]:\n",
    "        words.append(wordst)\n",
    "        c_all.append(wordst)\n",
    "    all_words .append(c_all)\n",
    "df[\"All Words\"] = pd.Series(all_words)\n",
    "df.head(5)"
   ]
  },
  {
   "cell_type": "markdown",
   "metadata": {
    "ExecuteTime": {
     "end_time": "2020-12-06T09:14:05.674664Z",
     "start_time": "2020-12-06T09:14:05.667759Z"
    }
   },
   "source": [
    "> Create a vacabulary that contains all the words with a unique index can be searched."
   ]
  },
  {
   "cell_type": "code",
   "execution_count": 15,
   "metadata": {
    "ExecuteTime": {
     "end_time": "2020-12-06T10:37:47.765569Z",
     "start_time": "2020-12-06T10:37:13.256512Z"
    }
   },
   "outputs": [],
   "source": [
    "words=set(words)\n",
    "words = list(words)\n",
    "vocab={}\n",
    "for i in range(len(words)):\n",
    "    vocab.update({words[i] : i })\n",
    "with open(\"vocabulary.json\", \"w\", encoding = \"utf8\") as v:\n",
    "    v.write(json.dumps(vocab))\n",
    "    \n",
    "for i in range(len(df)):\n",
    "    for j in range(len(df[\"All Words\"][i])):\n",
    "        if df[\"All Words\"][i][j] in vocab.keys():\n",
    "            df[\"All Words\"][i][j] = vocab[df[\"All Words\"][i][j]]"
   ]
  },
  {
   "cell_type": "markdown",
   "metadata": {},
   "source": [
    "> Statistical word frequency"
   ]
  },
  {
   "cell_type": "code",
   "execution_count": 16,
   "metadata": {
    "ExecuteTime": {
     "end_time": "2020-12-06T10:37:48.157537Z",
     "start_time": "2020-12-06T10:37:47.768515Z"
    },
    "collapsed": true
   },
   "outputs": [
    {
     "name": "stderr",
     "output_type": "stream",
     "text": [
      "<ipython-input-16-2efc5abdc4f8>:2: SettingWithCopyWarning: \n",
      "A value is trying to be set on a copy of a slice from a DataFrame.\n",
      "Try using .loc[row_indexer,col_indexer] = value instead\n",
      "\n",
      "See the caveats in the documentation: https://pandas.pydata.org/pandas-docs/stable/user_guide/indexing.html#returning-a-view-versus-a-copy\n",
      "  df[\"All Words\"] = df[\"All Words\"].apply(lambda x : Counter(x))\n"
     ]
    }
   ],
   "source": [
    "from collections import Counter\n",
    "df[\"All Words\"] = df[\"All Words\"].apply(lambda x : Counter(x))"
   ]
  },
  {
   "cell_type": "markdown",
   "metadata": {},
   "source": [
    "> tfidf(Term Frequency–Inverse Document Frequency):  \n",
    "It’s a way to score the importance of words (or “terms”) in a document based on how frequently they appear across multiple documents.    \n",
    "(1)Term Frequency (tf): Gives us the frequency of the word in each document in the dataset. It is the ratio of number of times the word appears in a document compared to the total number of words in that document. It increases as the number of occurrences of that word within the document increases.  \n",
    "$tf_{i,j}=\\frac {n_{i,j}}  {\\sum_{k}{n_{i,j}}}$  \n",
    "(2)Inverse Data Frequency (idf): Used to calculate the weight of rare words across all documents in the dataset. The words that occur rarely in the dataset have a high IDF score.  \n",
    "$idf(w)=log(\\frac{N}{df_t})$  \n",
    "$tfidf=tf*idf$"
   ]
  },
  {
   "cell_type": "code",
   "execution_count": 17,
   "metadata": {
    "ExecuteTime": {
     "end_time": "2020-12-06T10:37:48.167518Z",
     "start_time": "2020-12-06T10:37:48.162520Z"
    }
   },
   "outputs": [],
   "source": [
    "def Term_Frequency(doc_words):\n",
    "    bow = 0\n",
    "    for k, v in doc_words.items():\n",
    "        bow = bow + v\n",
    "    tf_word = {}\n",
    "    for word, count in doc_words.items():\n",
    "        tf_word[word] = count / float(bow)\n",
    "    return tf_word"
   ]
  },
  {
   "cell_type": "code",
   "execution_count": 18,
   "metadata": {
    "ExecuteTime": {
     "end_time": "2020-12-06T10:37:49.049543Z",
     "start_time": "2020-12-06T10:37:48.172523Z"
    },
    "collapsed": true
   },
   "outputs": [
    {
     "name": "stderr",
     "output_type": "stream",
     "text": [
      "<ipython-input-18-c4098c20c2ae>:4: SettingWithCopyWarning: \n",
      "A value is trying to be set on a copy of a slice from a DataFrame.\n",
      "Try using .loc[row_indexer,col_indexer] = value instead\n",
      "\n",
      "See the caveats in the documentation: https://pandas.pydata.org/pandas-docs/stable/user_guide/indexing.html#returning-a-view-versus-a-copy\n",
      "  df[\"TF\"] = TF\n"
     ]
    }
   ],
   "source": [
    "TF = []\n",
    "for i in range(len(df[\"All Words\"])):\n",
    "    TF.append(Term_Frequency(df[\"All Words\"][i]))\n",
    "df[\"TF\"] = TF"
   ]
  },
  {
   "cell_type": "code",
   "execution_count": 19,
   "metadata": {
    "ExecuteTime": {
     "end_time": "2020-12-06T10:37:49.116512Z",
     "start_time": "2020-12-06T10:37:49.052515Z"
    }
   },
   "outputs": [
    {
     "data": {
      "text/html": [
       "<div>\n",
       "<style scoped>\n",
       "    .dataframe tbody tr th:only-of-type {\n",
       "        vertical-align: middle;\n",
       "    }\n",
       "\n",
       "    .dataframe tbody tr th {\n",
       "        vertical-align: top;\n",
       "    }\n",
       "\n",
       "    .dataframe thead th {\n",
       "        text-align: right;\n",
       "    }\n",
       "</style>\n",
       "<table border=\"1\" class=\"dataframe\">\n",
       "  <thead>\n",
       "    <tr style=\"text-align: right;\">\n",
       "      <th></th>\n",
       "      <th>title</th>\n",
       "      <th>plots</th>\n",
       "      <th>author</th>\n",
       "      <th>characters</th>\n",
       "      <th>settings</th>\n",
       "      <th>url</th>\n",
       "      <th>index</th>\n",
       "      <th>All Words</th>\n",
       "      <th>TF</th>\n",
       "    </tr>\n",
       "  </thead>\n",
       "  <tbody>\n",
       "    <tr>\n",
       "      <th>0</th>\n",
       "      <td>[hunger, games]</td>\n",
       "      <td>[could, survive, wild, every, one, make, sure,...</td>\n",
       "      <td>[suzanne, collins]</td>\n",
       "      <td>[katniss, everdeen, peeta, mellark, cato, hung...</td>\n",
       "      <td>[district, panem, capitol, panem, panem]</td>\n",
       "      <td>https://www.goodreads.com/book/show/2767052-th...</td>\n",
       "      <td>1</td>\n",
       "      <td>{36102: 6, 55266: 7, 73387: 1, 68114: 1, 39341...</td>\n",
       "      <td>{36102: 0.043478260869565216, 55266: 0.0507246...</td>\n",
       "    </tr>\n",
       "    <tr>\n",
       "      <th>1</th>\n",
       "      <td>[harry, potter, order, phoenix]</td>\n",
       "      <td>[door, end, silent, corridor, haunting, harry,...</td>\n",
       "      <td>[j, k, rowling]</td>\n",
       "      <td>[sirius, black, draco, malfoy, ron, weasley, p...</td>\n",
       "      <td>[hogwarts, school, witchcraft, wizardry, londo...</td>\n",
       "      <td>https://www.goodreads.com/book/show/2.Harry_Po...</td>\n",
       "      <td>2</td>\n",
       "      <td>{15105: 5, 30249: 2, 21109: 1, 74991: 1, 46794...</td>\n",
       "      <td>{15105: 0.029069767441860465, 30249: 0.0116279...</td>\n",
       "    </tr>\n",
       "    <tr>\n",
       "      <th>2</th>\n",
       "      <td>[kill, mockingbird]</td>\n",
       "      <td>[unforgettable, novel, childhood, sleepy, sout...</td>\n",
       "      <td>[harper, lee]</td>\n",
       "      <td>[scout, finch, atticus, finch, jem, finch, art...</td>\n",
       "      <td>[maycomb, alabama]</td>\n",
       "      <td>https://www.goodreads.com/book/show/2657.To_Ki...</td>\n",
       "      <td>3</td>\n",
       "      <td>{8063: 3, 66657: 3, 53414: 1, 46147: 1, 60450:...</td>\n",
       "      <td>{8063: 0.026785714285714284, 66657: 0.02678571...</td>\n",
       "    </tr>\n",
       "    <tr>\n",
       "      <th>3</th>\n",
       "      <td>[pride, prejudice]</td>\n",
       "      <td>[since, immediate, success, pride, prejudice, ...</td>\n",
       "      <td>[jane, austen]</td>\n",
       "      <td>[mr, bennet, mrs, bennet, jane, bennet, elizab...</td>\n",
       "      <td>[united, kingdom, derbyshire, england, england...</td>\n",
       "      <td>https://www.goodreads.com/book/show/1885.Pride...</td>\n",
       "      <td>4</td>\n",
       "      <td>{31808: 2, 2328: 2, 33917: 1, 75740: 1, 34203:...</td>\n",
       "      <td>{31808: 0.01652892561983471, 2328: 0.016528925...</td>\n",
       "    </tr>\n",
       "    <tr>\n",
       "      <th>4</th>\n",
       "      <td>[twilight]</td>\n",
       "      <td>[three, things, absolutely, positive, first, e...</td>\n",
       "      <td>[stephenie, meyer]</td>\n",
       "      <td>[edward, cullen, jacob, black, laurent, renee,...</td>\n",
       "      <td>[forks, washington, phoenix, arizona, washingt...</td>\n",
       "      <td>https://www.goodreads.com/book/show/41865.Twil...</td>\n",
       "      <td>5</td>\n",
       "      <td>{35457: 2, 69085: 1, 67512: 1, 12674: 1, 28159...</td>\n",
       "      <td>{35457: 0.029411764705882353, 69085: 0.0147058...</td>\n",
       "    </tr>\n",
       "  </tbody>\n",
       "</table>\n",
       "</div>"
      ],
      "text/plain": [
       "                             title  \\\n",
       "0                  [hunger, games]   \n",
       "1  [harry, potter, order, phoenix]   \n",
       "2              [kill, mockingbird]   \n",
       "3               [pride, prejudice]   \n",
       "4                       [twilight]   \n",
       "\n",
       "                                               plots              author  \\\n",
       "0  [could, survive, wild, every, one, make, sure,...  [suzanne, collins]   \n",
       "1  [door, end, silent, corridor, haunting, harry,...     [j, k, rowling]   \n",
       "2  [unforgettable, novel, childhood, sleepy, sout...       [harper, lee]   \n",
       "3  [since, immediate, success, pride, prejudice, ...      [jane, austen]   \n",
       "4  [three, things, absolutely, positive, first, e...  [stephenie, meyer]   \n",
       "\n",
       "                                          characters  \\\n",
       "0  [katniss, everdeen, peeta, mellark, cato, hung...   \n",
       "1  [sirius, black, draco, malfoy, ron, weasley, p...   \n",
       "2  [scout, finch, atticus, finch, jem, finch, art...   \n",
       "3  [mr, bennet, mrs, bennet, jane, bennet, elizab...   \n",
       "4  [edward, cullen, jacob, black, laurent, renee,...   \n",
       "\n",
       "                                            settings  \\\n",
       "0           [district, panem, capitol, panem, panem]   \n",
       "1  [hogwarts, school, witchcraft, wizardry, londo...   \n",
       "2                                 [maycomb, alabama]   \n",
       "3  [united, kingdom, derbyshire, england, england...   \n",
       "4  [forks, washington, phoenix, arizona, washingt...   \n",
       "\n",
       "                                                 url  index  \\\n",
       "0  https://www.goodreads.com/book/show/2767052-th...      1   \n",
       "1  https://www.goodreads.com/book/show/2.Harry_Po...      2   \n",
       "2  https://www.goodreads.com/book/show/2657.To_Ki...      3   \n",
       "3  https://www.goodreads.com/book/show/1885.Pride...      4   \n",
       "4  https://www.goodreads.com/book/show/41865.Twil...      5   \n",
       "\n",
       "                                           All Words  \\\n",
       "0  {36102: 6, 55266: 7, 73387: 1, 68114: 1, 39341...   \n",
       "1  {15105: 5, 30249: 2, 21109: 1, 74991: 1, 46794...   \n",
       "2  {8063: 3, 66657: 3, 53414: 1, 46147: 1, 60450:...   \n",
       "3  {31808: 2, 2328: 2, 33917: 1, 75740: 1, 34203:...   \n",
       "4  {35457: 2, 69085: 1, 67512: 1, 12674: 1, 28159...   \n",
       "\n",
       "                                                  TF  \n",
       "0  {36102: 0.043478260869565216, 55266: 0.0507246...  \n",
       "1  {15105: 0.029069767441860465, 30249: 0.0116279...  \n",
       "2  {8063: 0.026785714285714284, 66657: 0.02678571...  \n",
       "3  {31808: 0.01652892561983471, 2328: 0.016528925...  \n",
       "4  {35457: 0.029411764705882353, 69085: 0.0147058...  "
      ]
     },
     "execution_count": 19,
     "metadata": {},
     "output_type": "execute_result"
    }
   ],
   "source": [
    "df.head(5)"
   ]
  },
  {
   "cell_type": "code",
   "execution_count": 20,
   "metadata": {
    "ExecuteTime": {
     "end_time": "2020-12-06T10:37:49.123512Z",
     "start_time": "2020-12-06T10:37:49.118512Z"
    }
   },
   "outputs": [],
   "source": [
    "from collections import defaultdict\n",
    "inverted_index_new =  defaultdict(list)"
   ]
  },
  {
   "cell_type": "code",
   "execution_count": 21,
   "metadata": {
    "ExecuteTime": {
     "end_time": "2020-12-06T10:37:50.113526Z",
     "start_time": "2020-12-06T10:37:49.125512Z"
    }
   },
   "outputs": [],
   "source": [
    "\n",
    "for i in range(len(df)):\n",
    "    for keys,values in df['All Words'][i].items():\n",
    "        inverted_index_new[keys].append(i)"
   ]
  },
  {
   "cell_type": "code",
   "execution_count": 22,
   "metadata": {
    "ExecuteTime": {
     "end_time": "2020-12-06T10:37:51.865691Z",
     "start_time": "2020-12-06T10:37:50.116514Z"
    }
   },
   "outputs": [],
   "source": [
    "with open('inverted_index_new.json', 'w') as fp:\n",
    "    json.dump(inverted_index_new, fp)"
   ]
  },
  {
   "cell_type": "code",
   "execution_count": 23,
   "metadata": {
    "ExecuteTime": {
     "end_time": "2020-12-06T10:37:52.580957Z",
     "start_time": "2020-12-06T10:37:51.872648Z"
    }
   },
   "outputs": [],
   "source": [
    "import math\n",
    "idf = {}\n",
    "for k, v in vocab.items():\n",
    "    idf[v] = math.log(len(df[\"All Words\"])/len(inverted_index_new[v]))\n",
    "with open(\"idf.json\", \"w\", encoding = \"utf8\") as i_d_f:\n",
    "    i_d_f.write(json.dumps(idf))"
   ]
  },
  {
   "cell_type": "code",
   "execution_count": 24,
   "metadata": {
    "ExecuteTime": {
     "end_time": "2020-12-06T10:37:52.586833Z",
     "start_time": "2020-12-06T10:37:52.582852Z"
    }
   },
   "outputs": [],
   "source": [
    "def tf_idf(docid, termid):\n",
    "    return((df[\"All Words\"][docid][termid]*idf[termid])/sum(df[\"All Words\"][docid]))"
   ]
  },
  {
   "cell_type": "code",
   "execution_count": 25,
   "metadata": {
    "ExecuteTime": {
     "end_time": "2020-12-06T10:37:52.620846Z",
     "start_time": "2020-12-06T10:37:52.590832Z"
    }
   },
   "outputs": [
    {
     "data": {
      "text/html": [
       "<div>\n",
       "<style scoped>\n",
       "    .dataframe tbody tr th:only-of-type {\n",
       "        vertical-align: middle;\n",
       "    }\n",
       "\n",
       "    .dataframe tbody tr th {\n",
       "        vertical-align: top;\n",
       "    }\n",
       "\n",
       "    .dataframe thead th {\n",
       "        text-align: right;\n",
       "    }\n",
       "</style>\n",
       "<table border=\"1\" class=\"dataframe\">\n",
       "  <thead>\n",
       "    <tr style=\"text-align: right;\">\n",
       "      <th></th>\n",
       "      <th>title</th>\n",
       "      <th>plots</th>\n",
       "      <th>author</th>\n",
       "      <th>characters</th>\n",
       "      <th>settings</th>\n",
       "      <th>url</th>\n",
       "      <th>index</th>\n",
       "      <th>All Words</th>\n",
       "      <th>TF</th>\n",
       "    </tr>\n",
       "  </thead>\n",
       "  <tbody>\n",
       "    <tr>\n",
       "      <th>0</th>\n",
       "      <td>[hunger, games]</td>\n",
       "      <td>[could, survive, wild, every, one, make, sure,...</td>\n",
       "      <td>[suzanne, collins]</td>\n",
       "      <td>[katniss, everdeen, peeta, mellark, cato, hung...</td>\n",
       "      <td>[district, panem, capitol, panem, panem]</td>\n",
       "      <td>https://www.goodreads.com/book/show/2767052-th...</td>\n",
       "      <td>1</td>\n",
       "      <td>{36102: 6, 55266: 7, 73387: 1, 68114: 1, 39341...</td>\n",
       "      <td>{36102: 0.043478260869565216, 55266: 0.0507246...</td>\n",
       "    </tr>\n",
       "  </tbody>\n",
       "</table>\n",
       "</div>"
      ],
      "text/plain": [
       "             title                                              plots  \\\n",
       "0  [hunger, games]  [could, survive, wild, every, one, make, sure,...   \n",
       "\n",
       "               author                                         characters  \\\n",
       "0  [suzanne, collins]  [katniss, everdeen, peeta, mellark, cato, hung...   \n",
       "\n",
       "                                   settings  \\\n",
       "0  [district, panem, capitol, panem, panem]   \n",
       "\n",
       "                                                 url  index  \\\n",
       "0  https://www.goodreads.com/book/show/2767052-th...      1   \n",
       "\n",
       "                                           All Words  \\\n",
       "0  {36102: 6, 55266: 7, 73387: 1, 68114: 1, 39341...   \n",
       "\n",
       "                                                  TF  \n",
       "0  {36102: 0.043478260869565216, 55266: 0.0507246...  "
      ]
     },
     "execution_count": 25,
     "metadata": {},
     "output_type": "execute_result"
    }
   ],
   "source": [
    "df.head(1)"
   ]
  },
  {
   "cell_type": "code",
   "execution_count": 26,
   "metadata": {
    "ExecuteTime": {
     "end_time": "2020-12-06T10:38:02.832836Z",
     "start_time": "2020-12-06T10:37:52.626835Z"
    },
    "collapsed": true
   },
   "outputs": [
    {
     "name": "stderr",
     "output_type": "stream",
     "text": [
      "<ipython-input-26-71b3cd48d360>:7: SettingWithCopyWarning: \n",
      "A value is trying to be set on a copy of a slice from a DataFrame.\n",
      "Try using .loc[row_indexer,col_indexer] = value instead\n",
      "\n",
      "See the caveats in the documentation: https://pandas.pydata.org/pandas-docs/stable/user_guide/indexing.html#returning-a-view-versus-a-copy\n",
      "  df[\"Norm\"] = norm\n"
     ]
    }
   ],
   "source": [
    "norm = []\n",
    "for i in range(len(df)):\n",
    "    s = 0\n",
    "    for word in df[\"All Words\"][i].keys():\n",
    "        s = s + (df[\"TF\"][i][word]*idf[word])**2\n",
    "    norm.append(s**(1/2))\n",
    "df[\"Norm\"] = norm"
   ]
  },
  {
   "cell_type": "code",
   "execution_count": 27,
   "metadata": {
    "ExecuteTime": {
     "end_time": "2020-12-06T10:38:02.868875Z",
     "start_time": "2020-12-06T10:38:02.837845Z"
    }
   },
   "outputs": [
    {
     "data": {
      "text/html": [
       "<div>\n",
       "<style scoped>\n",
       "    .dataframe tbody tr th:only-of-type {\n",
       "        vertical-align: middle;\n",
       "    }\n",
       "\n",
       "    .dataframe tbody tr th {\n",
       "        vertical-align: top;\n",
       "    }\n",
       "\n",
       "    .dataframe thead th {\n",
       "        text-align: right;\n",
       "    }\n",
       "</style>\n",
       "<table border=\"1\" class=\"dataframe\">\n",
       "  <thead>\n",
       "    <tr style=\"text-align: right;\">\n",
       "      <th></th>\n",
       "      <th>title</th>\n",
       "      <th>plots</th>\n",
       "      <th>author</th>\n",
       "      <th>characters</th>\n",
       "      <th>settings</th>\n",
       "      <th>url</th>\n",
       "      <th>index</th>\n",
       "      <th>All Words</th>\n",
       "      <th>TF</th>\n",
       "      <th>Norm</th>\n",
       "    </tr>\n",
       "  </thead>\n",
       "  <tbody>\n",
       "    <tr>\n",
       "      <th>0</th>\n",
       "      <td>[hunger, games]</td>\n",
       "      <td>[could, survive, wild, every, one, make, sure,...</td>\n",
       "      <td>[suzanne, collins]</td>\n",
       "      <td>[katniss, everdeen, peeta, mellark, cato, hung...</td>\n",
       "      <td>[district, panem, capitol, panem, panem]</td>\n",
       "      <td>https://www.goodreads.com/book/show/2767052-th...</td>\n",
       "      <td>1</td>\n",
       "      <td>{36102: 6, 55266: 7, 73387: 1, 68114: 1, 39341...</td>\n",
       "      <td>{36102: 0.043478260869565216, 55266: 0.0507246...</td>\n",
       "      <td>0.660595</td>\n",
       "    </tr>\n",
       "  </tbody>\n",
       "</table>\n",
       "</div>"
      ],
      "text/plain": [
       "             title                                              plots  \\\n",
       "0  [hunger, games]  [could, survive, wild, every, one, make, sure,...   \n",
       "\n",
       "               author                                         characters  \\\n",
       "0  [suzanne, collins]  [katniss, everdeen, peeta, mellark, cato, hung...   \n",
       "\n",
       "                                   settings  \\\n",
       "0  [district, panem, capitol, panem, panem]   \n",
       "\n",
       "                                                 url  index  \\\n",
       "0  https://www.goodreads.com/book/show/2767052-th...      1   \n",
       "\n",
       "                                           All Words  \\\n",
       "0  {36102: 6, 55266: 7, 73387: 1, 68114: 1, 39341...   \n",
       "\n",
       "                                                  TF      Norm  \n",
       "0  {36102: 0.043478260869565216, 55266: 0.0507246...  0.660595  "
      ]
     },
     "execution_count": 27,
     "metadata": {},
     "output_type": "execute_result"
    }
   ],
   "source": [
    "df.head(1)"
   ]
  },
  {
   "cell_type": "code",
   "execution_count": 28,
   "metadata": {
    "ExecuteTime": {
     "end_time": "2020-12-06T10:38:39.273915Z",
     "start_time": "2020-12-06T10:38:02.873833Z"
    }
   },
   "outputs": [],
   "source": [
    "inverted_index_2 = defaultdict(list)\n",
    "for k, v in inverted_index_new.items():\n",
    "    for l in v:\n",
    "        inverted_index_2[k].append((l, tf_idf(l,k)/df[\"Norm\"][l]))\n",
    "        \n",
    "with open(\"inverted_index_2.json\", \"w\", encoding = \"utf8\") as i_d_2:\n",
    "    i_d_2.write(json.dumps(inverted_index_2))"
   ]
  },
  {
   "cell_type": "markdown",
   "metadata": {},
   "source": [
    "# 2.2.2 Execute the query"
   ]
  },
  {
   "cell_type": "code",
   "execution_count": 29,
   "metadata": {
    "ExecuteTime": {
     "end_time": "2020-12-06T10:38:39.290915Z",
     "start_time": "2020-12-06T10:38:39.275915Z"
    }
   },
   "outputs": [],
   "source": [
    "def SearchEngine2(dataset):\n",
    "    query = input()\n",
    "    if query == \"\":\n",
    "        return(\"Please input again!\")\n",
    "    query=query.split(\" \")\n",
    "    books = list(dataset.index)\n",
    "    books = set(books)\n",
    "\n",
    "    vocab=json.loads(open(\"vocabulary.json\").read())\n",
    "    inverted_index_new = json.loads(open(\"inverted_index_new.json\").read())\n",
    "    inverted_index_2=json.loads(open(\"inverted_index_2.json\").read())\n",
    "    Inverse_Document_Frequency = json.loads(open(\"idf.json\").read())\n",
    "    # Query whether the search keyword exists in the vocabulary\n",
    "    for word in query:\n",
    "        if word in vocab.keys():\n",
    "            query[query.index(word)]=(vocab[word])\n",
    "        else:\n",
    "            print(\"word Not found\")\n",
    "    query_vec = {}\n",
    "    #Compute tfidf\n",
    "    for item in query:\n",
    "        query_vec[item]=  Term_Frequency(Counter(query))[item]*Inverse_Document_Frequency[str(item)]\n",
    "\n",
    "    for word in query: \n",
    "        books = books.intersection(inverted_index_new[str(word)])\n",
    "    dataset = dataset.drop(index=dataset.index.difference(books))\n",
    "    \n",
    "    \n",
    "    doc_vec = {}\n",
    "    \n",
    "    for book in books:\n",
    "        vec = []\n",
    "        for word_ in query:\n",
    "            index = inverted_index_2[str(word_)]\n",
    "            for i in range(len(index)):\n",
    "                if index[i][0] == book:\n",
    "                    vec.append(index[i][1])\n",
    "        doc_vec[book] = vec\n",
    "    \n",
    "    def dot(vector_1, vector_2):\n",
    "        sum = 0\n",
    "        for i in range(len(vector_1)):\n",
    "            sum = sum + vector_1[i]*vector_2[i]\n",
    "        return(sum)\n",
    "    def norm(vector):\n",
    "        if len(vector) > 1:\n",
    "            add = 0\n",
    "            for i in range(len(vector)):\n",
    "                add = add + vector[i]**2\n",
    "            return add**(1/2)\n",
    "        else:\n",
    "            return(vector)\n",
    "    # Compute Cosine similarity\n",
    "    similarity = {}\n",
    "    for book in books:\n",
    "        if isinstance(norm(list(query_vec.values())), float):\n",
    "            similarity[book] = dot(list(query_vec.values()),doc_vec[book])/(norm(list(query_vec.values()))*norm(doc_vec[book]))\n",
    "        else:\n",
    "            similarity[book] = dot(list(query_vec.values()),doc_vec[book])/(norm(list(query_vec.values()))[0]*norm(doc_vec[book]))\n",
    "\n",
    "    the_col = []\n",
    "    for i in range(len(dataset)):\n",
    "        for k, v in similarity.items():\n",
    "            if dataset.index[i] == k:\n",
    "                the_col.append(similarity[k])\n",
    "\n",
    "    dataset[\"Similarity\"] = the_col\n",
    "    truth = []\n",
    "    for book_d in books:\n",
    "        if dataset[\"Similarity\"][book_d] in heapq.nlargest(5,dataset[\"Similarity\"]):\n",
    "            truth.append(book_d)\n",
    "    newdataset = dataset.drop(index=dataset.index.difference(truth))\n",
    "    return(newdataset[['title','plots','url','Similarity']].sort_values(by = 'Similarity',axis = 0,ascending = False))"
   ]
  },
  {
   "cell_type": "code",
   "execution_count": 38,
   "metadata": {
    "ExecuteTime": {
     "end_time": "2020-12-06T11:10:52.188498Z",
     "start_time": "2020-12-06T11:10:43.616583Z"
    }
   },
   "outputs": [
    {
     "name": "stdout",
     "output_type": "stream",
     "text": [
      "harry door\n"
     ]
    },
    {
     "data": {
      "text/html": [
       "<div>\n",
       "<style scoped>\n",
       "    .dataframe tbody tr th:only-of-type {\n",
       "        vertical-align: middle;\n",
       "    }\n",
       "\n",
       "    .dataframe tbody tr th {\n",
       "        vertical-align: top;\n",
       "    }\n",
       "\n",
       "    .dataframe thead th {\n",
       "        text-align: right;\n",
       "    }\n",
       "</style>\n",
       "<table border=\"1\" class=\"dataframe\">\n",
       "  <thead>\n",
       "    <tr style=\"text-align: right;\">\n",
       "      <th></th>\n",
       "      <th>title</th>\n",
       "      <th>plots</th>\n",
       "      <th>url</th>\n",
       "      <th>Similarity</th>\n",
       "    </tr>\n",
       "  </thead>\n",
       "  <tbody>\n",
       "    <tr>\n",
       "      <th>12885</th>\n",
       "      <td>Sheet Music: The Chronicles of Narnia - Prince...</td>\n",
       "      <td>(Piano/Vocal/Guitar Songbook). All nine songs ...</td>\n",
       "      <td>https://www.goodreads.com/review/show/123110062</td>\n",
       "      <td>0.954600</td>\n",
       "    </tr>\n",
       "    <tr>\n",
       "      <th>1</th>\n",
       "      <td>Harry Potter and the Order of the Phoenix</td>\n",
       "      <td>There is a door at the end of a silent corrido...</td>\n",
       "      <td>https://www.goodreads.com/book/show/2.Harry_Po...</td>\n",
       "      <td>0.859881</td>\n",
       "    </tr>\n",
       "    <tr>\n",
       "      <th>2606</th>\n",
       "      <td>Grave Peril</td>\n",
       "      <td>An alternative cover edition with a different ...</td>\n",
       "      <td>https://www.goodreads.com/review/show/133867511</td>\n",
       "      <td>0.845448</td>\n",
       "    </tr>\n",
       "  </tbody>\n",
       "</table>\n",
       "</div>"
      ],
      "text/plain": [
       "                                                   title  \\\n",
       "12885  Sheet Music: The Chronicles of Narnia - Prince...   \n",
       "1              Harry Potter and the Order of the Phoenix   \n",
       "2606                                         Grave Peril   \n",
       "\n",
       "                                                   plots  \\\n",
       "12885  (Piano/Vocal/Guitar Songbook). All nine songs ...   \n",
       "1      There is a door at the end of a silent corrido...   \n",
       "2606   An alternative cover edition with a different ...   \n",
       "\n",
       "                                                     url  Similarity  \n",
       "12885    https://www.goodreads.com/review/show/123110062    0.954600  \n",
       "1      https://www.goodreads.com/book/show/2.Harry_Po...    0.859881  \n",
       "2606     https://www.goodreads.com/review/show/133867511    0.845448  "
      ]
     },
     "execution_count": 38,
     "metadata": {},
     "output_type": "execute_result"
    }
   ],
   "source": [
    "SearchEngine2(dataset) "
   ]
  },
  {
   "cell_type": "code",
   "execution_count": null,
   "metadata": {},
   "outputs": [],
   "source": []
  },
  {
   "cell_type": "markdown",
   "metadata": {},
   "source": [
    "# 3. Define a new score!"
   ]
  },
  {
   "cell_type": "markdown",
   "metadata": {},
   "source": [
    "The third engine allows the user to enter two new option parameters in addition to the free text as before,\n",
    "the author and the rating value.\n",
    "\n",
    "Therefore, as before, the engine recovers all the documents containing the free text in the plot using the reversed index.\n",
    "\n",
    "Then it calculates two distance measure to sort the results:\n",
    "\n",
    "1. **edit distance** between the author inserted by the user and the authors found normalizing in order to obtain a number between 0 and 1.\n",
    "\n",
    "2. the distance between the rating desired by the user and the rating of the results as the absolute distance, normalizing in order to obtain a number between 0 and 1. \n",
    "\n",
    "In the end it compute the mean between these two distances and defines the new similarity as $1 - distance$.\n",
    "\n",
    "For maintaining the top-k documents we use a **priority queue** based on the code defined in the python documentation, using the **heap** data structure."
   ]
  },
  {
   "cell_type": "code",
   "execution_count": 134,
   "metadata": {},
   "outputs": [],
   "source": [
    "import editdistance\n",
    "import itertools\n",
    "from heapq import *"
   ]
  },
  {
   "cell_type": "code",
   "execution_count": 174,
   "metadata": {},
   "outputs": [],
   "source": [
    "pd.set_option('display.max_colwidth', None)"
   ]
  },
  {
   "cell_type": "code",
   "execution_count": 235,
   "metadata": {},
   "outputs": [],
   "source": [
    "df = pd.read_csv('books_dataset.tsv', sep='\\t', index_col = 'number')"
   ]
  },
  {
   "cell_type": "code",
   "execution_count": 236,
   "metadata": {},
   "outputs": [],
   "source": [
    "#handler the input output from user to search engine\n",
    "def search_engine3_io():\n",
    "    plot = input('Insert words in plot:')\n",
    "    if not plot:\n",
    "        input('Please insert words in plot:')\n",
    "    author = input('insert author:')\n",
    "    ratingValue = input('insert a rating value:')\n",
    "    if not author and not ratingValue:\n",
    "        return search_engine_3(dataset, inverted_index, plot) \n",
    "    if not author and ratingValue:\n",
    "        return search_engine_3(dataset, inverted_index, plot, ratingValue)\n",
    "    if author and not ratingValue:\n",
    "        return search_engine_3(dataset, inverted_index, plot, author)\n",
    "    if author and ratingValue:\n",
    "        return search_engine_3(dataset, inverted_index, plot, author, ratingValue)   \n",
    "    "
   ]
  },
  {
   "cell_type": "code",
   "execution_count": 364,
   "metadata": {},
   "outputs": [],
   "source": [
    "def compute_distance(query_author, query_rating_value, num_doc, df):\n",
    "    if not query_author: # the author has not been required\n",
    "        distance_author = 1\n",
    "    else: #compute the edit distance from the author normalized \n",
    "        author_doc = df.loc[num_doc,'author']\n",
    "        distance_author = editdistance.eval(author_doc, query_author)\n",
    "        distance_author /= len(author_doc) #normalization\n",
    "        \n",
    "    #compute the distance from the rating values nomralized \n",
    "    rating_value_doc = df.loc[num_doc,'ratingValue']\n",
    "    rating_value_distance = round(abs(query_rating_value - rating_value_doc),2)\n",
    "    rating_value_distance /= 5 #normalization\n",
    "    \n",
    "    #retun the mean value\n",
    "    return round(0.5*distance_author + 0.5*rating_value_distance,2)\n",
    "    "
   ]
  },
  {
   "cell_type": "code",
   "execution_count": 328,
   "metadata": {},
   "outputs": [],
   "source": [
    "def add_doc(pq,doc_num,distance=0):\n",
    "    'Add a new document'\n",
    "    count = next(counter)\n",
    "    entry = [distance, count, doc_num]\n",
    "    entry_finder[doc_num] = entry\n",
    "    heappush(pq, entry)    \n",
    "    \n",
    "def pop_doc(pq):\n",
    "    'Remove and return the lowest priority doc'\n",
    "    distance, count, doc = heappop(pq)\n",
    "    return [doc, distance]"
   ]
  },
  {
   "cell_type": "code",
   "execution_count": 315,
   "metadata": {},
   "outputs": [],
   "source": [
    "#build a priority queue\n",
    "def build_pq(pq,df, inverted_index, plot='', query_author='', query_rating_value=5):\n",
    "    docs_num_list = search_engine(df, inverted_index, plot)       \n",
    "    for num_doc in docs_num_list:\n",
    "        add_doc(pq,num_doc, compute_distance(query_author, query_rating_value,num_doc,df))\n",
    "    return pq"
   ]
  },
  {
   "cell_type": "code",
   "execution_count": 376,
   "metadata": {},
   "outputs": [],
   "source": [
    "def search_engine_3(k,df, inverted_index, plot='', query_author='', query_rating_value=5):\n",
    "    pq = []                         \n",
    "    entry_finder = {}\n",
    "    counter = itertools.count()\n",
    "    pq = build_pq(pq,df, inverted_index, plot, query_author, query_rating_value)\n",
    "    \n",
    "    doc_result = k*[None]\n",
    "    distance_doc_result = k*[None]\n",
    "    #retrieve the max \n",
    "    for i in range(k):\n",
    "        doc_result[i],distance_doc_result[i] =  pop_doc(pq)\n",
    "    df_result = df.loc[doc_result,['title','author','ratingValue','plots','url']]\n",
    "    similarity = [1 - x for x in distance_doc_result]\n",
    "    df_result['Similarity'] = similarity\n",
    "    return df_result\n",
    "       "
   ]
  },
  {
   "cell_type": "code",
   "execution_count": 377,
   "metadata": {},
   "outputs": [
    {
     "data": {
      "text/html": [
       "<div>\n",
       "<style scoped>\n",
       "    .dataframe tbody tr th:only-of-type {\n",
       "        vertical-align: middle;\n",
       "    }\n",
       "\n",
       "    .dataframe tbody tr th {\n",
       "        vertical-align: top;\n",
       "    }\n",
       "\n",
       "    .dataframe thead th {\n",
       "        text-align: right;\n",
       "    }\n",
       "</style>\n",
       "<table border=\"1\" class=\"dataframe\">\n",
       "  <thead>\n",
       "    <tr style=\"text-align: right;\">\n",
       "      <th></th>\n",
       "      <th>title</th>\n",
       "      <th>author</th>\n",
       "      <th>ratingValue</th>\n",
       "      <th>plots</th>\n",
       "      <th>url</th>\n",
       "      <th>Similarity</th>\n",
       "    </tr>\n",
       "    <tr>\n",
       "      <th>number</th>\n",
       "      <th></th>\n",
       "      <th></th>\n",
       "      <th></th>\n",
       "      <th></th>\n",
       "      <th></th>\n",
       "      <th></th>\n",
       "    </tr>\n",
       "  </thead>\n",
       "  <tbody>\n",
       "    <tr>\n",
       "      <th>377</th>\n",
       "      <td>Mansfield Park</td>\n",
       "      <td>Jane Austen</td>\n",
       "      <td>3.86</td>\n",
       "      <td>Adopted into the household of her uncle, Sir Thomas Bertram, Fanny Price grows up a meek outsider among her cousins in the unaccustomed elegance of Mansfield Park. Soon after Sir Thomas absents himself on estate business in Antigua (the family's investment in slavery and sugar is considered in the Introduction in a new, post-colonial light), Mary Crawford and her brother Henry arrive at Mansfield, bringing with them London glamour, and the seductive taste for flirtation and theatre that precipitates a crisis. While Mansfield Park appears in some ways to continue where Pride and Prejudice left off, it is, as Kathryn Sutherland shows in her illuminating Introduction, a much darker work, which challenges 'the very values (of tradition, stability, retirement and faithfulness) it appears to endorse'. This new edition provides an accurate text based, for the first time since its original publication, on the first edition of 1814.</td>\n",
       "      <td>https://www.goodreads.com/review/show/2756260</td>\n",
       "      <td>0.76</td>\n",
       "    </tr>\n",
       "    <tr>\n",
       "      <th>4</th>\n",
       "      <td>Pride and Prejudice</td>\n",
       "      <td>Jane Austen</td>\n",
       "      <td>4.26</td>\n",
       "      <td>Since its immediate success in 1813, Pride and Prejudice has remained one of the most popular novels in the English language. Jane Austen called this brilliant work \"her own darling child\" and its vivacious heroine, Elizabeth Bennet, \"as delightful a creature as ever appeared in print.\" The romantic clash between the opinionated Elizabeth and her proud beau, Mr. Darcy, is a splendid performance of civilized sparring. And Jane Austen's radiant wit sparkles as her characters dance a delicate quadrille of flirtation and intrigue, making this book the most superb comedy of manners of Regency England.</td>\n",
       "      <td>https://www.goodreads.com/book/show/1885.Pride_and_Prejudice</td>\n",
       "      <td>0.75</td>\n",
       "    </tr>\n",
       "    <tr>\n",
       "      <th>358</th>\n",
       "      <td>The Complete Novels</td>\n",
       "      <td>Jane Austen</td>\n",
       "      <td>4.56</td>\n",
       "      <td>This volume contains the six major novels: \"Emma\", \"Mansfield Park\", \"Northanger Abbey\", \"Persuasion\", \"Sense and Sensibility\", \"Pride and Prejudice\".</td>\n",
       "      <td>https://www.goodreads.com/review/show/2506231654</td>\n",
       "      <td>0.72</td>\n",
       "    </tr>\n",
       "    <tr>\n",
       "      <th>29798</th>\n",
       "      <td>The Gladiator's Master</td>\n",
       "      <td>Fae Sutherland</td>\n",
       "      <td>3.90</td>\n",
       "      <td>When Roman politician Caelius inherits a stable of gladiators, there is one who captures his attention above the others...one whose eyes gleam with hate, pride and desire.Forced into slavery by Roman greed, Gaidres can barely conceal his contempt toward his new Dominus. Gaidres has a plan: kill Caelius and end the lineage of the Roman family that enslaved him. For his plan to succeed, he must make a show of respect and obedience--even when called on to service his master's desires.Gaidres is shocked to learn that in the confines of his quarters, Caelius doesn't want to dominate his slave, but to be taken by him. The sex is explosive as they break society's taboos and, to Gaidres's dismay, they form a tenuous relationship. Even when Caelius learns of Gaidres's plans for revenge, he knows he can't live without his perfect lover. Is he willing to risk it all to tame his gladiator's heart?88,000 words</td>\n",
       "      <td>https://www.goodreads.com/review/show/337968509</td>\n",
       "      <td>0.63</td>\n",
       "    </tr>\n",
       "    <tr>\n",
       "      <th>20084</th>\n",
       "      <td>Heretics</td>\n",
       "      <td>G.K. Chesterton</td>\n",
       "      <td>4.18</td>\n",
       "      <td>G. K. Chesterton, the \"Prince of Paradox,\" is at his witty best in this collection of twenty essays and articles from the turn of the twentieth century. Focusing on \"heretics\" — those who pride themselves on their superiority to Christian views — Chesterton appraises prominent figures who fall into that category from the literary and art worlds. Luminaries such as Rudyard Kipling, George Bernard Shaw, H. G. Wells, and James McNeill Whistler come under the author's scrutiny, where they meet with equal measures of his characteristic wisdom and good humor.In addition to incisive assessments of well-known individuals (\"Mr. Rudyard Kipling and Making the World Small\" and \"Mr. H. G. Wells and the Giants\"), these essays contain observations on the wider world. \"On Sandals and Simplicity,\" \"Science and the Savages,\" \"On Certain Modern Writers and the Institution of the Family,\" \"On Smart Novelists and the Smart Set,\" and \"Slum Novelists and the Slums\" reflect the main themes of Chesterton's life's work. Heretics roused the ire of some critics for censuring contemporary philosophies without providing alternatives; the author responded a few years later with a companion volume, Orthodoxy. Sardonic, jolly, and generous, both books are vintage Chesterton.He is criticizing those who hold incomplete and inadequate views about \"life, the universe, and everything.\" He is, in short, criticizing all that host of non-Christian views of reality, as he demonstrated in his follow-up book Orthodoxy. The book is both an easy read and a difficult read. But he manages to demonstrate, among other things, that our new 21st century heresies are really not new because he himself deals with most of them.</td>\n",
       "      <td>https://www.goodreads.com/review/show/58292307</td>\n",
       "      <td>0.62</td>\n",
       "    </tr>\n",
       "  </tbody>\n",
       "</table>\n",
       "</div>"
      ],
      "text/plain": [
       "                         title           author  ratingValue  \\\n",
       "number                                                         \n",
       "377             Mansfield Park      Jane Austen         3.86   \n",
       "4          Pride and Prejudice      Jane Austen         4.26   \n",
       "358        The Complete Novels      Jane Austen         4.56   \n",
       "29798   The Gladiator's Master   Fae Sutherland         3.90   \n",
       "20084                 Heretics  G.K. Chesterton         4.18   \n",
       "\n",
       "                                                                                                                                                                                                                                                                                                                                                                                                                                                                                                                                                                                                                                                                                                                                                                                                                                                                                                                                                                                                                                                                                                                                                                                                                                                                                                                                                                                                                                                                                                                                                                                                                                                                                                                                                                         plots  \\\n",
       "number                                                                                                                                                                                                                                                                                                                                                                                                                                                                                                                                                                                                                                                                                                                                                                                                                                                                                                                                                                                                                                                                                                                                                                                                                                                                                                                                                                                                                                                                                                                                                                                                                                                                                                                                                                           \n",
       "377                                                                                                                                                                                                                                                                                                                                                                                                                                                                                                                                                                                                                                                                                                                                                                                                  Adopted into the household of her uncle, Sir Thomas Bertram, Fanny Price grows up a meek outsider among her cousins in the unaccustomed elegance of Mansfield Park. Soon after Sir Thomas absents himself on estate business in Antigua (the family's investment in slavery and sugar is considered in the Introduction in a new, post-colonial light), Mary Crawford and her brother Henry arrive at Mansfield, bringing with them London glamour, and the seductive taste for flirtation and theatre that precipitates a crisis. While Mansfield Park appears in some ways to continue where Pride and Prejudice left off, it is, as Kathryn Sutherland shows in her illuminating Introduction, a much darker work, which challenges 'the very values (of tradition, stability, retirement and faithfulness) it appears to endorse'. This new edition provides an accurate text based, for the first time since its original publication, on the first edition of 1814.   \n",
       "4                                                                                                                                                                                                                                                                                                                                                                                                                                                                                                                                                                                                                                                                                                                                                                                                                                                                                                                                                                                                                                                                                                                                                  Since its immediate success in 1813, Pride and Prejudice has remained one of the most popular novels in the English language. Jane Austen called this brilliant work \"her own darling child\" and its vivacious heroine, Elizabeth Bennet, \"as delightful a creature as ever appeared in print.\" The romantic clash between the opinionated Elizabeth and her proud beau, Mr. Darcy, is a splendid performance of civilized sparring. And Jane Austen's radiant wit sparkles as her characters dance a delicate quadrille of flirtation and intrigue, making this book the most superb comedy of manners of Regency England.   \n",
       "358                                                                                                                                                                                                                                                                                                                                                                                                                                                                                                                                                                                                                                                                                                                                                                                                                                                                                                                                                                                                                                                                                                                                                                                                                                                                                                                                                                                                                                                                                                                                                                                                                     This volume contains the six major novels: \"Emma\", \"Mansfield Park\", \"Northanger Abbey\", \"Persuasion\", \"Sense and Sensibility\", \"Pride and Prejudice\".   \n",
       "29798                                                                                                                                                                                                                                                                                                                                                                                                                                                                                                                                                                                                                                                                                                                                                                                                                           When Roman politician Caelius inherits a stable of gladiators, there is one who captures his attention above the others...one whose eyes gleam with hate, pride and desire.Forced into slavery by Roman greed, Gaidres can barely conceal his contempt toward his new Dominus. Gaidres has a plan: kill Caelius and end the lineage of the Roman family that enslaved him. For his plan to succeed, he must make a show of respect and obedience--even when called on to service his master's desires.Gaidres is shocked to learn that in the confines of his quarters, Caelius doesn't want to dominate his slave, but to be taken by him. The sex is explosive as they break society's taboos and, to Gaidres's dismay, they form a tenuous relationship. Even when Caelius learns of Gaidres's plans for revenge, he knows he can't live without his perfect lover. Is he willing to risk it all to tame his gladiator's heart?88,000 words   \n",
       "20084   G. K. Chesterton, the \"Prince of Paradox,\" is at his witty best in this collection of twenty essays and articles from the turn of the twentieth century. Focusing on \"heretics\" — those who pride themselves on their superiority to Christian views — Chesterton appraises prominent figures who fall into that category from the literary and art worlds. Luminaries such as Rudyard Kipling, George Bernard Shaw, H. G. Wells, and James McNeill Whistler come under the author's scrutiny, where they meet with equal measures of his characteristic wisdom and good humor.In addition to incisive assessments of well-known individuals (\"Mr. Rudyard Kipling and Making the World Small\" and \"Mr. H. G. Wells and the Giants\"), these essays contain observations on the wider world. \"On Sandals and Simplicity,\" \"Science and the Savages,\" \"On Certain Modern Writers and the Institution of the Family,\" \"On Smart Novelists and the Smart Set,\" and \"Slum Novelists and the Slums\" reflect the main themes of Chesterton's life's work. Heretics roused the ire of some critics for censuring contemporary philosophies without providing alternatives; the author responded a few years later with a companion volume, Orthodoxy. Sardonic, jolly, and generous, both books are vintage Chesterton.He is criticizing those who hold incomplete and inadequate views about \"life, the universe, and everything.\" He is, in short, criticizing all that host of non-Christian views of reality, as he demonstrated in his follow-up book Orthodoxy. The book is both an easy read and a difficult read. But he manages to demonstrate, among other things, that our new 21st century heresies are really not new because he himself deals with most of them.   \n",
       "\n",
       "                                                                 url  \\\n",
       "number                                                                 \n",
       "377                    https://www.goodreads.com/review/show/2756260   \n",
       "4       https://www.goodreads.com/book/show/1885.Pride_and_Prejudice   \n",
       "358                 https://www.goodreads.com/review/show/2506231654   \n",
       "29798                https://www.goodreads.com/review/show/337968509   \n",
       "20084                 https://www.goodreads.com/review/show/58292307   \n",
       "\n",
       "        Similarity  \n",
       "number              \n",
       "377           0.76  \n",
       "4             0.75  \n",
       "358           0.72  \n",
       "29798         0.63  \n",
       "20084         0.62  "
      ]
     },
     "execution_count": 377,
     "metadata": {},
     "output_type": "execute_result"
    }
   ],
   "source": [
    "search_engine_3(5,df, inverted_index, plot='pride', query_author='austen', query_rating_value=4)"
   ]
  },
  {
   "cell_type": "code",
   "execution_count": null,
   "metadata": {},
   "outputs": [],
   "source": []
  }
 ],
 "metadata": {
  "kernelspec": {
   "display_name": "Python 3",
   "language": "python",
   "name": "python3"
  },
  "language_info": {
   "codemirror_mode": {
    "name": "ipython",
    "version": 3
   },
   "file_extension": ".py",
   "mimetype": "text/x-python",
   "name": "python",
   "nbconvert_exporter": "python",
   "pygments_lexer": "ipython3",
   "version": "3.8.3"
  }
 },
 "nbformat": 4,
 "nbformat_minor": 4
}
