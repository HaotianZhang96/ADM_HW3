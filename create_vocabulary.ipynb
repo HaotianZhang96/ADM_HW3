{
 "cells": [
  {
   "cell_type": "code",
   "execution_count": 1,
   "metadata": {},
   "outputs": [],
   "source": [
    "import pandas as pd\n",
    "import glob\n",
    "import os\n",
    "import re\n",
    "from langdetect import detect\n",
    "import nltk"
   ]
  },
  {
   "cell_type": "code",
   "execution_count": 3,
   "metadata": {},
   "outputs": [],
   "source": [
    "extension = 'tsv'\n",
    "filenames = [i for i in glob.glob('*.{}'.format(extension))]"
   ]
  },
  {
   "cell_type": "code",
   "execution_count": 5,
   "metadata": {},
   "outputs": [],
   "source": [
    "column_names = ['title', 'series', 'author', 'ratingValue', 'ratingCount', 'plots', 'reviewCount', 'date', 'characters', 'settings', 'url']"
   ]
  },
  {
   "cell_type": "code",
   "execution_count": 6,
   "metadata": {},
   "outputs": [],
   "source": [
    "dataset = pd.concat([pd.read_csv(f, sep='\\t', header=None, names = column_names) for f in filenames], axis = 0)"
   ]
  },
  {
   "cell_type": "code",
   "execution_count": 7,
   "metadata": {},
   "outputs": [],
   "source": [
    "numbers = list(map(lambda x : int(re.search(\"[0-9]+\" ,x).group(0)), filenames))"
   ]
  },
  {
   "cell_type": "code",
   "execution_count": 9,
   "metadata": {},
   "outputs": [],
   "source": [
    "dataset[\"index\"] = numbers"
   ]
  },
  {
   "cell_type": "code",
   "execution_count": 10,
   "metadata": {},
   "outputs": [],
   "source": [
    "ds = dataset.sort_values(by=['index'])"
   ]
  },
  {
   "cell_type": "code",
   "execution_count": 11,
   "metadata": {},
   "outputs": [
    {
     "data": {
      "text/html": [
       "<div>\n",
       "<style scoped>\n",
       "    .dataframe tbody tr th:only-of-type {\n",
       "        vertical-align: middle;\n",
       "    }\n",
       "\n",
       "    .dataframe tbody tr th {\n",
       "        vertical-align: top;\n",
       "    }\n",
       "\n",
       "    .dataframe thead th {\n",
       "        text-align: right;\n",
       "    }\n",
       "</style>\n",
       "<table border=\"1\" class=\"dataframe\">\n",
       "  <thead>\n",
       "    <tr style=\"text-align: right;\">\n",
       "      <th></th>\n",
       "      <th>title</th>\n",
       "      <th>series</th>\n",
       "      <th>author</th>\n",
       "      <th>ratingValue</th>\n",
       "      <th>ratingCount</th>\n",
       "      <th>plots</th>\n",
       "      <th>reviewCount</th>\n",
       "      <th>date</th>\n",
       "      <th>characters</th>\n",
       "      <th>settings</th>\n",
       "      <th>url</th>\n",
       "      <th>index</th>\n",
       "    </tr>\n",
       "  </thead>\n",
       "  <tbody>\n",
       "    <tr>\n",
       "      <th>0</th>\n",
       "      <td>The Hunger Games</td>\n",
       "      <td>The Hunger Games #1</td>\n",
       "      <td>Suzanne Collins</td>\n",
       "      <td>4.33</td>\n",
       "      <td>6414062.0</td>\n",
       "      <td>Could you survive on your own in the wild, wit...</td>\n",
       "      <td>374.0</td>\n",
       "      <td>September 14th 2008</td>\n",
       "      <td>Katniss Everdeen, Peeta Mellark, Cato (Hunger ...</td>\n",
       "      <td>District 12 Panem, Capitol Panem, Panem</td>\n",
       "      <td>https://www.goodreads.com/book/show/2767052-th...</td>\n",
       "      <td>1</td>\n",
       "    </tr>\n",
       "    <tr>\n",
       "      <th>0</th>\n",
       "      <td>Harry Potter and the Order of the Phoenix</td>\n",
       "      <td>Harry Potter #5</td>\n",
       "      <td>J.K. Rowling</td>\n",
       "      <td>4.50</td>\n",
       "      <td>2528402.0</td>\n",
       "      <td>There is a door at the end of a silent corrido...</td>\n",
       "      <td>870.0</td>\n",
       "      <td>September 2004</td>\n",
       "      <td>Sirius Black, Draco Malfoy, Ron Weasley, Petun...</td>\n",
       "      <td>Hogwarts School of Witchcraft and Wizardry, Lo...</td>\n",
       "      <td>https://www.goodreads.com/book/show/2.Harry_Po...</td>\n",
       "      <td>2</td>\n",
       "    </tr>\n",
       "    <tr>\n",
       "      <th>0</th>\n",
       "      <td>To Kill a Mockingbird</td>\n",
       "      <td>To Kill a Mockingbird</td>\n",
       "      <td>Harper Lee</td>\n",
       "      <td>4.28</td>\n",
       "      <td>4532078.0</td>\n",
       "      <td>The unforgettable novel of a childhood in a sl...</td>\n",
       "      <td>324.0</td>\n",
       "      <td>May 23rd 2006</td>\n",
       "      <td>Scout Finch, Atticus Finch, Jem Finch, Arthur ...</td>\n",
       "      <td>Maycomb Alabama</td>\n",
       "      <td>https://www.goodreads.com/book/show/2657.To_Ki...</td>\n",
       "      <td>3</td>\n",
       "    </tr>\n",
       "    <tr>\n",
       "      <th>0</th>\n",
       "      <td>Pride and Prejudice</td>\n",
       "      <td>NaN</td>\n",
       "      <td>Jane Austen</td>\n",
       "      <td>4.26</td>\n",
       "      <td>3021524.0</td>\n",
       "      <td>Alternate cover edition of ISBN 9780679783268S...</td>\n",
       "      <td>279.0</td>\n",
       "      <td>October 10th 2000</td>\n",
       "      <td>Mr. Bennet, Mrs. Bennet, Jane Bennet, Elizabet...</td>\n",
       "      <td>United Kingdom, Derbyshire England, England, H...</td>\n",
       "      <td>https://www.goodreads.com/book/show/1885.Pride...</td>\n",
       "      <td>4</td>\n",
       "    </tr>\n",
       "    <tr>\n",
       "      <th>0</th>\n",
       "      <td>Twilight</td>\n",
       "      <td>The Twilight Saga #1</td>\n",
       "      <td>Stephenie Meyer</td>\n",
       "      <td>3.60</td>\n",
       "      <td>4994637.0</td>\n",
       "      <td>About three things I was absolutely positive.F...</td>\n",
       "      <td>501.0</td>\n",
       "      <td>September 6th 2006</td>\n",
       "      <td>Edward Cullen, Jacob Black, Laurent, Renee, Be...</td>\n",
       "      <td>Forks Washington, Phoenix Arizona, Washington ...</td>\n",
       "      <td>https://www.goodreads.com/book/show/41865.Twil...</td>\n",
       "      <td>5</td>\n",
       "    </tr>\n",
       "  </tbody>\n",
       "</table>\n",
       "</div>"
      ],
      "text/plain": [
       "                                       title                 series  \\\n",
       "0                           The Hunger Games    The Hunger Games #1   \n",
       "0  Harry Potter and the Order of the Phoenix        Harry Potter #5   \n",
       "0                      To Kill a Mockingbird  To Kill a Mockingbird   \n",
       "0                        Pride and Prejudice                    NaN   \n",
       "0                                   Twilight   The Twilight Saga #1   \n",
       "\n",
       "            author  ratingValue  ratingCount  \\\n",
       "0  Suzanne Collins         4.33    6414062.0   \n",
       "0     J.K. Rowling         4.50    2528402.0   \n",
       "0       Harper Lee         4.28    4532078.0   \n",
       "0      Jane Austen         4.26    3021524.0   \n",
       "0  Stephenie Meyer         3.60    4994637.0   \n",
       "\n",
       "                                               plots  reviewCount  \\\n",
       "0  Could you survive on your own in the wild, wit...        374.0   \n",
       "0  There is a door at the end of a silent corrido...        870.0   \n",
       "0  The unforgettable novel of a childhood in a sl...        324.0   \n",
       "0  Alternate cover edition of ISBN 9780679783268S...        279.0   \n",
       "0  About three things I was absolutely positive.F...        501.0   \n",
       "\n",
       "                  date                                         characters  \\\n",
       "0  September 14th 2008  Katniss Everdeen, Peeta Mellark, Cato (Hunger ...   \n",
       "0       September 2004  Sirius Black, Draco Malfoy, Ron Weasley, Petun...   \n",
       "0        May 23rd 2006  Scout Finch, Atticus Finch, Jem Finch, Arthur ...   \n",
       "0    October 10th 2000  Mr. Bennet, Mrs. Bennet, Jane Bennet, Elizabet...   \n",
       "0   September 6th 2006  Edward Cullen, Jacob Black, Laurent, Renee, Be...   \n",
       "\n",
       "                                            settings  \\\n",
       "0            District 12 Panem, Capitol Panem, Panem   \n",
       "0  Hogwarts School of Witchcraft and Wizardry, Lo...   \n",
       "0                                    Maycomb Alabama   \n",
       "0  United Kingdom, Derbyshire England, England, H...   \n",
       "0  Forks Washington, Phoenix Arizona, Washington ...   \n",
       "\n",
       "                                                 url  index  \n",
       "0  https://www.goodreads.com/book/show/2767052-th...      1  \n",
       "0  https://www.goodreads.com/book/show/2.Harry_Po...      2  \n",
       "0  https://www.goodreads.com/book/show/2657.To_Ki...      3  \n",
       "0  https://www.goodreads.com/book/show/1885.Pride...      4  \n",
       "0  https://www.goodreads.com/book/show/41865.Twil...      5  "
      ]
     },
     "execution_count": 11,
     "metadata": {},
     "output_type": "execute_result"
    }
   ],
   "source": [
    "ds.head()"
   ]
  },
  {
   "cell_type": "code",
   "execution_count": 12,
   "metadata": {},
   "outputs": [],
   "source": [
    "#drop rows where there is not plot\n",
    "ds = ds.dropna(subset = ['plots'])"
   ]
  },
  {
   "cell_type": "code",
   "execution_count": 14,
   "metadata": {},
   "outputs": [],
   "source": [
    "#check if the plot is in english\n",
    "def is_english(plot):\n",
    "    try:\n",
    "        result = (detect(plot) == 'en')\n",
    "    except:\n",
    "        #where the plot is empty\n",
    "        result = False\n",
    "    return(result)"
   ]
  },
  {
   "cell_type": "code",
   "execution_count": 15,
   "metadata": {},
   "outputs": [],
   "source": [
    "#discard not eglish plot\n",
    "df = ds[list(map(lambda x : is_english(x), list(ds['plots'])))]"
   ]
  },
  {
   "cell_type": "code",
   "execution_count": 78,
   "metadata": {},
   "outputs": [],
   "source": [
    "plots = df[['plots', 'index']]"
   ]
  },
  {
   "cell_type": "code",
   "execution_count": 79,
   "metadata": {},
   "outputs": [
    {
     "data": {
      "text/html": [
       "<div>\n",
       "<style scoped>\n",
       "    .dataframe tbody tr th:only-of-type {\n",
       "        vertical-align: middle;\n",
       "    }\n",
       "\n",
       "    .dataframe tbody tr th {\n",
       "        vertical-align: top;\n",
       "    }\n",
       "\n",
       "    .dataframe thead th {\n",
       "        text-align: right;\n",
       "    }\n",
       "</style>\n",
       "<table border=\"1\" class=\"dataframe\">\n",
       "  <thead>\n",
       "    <tr style=\"text-align: right;\">\n",
       "      <th></th>\n",
       "      <th>plots</th>\n",
       "      <th>index</th>\n",
       "    </tr>\n",
       "  </thead>\n",
       "  <tbody>\n",
       "    <tr>\n",
       "      <th>0</th>\n",
       "      <td>This is the first complete collection of Joan ...</td>\n",
       "      <td>29995</td>\n",
       "    </tr>\n",
       "    <tr>\n",
       "      <th>0</th>\n",
       "      <td>Not everyone can take on the things that go bu...</td>\n",
       "      <td>29996</td>\n",
       "    </tr>\n",
       "    <tr>\n",
       "      <th>0</th>\n",
       "      <td>Which are the logical tricks that will let you...</td>\n",
       "      <td>29997</td>\n",
       "    </tr>\n",
       "    <tr>\n",
       "      <th>0</th>\n",
       "      <td>Jess Mackey is living a meticulously fabricate...</td>\n",
       "      <td>29999</td>\n",
       "    </tr>\n",
       "    <tr>\n",
       "      <th>0</th>\n",
       "      <td>The 10 authors in this bundle would like to th...</td>\n",
       "      <td>30000</td>\n",
       "    </tr>\n",
       "  </tbody>\n",
       "</table>\n",
       "</div>"
      ],
      "text/plain": [
       "                                               plots  index\n",
       "0  This is the first complete collection of Joan ...  29995\n",
       "0  Not everyone can take on the things that go bu...  29996\n",
       "0  Which are the logical tricks that will let you...  29997\n",
       "0  Jess Mackey is living a meticulously fabricate...  29999\n",
       "0  The 10 authors in this bundle would like to th...  30000"
      ]
     },
     "execution_count": 79,
     "metadata": {},
     "output_type": "execute_result"
    }
   ],
   "source": [
    "plots.tail()"
   ]
  },
  {
   "cell_type": "markdown",
   "metadata": {},
   "source": [
    "## Remove Stop Word"
   ]
  },
  {
   "cell_type": "code",
   "execution_count": 34,
   "metadata": {},
   "outputs": [],
   "source": [
    "from nltk.corpus import stopwords"
   ]
  },
  {
   "cell_type": "code",
   "execution_count": 35,
   "metadata": {
    "collapsed": true
   },
   "outputs": [
    {
     "name": "stderr",
     "output_type": "stream",
     "text": [
      "[nltk_data] Downloading package stopwords to\n",
      "[nltk_data]     C:\\Users\\Alessandra\\AppData\\Roaming\\nltk_data...\n",
      "[nltk_data]   Unzipping corpora\\stopwords.zip.\n"
     ]
    }
   ],
   "source": [
    "nltk.download('stopwords')\n",
    "from nltk.tokenize import word_tokenize"
   ]
  },
  {
   "cell_type": "code",
   "execution_count": 95,
   "metadata": {},
   "outputs": [],
   "source": [
    "from nltk.tokenize import RegexpTokenizer"
   ]
  },
  {
   "cell_type": "code",
   "execution_count": 40,
   "metadata": {},
   "outputs": [
    {
     "name": "stdout",
     "output_type": "stream",
     "text": [
      "showing info https://raw.githubusercontent.com/nltk/nltk_data/gh-pages/index.xml\n"
     ]
    },
    {
     "data": {
      "text/plain": [
       "True"
      ]
     },
     "execution_count": 40,
     "metadata": {},
     "output_type": "execute_result"
    }
   ],
   "source": [
    " nltk.download()"
   ]
  },
  {
   "cell_type": "code",
   "execution_count": 36,
   "metadata": {},
   "outputs": [],
   "source": [
    "stop_words = set(stopwords.words('english'))"
   ]
  },
  {
   "cell_type": "code",
   "execution_count": 178,
   "metadata": {},
   "outputs": [],
   "source": [
    "def remove_stop_word(phrases):\n",
    "    tokenizer = RegexpTokenizer(r'[a-z]+')\n",
    "    word = tokenizer.tokenize(phrases.lower())\n",
    "    return [w for w in word if w not in stop_words]"
   ]
  },
  {
   "cell_type": "code",
   "execution_count": 179,
   "metadata": {
    "collapsed": true
   },
   "outputs": [
    {
     "name": "stderr",
     "output_type": "stream",
     "text": [
      "<ipython-input-179-a5dbe89053a5>:1: SettingWithCopyWarning: \n",
      "A value is trying to be set on a copy of a slice from a DataFrame.\n",
      "Try using .loc[row_indexer,col_indexer] = value instead\n",
      "\n",
      "See the caveats in the documentation: https://pandas.pydata.org/pandas-docs/stable/user_guide/indexing.html#returning-a-view-versus-a-copy\n",
      "  plots['words'] = plots.apply(lambda x : remove_stop_word(x['plots']), axis=1)\n"
     ]
    }
   ],
   "source": [
    "plots['words'] = plots.apply(lambda x : remove_stop_word(x['plots']), axis=1)"
   ]
  },
  {
   "cell_type": "code",
   "execution_count": 180,
   "metadata": {},
   "outputs": [
    {
     "data": {
      "text/html": [
       "<div>\n",
       "<style scoped>\n",
       "    .dataframe tbody tr th:only-of-type {\n",
       "        vertical-align: middle;\n",
       "    }\n",
       "\n",
       "    .dataframe tbody tr th {\n",
       "        vertical-align: top;\n",
       "    }\n",
       "\n",
       "    .dataframe thead th {\n",
       "        text-align: right;\n",
       "    }\n",
       "</style>\n",
       "<table border=\"1\" class=\"dataframe\">\n",
       "  <thead>\n",
       "    <tr style=\"text-align: right;\">\n",
       "      <th></th>\n",
       "      <th>plots</th>\n",
       "      <th>index</th>\n",
       "      <th>words</th>\n",
       "    </tr>\n",
       "  </thead>\n",
       "  <tbody>\n",
       "    <tr>\n",
       "      <th>0</th>\n",
       "      <td>Could you survive on your own in the wild, wit...</td>\n",
       "      <td>1</td>\n",
       "      <td>[could, survive, wild, every, one, make, sure,...</td>\n",
       "    </tr>\n",
       "    <tr>\n",
       "      <th>0</th>\n",
       "      <td>There is a door at the end of a silent corrido...</td>\n",
       "      <td>2</td>\n",
       "      <td>[door, end, silent, corridor, haunting, harry,...</td>\n",
       "    </tr>\n",
       "    <tr>\n",
       "      <th>0</th>\n",
       "      <td>The unforgettable novel of a childhood in a sl...</td>\n",
       "      <td>3</td>\n",
       "      <td>[unforgettable, novel, childhood, sleepy, sout...</td>\n",
       "    </tr>\n",
       "    <tr>\n",
       "      <th>0</th>\n",
       "      <td>Since its immediate success in 1813, Pride and...</td>\n",
       "      <td>4</td>\n",
       "      <td>[since, immediate, success, pride, prejudice, ...</td>\n",
       "    </tr>\n",
       "    <tr>\n",
       "      <th>0</th>\n",
       "      <td>About three things I was absolutely positive.F...</td>\n",
       "      <td>5</td>\n",
       "      <td>[three, things, absolutely, positive, first, e...</td>\n",
       "    </tr>\n",
       "  </tbody>\n",
       "</table>\n",
       "</div>"
      ],
      "text/plain": [
       "                                               plots  index  \\\n",
       "0  Could you survive on your own in the wild, wit...      1   \n",
       "0  There is a door at the end of a silent corrido...      2   \n",
       "0  The unforgettable novel of a childhood in a sl...      3   \n",
       "0  Since its immediate success in 1813, Pride and...      4   \n",
       "0  About three things I was absolutely positive.F...      5   \n",
       "\n",
       "                                               words  \n",
       "0  [could, survive, wild, every, one, make, sure,...  \n",
       "0  [door, end, silent, corridor, haunting, harry,...  \n",
       "0  [unforgettable, novel, childhood, sleepy, sout...  \n",
       "0  [since, immediate, success, pride, prejudice, ...  \n",
       "0  [three, things, absolutely, positive, first, e...  "
      ]
     },
     "execution_count": 180,
     "metadata": {},
     "output_type": "execute_result"
    }
   ],
   "source": [
    "plots.head()"
   ]
  },
  {
   "cell_type": "code",
   "execution_count": 181,
   "metadata": {},
   "outputs": [],
   "source": [
    "words = plots[['words', 'index']]"
   ]
  },
  {
   "cell_type": "code",
   "execution_count": 182,
   "metadata": {},
   "outputs": [
    {
     "data": {
      "text/html": [
       "<div>\n",
       "<style scoped>\n",
       "    .dataframe tbody tr th:only-of-type {\n",
       "        vertical-align: middle;\n",
       "    }\n",
       "\n",
       "    .dataframe tbody tr th {\n",
       "        vertical-align: top;\n",
       "    }\n",
       "\n",
       "    .dataframe thead th {\n",
       "        text-align: right;\n",
       "    }\n",
       "</style>\n",
       "<table border=\"1\" class=\"dataframe\">\n",
       "  <thead>\n",
       "    <tr style=\"text-align: right;\">\n",
       "      <th></th>\n",
       "      <th>words</th>\n",
       "      <th>index</th>\n",
       "    </tr>\n",
       "  </thead>\n",
       "  <tbody>\n",
       "    <tr>\n",
       "      <th>0</th>\n",
       "      <td>[could, survive, wild, every, one, make, sure,...</td>\n",
       "      <td>1</td>\n",
       "    </tr>\n",
       "    <tr>\n",
       "      <th>0</th>\n",
       "      <td>[door, end, silent, corridor, haunting, harry,...</td>\n",
       "      <td>2</td>\n",
       "    </tr>\n",
       "    <tr>\n",
       "      <th>0</th>\n",
       "      <td>[unforgettable, novel, childhood, sleepy, sout...</td>\n",
       "      <td>3</td>\n",
       "    </tr>\n",
       "    <tr>\n",
       "      <th>0</th>\n",
       "      <td>[since, immediate, success, pride, prejudice, ...</td>\n",
       "      <td>4</td>\n",
       "    </tr>\n",
       "    <tr>\n",
       "      <th>0</th>\n",
       "      <td>[three, things, absolutely, positive, first, e...</td>\n",
       "      <td>5</td>\n",
       "    </tr>\n",
       "  </tbody>\n",
       "</table>\n",
       "</div>"
      ],
      "text/plain": [
       "                                               words  index\n",
       "0  [could, survive, wild, every, one, make, sure,...      1\n",
       "0  [door, end, silent, corridor, haunting, harry,...      2\n",
       "0  [unforgettable, novel, childhood, sleepy, sout...      3\n",
       "0  [since, immediate, success, pride, prejudice, ...      4\n",
       "0  [three, things, absolutely, positive, first, e...      5"
      ]
     },
     "execution_count": 182,
     "metadata": {},
     "output_type": "execute_result"
    }
   ],
   "source": [
    "words.head()"
   ]
  },
  {
   "cell_type": "code",
   "execution_count": 183,
   "metadata": {},
   "outputs": [],
   "source": [
    "words = words.explode(column='words')"
   ]
  },
  {
   "cell_type": "code",
   "execution_count": 196,
   "metadata": {},
   "outputs": [],
   "source": [
    "vocabulary = words.groupby('words')['index'].apply(list).to_dict()"
   ]
  },
  {
   "cell_type": "code",
   "execution_count": 239,
   "metadata": {},
   "outputs": [],
   "source": [
    "keys = list(vocabulary.keys())"
   ]
  },
  {
   "cell_type": "code",
   "execution_count": 241,
   "metadata": {},
   "outputs": [
    {
     "name": "stdout",
     "output_type": "stream",
     "text": [
      "adamantine [23332]\n",
      "adamantly [28435]\n",
      "adamat [6384]\n",
      "adams [156, 283, 658, 658, 658, 658, 658, 658, 658, 658, 658, 658, 658, 658, 658, 658, 658, 658, 658, 768, 814, 1945, 2923, 3001, 3410, 3464, 3860, 4313, 4639, 4639, 4639, 4639, 4764, 5270, 5790, 6353, 6353, 7057, 7085, 7314, 7461, 8373, 9067, 9272, 9272, 9272, 9564, 9576, 9995, 20632, 20670, 20670, 20905, 20905, 21797, 22517, 22622, 22738, 22831, 23286, 23306, 23390, 23948, 24385, 25093, 25093, 25093, 25093, 25357, 25383, 25795, 25999, 26514, 26775, 27273, 27273, 27273, 27273, 27273, 27273, 27273, 27301, 28436, 28670, 28879, 29428, 29620, 29825]\n",
      "adamsdebated [9067]\n",
      "adamson [6414, 6414, 8530]\n",
      "adan [26775, 27515]\n",
      "adana [22622]\n",
      "adapt [300, 1039, 1445, 1880, 2813, 2962, 2962, 3154, 3545, 4262, 4330, 5949, 5980, 6431, 6785, 7071, 8265, 8297, 9140, 9204, 9207, 9628, 9908, 20875, 21009, 21419, 22532, 23188, 23848, 23927, 24134, 24509, 24897, 26022, 26759, 27454, 27824, 28509, 28549, 28742, 28742, 28890, 28912, 29106, 29829]\n",
      "adaptability [20004, 26994]\n"
     ]
    }
   ],
   "source": [
    "for k in keys[500:510]:\n",
    "    print(k, vocabulary[k])"
   ]
  },
  {
   "cell_type": "code",
   "execution_count": 197,
   "metadata": {},
   "outputs": [],
   "source": [
    "#save on file\n",
    "import json\n",
    "with open('result.json', 'w') as fp:\n",
    "    json.dump(vocabulary, fp)"
   ]
  }
 ],
 "metadata": {
  "kernelspec": {
   "display_name": "Python 3",
   "language": "python",
   "name": "python3"
  },
  "language_info": {
   "codemirror_mode": {
    "name": "ipython",
    "version": 3
   },
   "file_extension": ".py",
   "mimetype": "text/x-python",
   "name": "python",
   "nbconvert_exporter": "python",
   "pygments_lexer": "ipython3",
   "version": "3.8.3"
  }
 },
 "nbformat": 4,
 "nbformat_minor": 4
}
