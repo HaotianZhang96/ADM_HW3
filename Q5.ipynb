{
 "cells": [
  {
   "cell_type": "markdown",
   "metadata": {},
   "source": [
    "# 5.1 \n",
    "Write a recursive program that, given a string, computes the length of the subsequence of maximum length that is in alphabetical order. Try some examples. Are the examples of short strings correct? Can you find examples that your algorithm does not terminate in reasonable time?"
   ]
  },
  {
   "cell_type": "markdown",
   "metadata": {
    "ExecuteTime": {
     "end_time": "2020-12-06T11:56:41.240985Z",
     "start_time": "2020-12-06T11:56:41.227910Z"
    }
   },
   "source": [
    "Define as X[i] = \"the length of the longest sequence of characters in alphabetical order that terminates at the i-th character\".   \n",
    "One can prove that  \n",
    "X[i] = 1 + max{X[j]; j = 0, ..., i-1, such that S[j]<S[i]}  \n",
    "X[i] = 1, if there does not exist such a j.  "
   ]
  },
  {
   "cell_type": "code",
   "execution_count": 17,
   "metadata": {
    "ExecuteTime": {
     "end_time": "2020-12-06T12:59:21.343968Z",
     "start_time": "2020-12-06T12:59:21.333968Z"
    }
   },
   "outputs": [],
   "source": [
    "def max_length_recursive(s,l):\n",
    "    if l==0:\n",
    "        x=1\n",
    "    else:\n",
    "        x= 1+ max(max_length_recursive(s,j) for j in range(l) if s[j]<s[l])\n",
    "    return x"
   ]
  },
  {
   "cell_type": "code",
   "execution_count": 20,
   "metadata": {
    "ExecuteTime": {
     "end_time": "2020-12-06T12:59:47.655558Z",
     "start_time": "2020-12-06T12:59:47.650579Z"
    }
   },
   "outputs": [
    {
     "data": {
      "text/plain": [
       "5"
      ]
     },
     "execution_count": 20,
     "metadata": {},
     "output_type": "execute_result"
    }
   ],
   "source": [
    "max_length_recursive('abgcdhde',5)"
   ]
  },
  {
   "cell_type": "code",
   "execution_count": 25,
   "metadata": {
    "ExecuteTime": {
     "end_time": "2020-12-06T13:12:39.520570Z",
     "start_time": "2020-12-06T13:12:39.513543Z"
    }
   },
   "outputs": [],
   "source": [
    "def max_length_alphabetical(s):\n",
    "    y = max_length_recursive(s+chr(ord('z')+1),len(s))-1\n",
    "    return y"
   ]
  },
  {
   "cell_type": "code",
   "execution_count": 26,
   "metadata": {
    "ExecuteTime": {
     "end_time": "2020-12-06T13:12:41.492009Z",
     "start_time": "2020-12-06T13:12:41.483031Z"
    }
   },
   "outputs": [
    {
     "data": {
      "text/plain": [
       "5"
      ]
     },
     "execution_count": 26,
     "metadata": {},
     "output_type": "execute_result"
    }
   ],
   "source": [
    "max_length_alphabetical('abgcdhde')"
   ]
  },
  {
   "cell_type": "markdown",
   "metadata": {},
   "source": [
    "# 5.2 \n",
    "Show that the running time of the algorithm is exponential."
   ]
  },
  {
   "cell_type": "markdown",
   "metadata": {},
   "source": [
    " T(0)=1  \n",
    " T(1)=1+T(0)=2  \n",
    " ...  \n",
    " $T(n)=T(n-1)+T(n-2)+...+T(0)+1=O(2^n)$"
   ]
  },
  {
   "cell_type": "markdown",
   "metadata": {},
   "source": [
    "# 5.3\n",
    "Write a program that computes the length of the subsequence of maximum length, using dynamic programming."
   ]
  },
  {
   "cell_type": "code",
   "execution_count": 41,
   "metadata": {
    "ExecuteTime": {
     "end_time": "2020-12-06T13:37:19.623388Z",
     "start_time": "2020-12-06T13:37:19.619292Z"
    }
   },
   "outputs": [],
   "source": [
    "def lengthOfLIS(s):\n",
    "    dp = []       \n",
    "    n = len(s)\n",
    "    maxl = 0\n",
    "    for i in range(n):\n",
    "        tmp = 1\n",
    "        for j in range(0,i):\n",
    "            if s[j]<s[i]:\n",
    "                tmp = max(tmp,1+dp[j])\n",
    "        dp.append(tmp)\n",
    "        if maxl < tmp:\n",
    "            maxl = tmp\n",
    "    return maxl"
   ]
  },
  {
   "cell_type": "code",
   "execution_count": 42,
   "metadata": {
    "ExecuteTime": {
     "end_time": "2020-12-06T13:37:21.080547Z",
     "start_time": "2020-12-06T13:37:21.069554Z"
    }
   },
   "outputs": [
    {
     "data": {
      "text/plain": [
       "5"
      ]
     },
     "execution_count": 42,
     "metadata": {},
     "output_type": "execute_result"
    }
   ],
   "source": [
    "lengthOfLIS('abgcdhde')"
   ]
  },
  {
   "cell_type": "markdown",
   "metadata": {
    "ExecuteTime": {
     "end_time": "2020-12-06T13:40:25.295254Z",
     "start_time": "2020-12-06T13:40:25.288261Z"
    }
   },
   "source": [
    "# 5.4 What is its runtime complexity?"
   ]
  },
  {
   "cell_type": "markdown",
   "metadata": {},
   "source": [
    "In the code, variable (i) traverses from 0 to n-1, and varible (j) traverses from 0 to i-1. The innermost logic is calculated in total O($\\theta$) times.\n",
    "$O(\\theta)= 0+1+2+3+...+n−2= \\frac{(n-2)(n-1)}{2}=O(n^2)$\n",
    "\t"
   ]
  },
  {
   "cell_type": "code",
   "execution_count": null,
   "metadata": {},
   "outputs": [],
   "source": []
  }
 ],
 "metadata": {
  "kernelspec": {
   "display_name": "Python 3",
   "language": "python",
   "name": "python3"
  },
  "language_info": {
   "codemirror_mode": {
    "name": "ipython",
    "version": 3
   },
   "file_extension": ".py",
   "mimetype": "text/x-python",
   "name": "python",
   "nbconvert_exporter": "python",
   "pygments_lexer": "ipython3",
   "version": "3.8.3"
  }
 },
 "nbformat": 4,
 "nbformat_minor": 4
}
