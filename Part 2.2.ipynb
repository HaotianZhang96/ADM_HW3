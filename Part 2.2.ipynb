{
 "cells": [
  {
   "cell_type": "markdown",
   "metadata": {},
   "source": [
    "# Import modules"
   ]
  },
  {
   "cell_type": "code",
   "execution_count": 53,
   "metadata": {
    "ExecuteTime": {
     "end_time": "2020-12-06T08:01:37.769057Z",
     "start_time": "2020-12-06T08:01:37.762076Z"
    }
   },
   "outputs": [],
   "source": [
    "import pandas as pd\n",
    "import heapq\n",
    "import os  \n",
    "import sys  \n",
    "import json\n",
    "import numpy as np"
   ]
  },
  {
   "cell_type": "markdown",
   "metadata": {},
   "source": [
    "## 2.2.1 Inverted index"
   ]
  },
  {
   "cell_type": "code",
   "execution_count": 2,
   "metadata": {
    "ExecuteTime": {
     "end_time": "2020-12-06T07:22:47.381130Z",
     "start_time": "2020-12-06T07:22:47.068990Z"
    }
   },
   "outputs": [],
   "source": [
    "dataset = pd.read_csv('books_dataset.tsv', sep='\\t', index_col=None)"
   ]
  },
  {
   "cell_type": "code",
   "execution_count": 3,
   "metadata": {
    "ExecuteTime": {
     "end_time": "2020-12-06T07:22:47.426990Z",
     "start_time": "2020-12-06T07:22:47.384990Z"
    }
   },
   "outputs": [
    {
     "data": {
      "text/html": [
       "<div>\n",
       "<style scoped>\n",
       "    .dataframe tbody tr th:only-of-type {\n",
       "        vertical-align: middle;\n",
       "    }\n",
       "\n",
       "    .dataframe tbody tr th {\n",
       "        vertical-align: top;\n",
       "    }\n",
       "\n",
       "    .dataframe thead th {\n",
       "        text-align: right;\n",
       "    }\n",
       "</style>\n",
       "<table border=\"1\" class=\"dataframe\">\n",
       "  <thead>\n",
       "    <tr style=\"text-align: right;\">\n",
       "      <th></th>\n",
       "      <th>title</th>\n",
       "      <th>series</th>\n",
       "      <th>author</th>\n",
       "      <th>ratingValue</th>\n",
       "      <th>ratingCount</th>\n",
       "      <th>plots</th>\n",
       "      <th>reviewCount</th>\n",
       "      <th>date</th>\n",
       "      <th>characters</th>\n",
       "      <th>settings</th>\n",
       "      <th>url</th>\n",
       "      <th>index</th>\n",
       "    </tr>\n",
       "  </thead>\n",
       "  <tbody>\n",
       "    <tr>\n",
       "      <th>0</th>\n",
       "      <td>The Hunger Games</td>\n",
       "      <td>The Hunger Games #1</td>\n",
       "      <td>Suzanne Collins</td>\n",
       "      <td>4.33</td>\n",
       "      <td>6414062.0</td>\n",
       "      <td>Could you survive on your own in the wild, wit...</td>\n",
       "      <td>374.0</td>\n",
       "      <td>September 14th 2008</td>\n",
       "      <td>Katniss Everdeen, Peeta Mellark, Cato (Hunger ...</td>\n",
       "      <td>District 12 Panem, Capitol Panem, Panem</td>\n",
       "      <td>https://www.goodreads.com/book/show/2767052-th...</td>\n",
       "      <td>1</td>\n",
       "    </tr>\n",
       "    <tr>\n",
       "      <th>1</th>\n",
       "      <td>Harry Potter and the Order of the Phoenix</td>\n",
       "      <td>Harry Potter #5</td>\n",
       "      <td>J.K. Rowling</td>\n",
       "      <td>4.50</td>\n",
       "      <td>2528402.0</td>\n",
       "      <td>There is a door at the end of a silent corrido...</td>\n",
       "      <td>870.0</td>\n",
       "      <td>September 2004</td>\n",
       "      <td>Sirius Black, Draco Malfoy, Ron Weasley, Petun...</td>\n",
       "      <td>Hogwarts School of Witchcraft and Wizardry, Lo...</td>\n",
       "      <td>https://www.goodreads.com/book/show/2.Harry_Po...</td>\n",
       "      <td>2</td>\n",
       "    </tr>\n",
       "    <tr>\n",
       "      <th>2</th>\n",
       "      <td>To Kill a Mockingbird</td>\n",
       "      <td>To Kill a Mockingbird</td>\n",
       "      <td>Harper Lee</td>\n",
       "      <td>4.28</td>\n",
       "      <td>4532078.0</td>\n",
       "      <td>The unforgettable novel of a childhood in a sl...</td>\n",
       "      <td>324.0</td>\n",
       "      <td>May 23rd 2006</td>\n",
       "      <td>Scout Finch, Atticus Finch, Jem Finch, Arthur ...</td>\n",
       "      <td>Maycomb Alabama</td>\n",
       "      <td>https://www.goodreads.com/book/show/2657.To_Ki...</td>\n",
       "      <td>3</td>\n",
       "    </tr>\n",
       "    <tr>\n",
       "      <th>3</th>\n",
       "      <td>Pride and Prejudice</td>\n",
       "      <td>NaN</td>\n",
       "      <td>Jane Austen</td>\n",
       "      <td>4.26</td>\n",
       "      <td>3021524.0</td>\n",
       "      <td>Since its immediate success in 1813, Pride and...</td>\n",
       "      <td>279.0</td>\n",
       "      <td>October 10th 2000</td>\n",
       "      <td>Mr. Bennet, Mrs. Bennet, Jane Bennet, Elizabet...</td>\n",
       "      <td>United Kingdom, Derbyshire England, England, H...</td>\n",
       "      <td>https://www.goodreads.com/book/show/1885.Pride...</td>\n",
       "      <td>4</td>\n",
       "    </tr>\n",
       "    <tr>\n",
       "      <th>4</th>\n",
       "      <td>Twilight</td>\n",
       "      <td>The Twilight Saga #1</td>\n",
       "      <td>Stephenie Meyer</td>\n",
       "      <td>3.60</td>\n",
       "      <td>4994637.0</td>\n",
       "      <td>About three things I was absolutely positive.F...</td>\n",
       "      <td>501.0</td>\n",
       "      <td>September 6th 2006</td>\n",
       "      <td>Edward Cullen, Jacob Black, Laurent, Renee, Be...</td>\n",
       "      <td>Forks Washington, Phoenix Arizona, Washington ...</td>\n",
       "      <td>https://www.goodreads.com/book/show/41865.Twil...</td>\n",
       "      <td>5</td>\n",
       "    </tr>\n",
       "  </tbody>\n",
       "</table>\n",
       "</div>"
      ],
      "text/plain": [
       "                                       title                 series  \\\n",
       "0                           The Hunger Games    The Hunger Games #1   \n",
       "1  Harry Potter and the Order of the Phoenix        Harry Potter #5   \n",
       "2                      To Kill a Mockingbird  To Kill a Mockingbird   \n",
       "3                        Pride and Prejudice                    NaN   \n",
       "4                                   Twilight   The Twilight Saga #1   \n",
       "\n",
       "            author  ratingValue  ratingCount  \\\n",
       "0  Suzanne Collins         4.33    6414062.0   \n",
       "1     J.K. Rowling         4.50    2528402.0   \n",
       "2       Harper Lee         4.28    4532078.0   \n",
       "3      Jane Austen         4.26    3021524.0   \n",
       "4  Stephenie Meyer         3.60    4994637.0   \n",
       "\n",
       "                                               plots  reviewCount  \\\n",
       "0  Could you survive on your own in the wild, wit...        374.0   \n",
       "1  There is a door at the end of a silent corrido...        870.0   \n",
       "2  The unforgettable novel of a childhood in a sl...        324.0   \n",
       "3  Since its immediate success in 1813, Pride and...        279.0   \n",
       "4  About three things I was absolutely positive.F...        501.0   \n",
       "\n",
       "                  date                                         characters  \\\n",
       "0  September 14th 2008  Katniss Everdeen, Peeta Mellark, Cato (Hunger ...   \n",
       "1       September 2004  Sirius Black, Draco Malfoy, Ron Weasley, Petun...   \n",
       "2        May 23rd 2006  Scout Finch, Atticus Finch, Jem Finch, Arthur ...   \n",
       "3    October 10th 2000  Mr. Bennet, Mrs. Bennet, Jane Bennet, Elizabet...   \n",
       "4   September 6th 2006  Edward Cullen, Jacob Black, Laurent, Renee, Be...   \n",
       "\n",
       "                                            settings  \\\n",
       "0            District 12 Panem, Capitol Panem, Panem   \n",
       "1  Hogwarts School of Witchcraft and Wizardry, Lo...   \n",
       "2                                    Maycomb Alabama   \n",
       "3  United Kingdom, Derbyshire England, England, H...   \n",
       "4  Forks Washington, Phoenix Arizona, Washington ...   \n",
       "\n",
       "                                                 url  index  \n",
       "0  https://www.goodreads.com/book/show/2767052-th...      1  \n",
       "1  https://www.goodreads.com/book/show/2.Harry_Po...      2  \n",
       "2  https://www.goodreads.com/book/show/2657.To_Ki...      3  \n",
       "3  https://www.goodreads.com/book/show/1885.Pride...      4  \n",
       "4  https://www.goodreads.com/book/show/41865.Twil...      5  "
      ]
     },
     "execution_count": 3,
     "metadata": {},
     "output_type": "execute_result"
    }
   ],
   "source": [
    "dataset.head(5)"
   ]
  },
  {
   "cell_type": "code",
   "execution_count": 4,
   "metadata": {
    "ExecuteTime": {
     "end_time": "2020-12-06T07:22:47.457986Z",
     "start_time": "2020-12-06T07:22:47.432987Z"
    }
   },
   "outputs": [
    {
     "data": {
      "text/html": [
       "<div>\n",
       "<style scoped>\n",
       "    .dataframe tbody tr th:only-of-type {\n",
       "        vertical-align: middle;\n",
       "    }\n",
       "\n",
       "    .dataframe tbody tr th {\n",
       "        vertical-align: top;\n",
       "    }\n",
       "\n",
       "    .dataframe thead th {\n",
       "        text-align: right;\n",
       "    }\n",
       "</style>\n",
       "<table border=\"1\" class=\"dataframe\">\n",
       "  <thead>\n",
       "    <tr style=\"text-align: right;\">\n",
       "      <th></th>\n",
       "      <th>title</th>\n",
       "      <th>plots</th>\n",
       "      <th>author</th>\n",
       "      <th>characters</th>\n",
       "      <th>settings</th>\n",
       "      <th>url</th>\n",
       "      <th>index</th>\n",
       "    </tr>\n",
       "  </thead>\n",
       "  <tbody>\n",
       "    <tr>\n",
       "      <th>0</th>\n",
       "      <td>The Hunger Games</td>\n",
       "      <td>Could you survive on your own in the wild, wit...</td>\n",
       "      <td>Suzanne Collins</td>\n",
       "      <td>Katniss Everdeen, Peeta Mellark, Cato (Hunger ...</td>\n",
       "      <td>District 12 Panem, Capitol Panem, Panem</td>\n",
       "      <td>https://www.goodreads.com/book/show/2767052-th...</td>\n",
       "      <td>1</td>\n",
       "    </tr>\n",
       "    <tr>\n",
       "      <th>1</th>\n",
       "      <td>Harry Potter and the Order of the Phoenix</td>\n",
       "      <td>There is a door at the end of a silent corrido...</td>\n",
       "      <td>J.K. Rowling</td>\n",
       "      <td>Sirius Black, Draco Malfoy, Ron Weasley, Petun...</td>\n",
       "      <td>Hogwarts School of Witchcraft and Wizardry, Lo...</td>\n",
       "      <td>https://www.goodreads.com/book/show/2.Harry_Po...</td>\n",
       "      <td>2</td>\n",
       "    </tr>\n",
       "    <tr>\n",
       "      <th>2</th>\n",
       "      <td>To Kill a Mockingbird</td>\n",
       "      <td>The unforgettable novel of a childhood in a sl...</td>\n",
       "      <td>Harper Lee</td>\n",
       "      <td>Scout Finch, Atticus Finch, Jem Finch, Arthur ...</td>\n",
       "      <td>Maycomb Alabama</td>\n",
       "      <td>https://www.goodreads.com/book/show/2657.To_Ki...</td>\n",
       "      <td>3</td>\n",
       "    </tr>\n",
       "    <tr>\n",
       "      <th>3</th>\n",
       "      <td>Pride and Prejudice</td>\n",
       "      <td>Since its immediate success in 1813, Pride and...</td>\n",
       "      <td>Jane Austen</td>\n",
       "      <td>Mr. Bennet, Mrs. Bennet, Jane Bennet, Elizabet...</td>\n",
       "      <td>United Kingdom, Derbyshire England, England, H...</td>\n",
       "      <td>https://www.goodreads.com/book/show/1885.Pride...</td>\n",
       "      <td>4</td>\n",
       "    </tr>\n",
       "    <tr>\n",
       "      <th>4</th>\n",
       "      <td>Twilight</td>\n",
       "      <td>About three things I was absolutely positive.F...</td>\n",
       "      <td>Stephenie Meyer</td>\n",
       "      <td>Edward Cullen, Jacob Black, Laurent, Renee, Be...</td>\n",
       "      <td>Forks Washington, Phoenix Arizona, Washington ...</td>\n",
       "      <td>https://www.goodreads.com/book/show/41865.Twil...</td>\n",
       "      <td>5</td>\n",
       "    </tr>\n",
       "  </tbody>\n",
       "</table>\n",
       "</div>"
      ],
      "text/plain": [
       "                                       title  \\\n",
       "0                           The Hunger Games   \n",
       "1  Harry Potter and the Order of the Phoenix   \n",
       "2                      To Kill a Mockingbird   \n",
       "3                        Pride and Prejudice   \n",
       "4                                   Twilight   \n",
       "\n",
       "                                               plots           author  \\\n",
       "0  Could you survive on your own in the wild, wit...  Suzanne Collins   \n",
       "1  There is a door at the end of a silent corrido...     J.K. Rowling   \n",
       "2  The unforgettable novel of a childhood in a sl...       Harper Lee   \n",
       "3  Since its immediate success in 1813, Pride and...      Jane Austen   \n",
       "4  About three things I was absolutely positive.F...  Stephenie Meyer   \n",
       "\n",
       "                                          characters  \\\n",
       "0  Katniss Everdeen, Peeta Mellark, Cato (Hunger ...   \n",
       "1  Sirius Black, Draco Malfoy, Ron Weasley, Petun...   \n",
       "2  Scout Finch, Atticus Finch, Jem Finch, Arthur ...   \n",
       "3  Mr. Bennet, Mrs. Bennet, Jane Bennet, Elizabet...   \n",
       "4  Edward Cullen, Jacob Black, Laurent, Renee, Be...   \n",
       "\n",
       "                                            settings  \\\n",
       "0            District 12 Panem, Capitol Panem, Panem   \n",
       "1  Hogwarts School of Witchcraft and Wizardry, Lo...   \n",
       "2                                    Maycomb Alabama   \n",
       "3  United Kingdom, Derbyshire England, England, H...   \n",
       "4  Forks Washington, Phoenix Arizona, Washington ...   \n",
       "\n",
       "                                                 url  index  \n",
       "0  https://www.goodreads.com/book/show/2767052-th...      1  \n",
       "1  https://www.goodreads.com/book/show/2.Harry_Po...      2  \n",
       "2  https://www.goodreads.com/book/show/2657.To_Ki...      3  \n",
       "3  https://www.goodreads.com/book/show/1885.Pride...      4  \n",
       "4  https://www.goodreads.com/book/show/41865.Twil...      5  "
      ]
     },
     "execution_count": 4,
     "metadata": {},
     "output_type": "execute_result"
    }
   ],
   "source": [
    "df = dataset[['title','plots','author','characters','settings','url','index']]\n",
    "df.head(5)"
   ]
  },
  {
   "cell_type": "code",
   "execution_count": 5,
   "metadata": {
    "ExecuteTime": {
     "end_time": "2020-12-06T07:22:47.476083Z",
     "start_time": "2020-12-06T07:22:47.459989Z"
    }
   },
   "outputs": [
    {
     "data": {
      "text/plain": [
       "title             1\n",
       "plots             0\n",
       "author            1\n",
       "characters    11070\n",
       "settings      12235\n",
       "url               2\n",
       "index             0\n",
       "dtype: int64"
      ]
     },
     "execution_count": 5,
     "metadata": {},
     "output_type": "execute_result"
    }
   ],
   "source": [
    "df.isnull().sum()"
   ]
  },
  {
   "cell_type": "code",
   "execution_count": 6,
   "metadata": {
    "ExecuteTime": {
     "end_time": "2020-12-06T07:22:47.498991Z",
     "start_time": "2020-12-06T07:22:47.479991Z"
    }
   },
   "outputs": [
    {
     "name": "stderr",
     "output_type": "stream",
     "text": [
      "C:\\Users\\14193\\anaconda3\\lib\\site-packages\\pandas\\core\\series.py:4517: SettingWithCopyWarning: \n",
      "A value is trying to be set on a copy of a slice from a DataFrame\n",
      "\n",
      "See the caveats in the documentation: https://pandas.pydata.org/pandas-docs/stable/user_guide/indexing.html#returning-a-view-versus-a-copy\n",
      "  return super().fillna(\n"
     ]
    }
   ],
   "source": [
    "df['title'].fillna('', inplace=True)\n",
    "df['url'].fillna('', inplace=True)\n",
    "df['author'].fillna('', inplace=True)\n",
    "df['characters'].fillna('', inplace=True)\n",
    "df['settings'].fillna('', inplace=True)"
   ]
  },
  {
   "cell_type": "code",
   "execution_count": 7,
   "metadata": {
    "ExecuteTime": {
     "end_time": "2020-12-06T07:22:47.518988Z",
     "start_time": "2020-12-06T07:22:47.500987Z"
    }
   },
   "outputs": [
    {
     "data": {
      "text/plain": [
       "title         0\n",
       "plots         0\n",
       "author        0\n",
       "characters    0\n",
       "settings      0\n",
       "url           0\n",
       "index         0\n",
       "dtype: int64"
      ]
     },
     "execution_count": 7,
     "metadata": {},
     "output_type": "execute_result"
    }
   ],
   "source": [
    "df.isnull().sum()"
   ]
  },
  {
   "cell_type": "code",
   "execution_count": 8,
   "metadata": {
    "ExecuteTime": {
     "end_time": "2020-12-06T07:22:48.031988Z",
     "start_time": "2020-12-06T07:22:47.522989Z"
    }
   },
   "outputs": [],
   "source": [
    "from nltk.corpus import stopwords\n",
    "from nltk.tokenize import word_tokenize\n",
    "from nltk.tokenize import RegexpTokenizer"
   ]
  },
  {
   "cell_type": "code",
   "execution_count": 9,
   "metadata": {
    "ExecuteTime": {
     "end_time": "2020-12-06T07:22:48.048990Z",
     "start_time": "2020-12-06T07:22:48.036987Z"
    }
   },
   "outputs": [],
   "source": [
    "stop_words = set(stopwords.words('english'))"
   ]
  },
  {
   "cell_type": "code",
   "execution_count": 10,
   "metadata": {
    "ExecuteTime": {
     "end_time": "2020-12-06T07:22:48.057988Z",
     "start_time": "2020-12-06T07:22:48.053023Z"
    }
   },
   "outputs": [],
   "source": [
    "def remove_stop_word(phrases):\n",
    "    tokenizer = RegexpTokenizer(r'[a-z]+')\n",
    "    word = tokenizer.tokenize(phrases.lower())\n",
    "    return [w for w in word if w not in stop_words]"
   ]
  },
  {
   "cell_type": "code",
   "execution_count": 11,
   "metadata": {
    "ExecuteTime": {
     "end_time": "2020-12-06T07:22:50.816998Z",
     "start_time": "2020-12-06T07:22:48.059989Z"
    }
   },
   "outputs": [
    {
     "name": "stderr",
     "output_type": "stream",
     "text": [
      "<ipython-input-11-5473df57246b>:1: SettingWithCopyWarning: \n",
      "A value is trying to be set on a copy of a slice from a DataFrame.\n",
      "Try using .loc[row_indexer,col_indexer] = value instead\n",
      "\n",
      "See the caveats in the documentation: https://pandas.pydata.org/pandas-docs/stable/user_guide/indexing.html#returning-a-view-versus-a-copy\n",
      "  df['title'] = df.apply(lambda x : remove_stop_word(x['title']), axis=1)\n",
      "<ipython-input-11-5473df57246b>:2: SettingWithCopyWarning: \n",
      "A value is trying to be set on a copy of a slice from a DataFrame.\n",
      "Try using .loc[row_indexer,col_indexer] = value instead\n",
      "\n",
      "See the caveats in the documentation: https://pandas.pydata.org/pandas-docs/stable/user_guide/indexing.html#returning-a-view-versus-a-copy\n",
      "  df['plots'] = df.apply(lambda x : remove_stop_word(x['plots']), axis=1)\n",
      "<ipython-input-11-5473df57246b>:3: SettingWithCopyWarning: \n",
      "A value is trying to be set on a copy of a slice from a DataFrame.\n",
      "Try using .loc[row_indexer,col_indexer] = value instead\n",
      "\n",
      "See the caveats in the documentation: https://pandas.pydata.org/pandas-docs/stable/user_guide/indexing.html#returning-a-view-versus-a-copy\n",
      "  df['author'] = df.apply(lambda x : remove_stop_word(x['author']), axis=1)\n",
      "<ipython-input-11-5473df57246b>:4: SettingWithCopyWarning: \n",
      "A value is trying to be set on a copy of a slice from a DataFrame.\n",
      "Try using .loc[row_indexer,col_indexer] = value instead\n",
      "\n",
      "See the caveats in the documentation: https://pandas.pydata.org/pandas-docs/stable/user_guide/indexing.html#returning-a-view-versus-a-copy\n",
      "  df['characters'] = df.apply(lambda x : remove_stop_word(x['characters']), axis=1)\n",
      "<ipython-input-11-5473df57246b>:5: SettingWithCopyWarning: \n",
      "A value is trying to be set on a copy of a slice from a DataFrame.\n",
      "Try using .loc[row_indexer,col_indexer] = value instead\n",
      "\n",
      "See the caveats in the documentation: https://pandas.pydata.org/pandas-docs/stable/user_guide/indexing.html#returning-a-view-versus-a-copy\n",
      "  df['settings'] = df.apply(lambda x : remove_stop_word(x['settings']), axis=1)\n"
     ]
    }
   ],
   "source": [
    "df['title'] = df.apply(lambda x : remove_stop_word(x['title']), axis=1)\n",
    "df['plots'] = df.apply(lambda x : remove_stop_word(x['plots']), axis=1)\n",
    "df['author'] = df.apply(lambda x : remove_stop_word(x['author']), axis=1)\n",
    "df['characters'] = df.apply(lambda x : remove_stop_word(x['characters']), axis=1)\n",
    "df['settings'] = df.apply(lambda x : remove_stop_word(x['settings']), axis=1)"
   ]
  },
  {
   "cell_type": "code",
   "execution_count": 12,
   "metadata": {
    "ExecuteTime": {
     "end_time": "2020-12-06T07:22:50.857990Z",
     "start_time": "2020-12-06T07:22:50.820987Z"
    }
   },
   "outputs": [
    {
     "data": {
      "text/html": [
       "<div>\n",
       "<style scoped>\n",
       "    .dataframe tbody tr th:only-of-type {\n",
       "        vertical-align: middle;\n",
       "    }\n",
       "\n",
       "    .dataframe tbody tr th {\n",
       "        vertical-align: top;\n",
       "    }\n",
       "\n",
       "    .dataframe thead th {\n",
       "        text-align: right;\n",
       "    }\n",
       "</style>\n",
       "<table border=\"1\" class=\"dataframe\">\n",
       "  <thead>\n",
       "    <tr style=\"text-align: right;\">\n",
       "      <th></th>\n",
       "      <th>title</th>\n",
       "      <th>plots</th>\n",
       "      <th>author</th>\n",
       "      <th>characters</th>\n",
       "      <th>settings</th>\n",
       "      <th>url</th>\n",
       "      <th>index</th>\n",
       "    </tr>\n",
       "  </thead>\n",
       "  <tbody>\n",
       "    <tr>\n",
       "      <th>0</th>\n",
       "      <td>[hunger, games]</td>\n",
       "      <td>[could, survive, wild, every, one, make, sure,...</td>\n",
       "      <td>[suzanne, collins]</td>\n",
       "      <td>[katniss, everdeen, peeta, mellark, cato, hung...</td>\n",
       "      <td>[district, panem, capitol, panem, panem]</td>\n",
       "      <td>https://www.goodreads.com/book/show/2767052-th...</td>\n",
       "      <td>1</td>\n",
       "    </tr>\n",
       "    <tr>\n",
       "      <th>1</th>\n",
       "      <td>[harry, potter, order, phoenix]</td>\n",
       "      <td>[door, end, silent, corridor, haunting, harry,...</td>\n",
       "      <td>[j, k, rowling]</td>\n",
       "      <td>[sirius, black, draco, malfoy, ron, weasley, p...</td>\n",
       "      <td>[hogwarts, school, witchcraft, wizardry, londo...</td>\n",
       "      <td>https://www.goodreads.com/book/show/2.Harry_Po...</td>\n",
       "      <td>2</td>\n",
       "    </tr>\n",
       "    <tr>\n",
       "      <th>2</th>\n",
       "      <td>[kill, mockingbird]</td>\n",
       "      <td>[unforgettable, novel, childhood, sleepy, sout...</td>\n",
       "      <td>[harper, lee]</td>\n",
       "      <td>[scout, finch, atticus, finch, jem, finch, art...</td>\n",
       "      <td>[maycomb, alabama]</td>\n",
       "      <td>https://www.goodreads.com/book/show/2657.To_Ki...</td>\n",
       "      <td>3</td>\n",
       "    </tr>\n",
       "    <tr>\n",
       "      <th>3</th>\n",
       "      <td>[pride, prejudice]</td>\n",
       "      <td>[since, immediate, success, pride, prejudice, ...</td>\n",
       "      <td>[jane, austen]</td>\n",
       "      <td>[mr, bennet, mrs, bennet, jane, bennet, elizab...</td>\n",
       "      <td>[united, kingdom, derbyshire, england, england...</td>\n",
       "      <td>https://www.goodreads.com/book/show/1885.Pride...</td>\n",
       "      <td>4</td>\n",
       "    </tr>\n",
       "    <tr>\n",
       "      <th>4</th>\n",
       "      <td>[twilight]</td>\n",
       "      <td>[three, things, absolutely, positive, first, e...</td>\n",
       "      <td>[stephenie, meyer]</td>\n",
       "      <td>[edward, cullen, jacob, black, laurent, renee,...</td>\n",
       "      <td>[forks, washington, phoenix, arizona, washingt...</td>\n",
       "      <td>https://www.goodreads.com/book/show/41865.Twil...</td>\n",
       "      <td>5</td>\n",
       "    </tr>\n",
       "  </tbody>\n",
       "</table>\n",
       "</div>"
      ],
      "text/plain": [
       "                             title  \\\n",
       "0                  [hunger, games]   \n",
       "1  [harry, potter, order, phoenix]   \n",
       "2              [kill, mockingbird]   \n",
       "3               [pride, prejudice]   \n",
       "4                       [twilight]   \n",
       "\n",
       "                                               plots              author  \\\n",
       "0  [could, survive, wild, every, one, make, sure,...  [suzanne, collins]   \n",
       "1  [door, end, silent, corridor, haunting, harry,...     [j, k, rowling]   \n",
       "2  [unforgettable, novel, childhood, sleepy, sout...       [harper, lee]   \n",
       "3  [since, immediate, success, pride, prejudice, ...      [jane, austen]   \n",
       "4  [three, things, absolutely, positive, first, e...  [stephenie, meyer]   \n",
       "\n",
       "                                          characters  \\\n",
       "0  [katniss, everdeen, peeta, mellark, cato, hung...   \n",
       "1  [sirius, black, draco, malfoy, ron, weasley, p...   \n",
       "2  [scout, finch, atticus, finch, jem, finch, art...   \n",
       "3  [mr, bennet, mrs, bennet, jane, bennet, elizab...   \n",
       "4  [edward, cullen, jacob, black, laurent, renee,...   \n",
       "\n",
       "                                            settings  \\\n",
       "0           [district, panem, capitol, panem, panem]   \n",
       "1  [hogwarts, school, witchcraft, wizardry, londo...   \n",
       "2                                 [maycomb, alabama]   \n",
       "3  [united, kingdom, derbyshire, england, england...   \n",
       "4  [forks, washington, phoenix, arizona, washingt...   \n",
       "\n",
       "                                                 url  index  \n",
       "0  https://www.goodreads.com/book/show/2767052-th...      1  \n",
       "1  https://www.goodreads.com/book/show/2.Harry_Po...      2  \n",
       "2  https://www.goodreads.com/book/show/2657.To_Ki...      3  \n",
       "3  https://www.goodreads.com/book/show/1885.Pride...      4  \n",
       "4  https://www.goodreads.com/book/show/41865.Twil...      5  "
      ]
     },
     "execution_count": 12,
     "metadata": {},
     "output_type": "execute_result"
    }
   ],
   "source": [
    "df.head()"
   ]
  },
  {
   "cell_type": "code",
   "execution_count": 13,
   "metadata": {
    "ExecuteTime": {
     "end_time": "2020-12-06T07:22:50.869002Z",
     "start_time": "2020-12-06T07:22:50.863994Z"
    }
   },
   "outputs": [
    {
     "data": {
      "text/plain": [
       "list"
      ]
     },
     "execution_count": 13,
     "metadata": {},
     "output_type": "execute_result"
    }
   ],
   "source": [
    "type(df['title'][0])"
   ]
  },
  {
   "cell_type": "markdown",
   "metadata": {},
   "source": [
    "> Combining all words from \"title\", \"plots\", \"author\", \"character\" and \"settings\" as a words list."
   ]
  },
  {
   "cell_type": "code",
   "execution_count": 14,
   "metadata": {
    "ExecuteTime": {
     "end_time": "2020-12-06T07:22:52.043997Z",
     "start_time": "2020-12-06T07:22:50.870988Z"
    }
   },
   "outputs": [
    {
     "name": "stderr",
     "output_type": "stream",
     "text": [
      "<ipython-input-14-1ca1c0426f1d>:21: SettingWithCopyWarning: \n",
      "A value is trying to be set on a copy of a slice from a DataFrame.\n",
      "Try using .loc[row_indexer,col_indexer] = value instead\n",
      "\n",
      "See the caveats in the documentation: https://pandas.pydata.org/pandas-docs/stable/user_guide/indexing.html#returning-a-view-versus-a-copy\n",
      "  df[\"All Words\"] = pd.Series(all_words)\n"
     ]
    },
    {
     "data": {
      "text/html": [
       "<div>\n",
       "<style scoped>\n",
       "    .dataframe tbody tr th:only-of-type {\n",
       "        vertical-align: middle;\n",
       "    }\n",
       "\n",
       "    .dataframe tbody tr th {\n",
       "        vertical-align: top;\n",
       "    }\n",
       "\n",
       "    .dataframe thead th {\n",
       "        text-align: right;\n",
       "    }\n",
       "</style>\n",
       "<table border=\"1\" class=\"dataframe\">\n",
       "  <thead>\n",
       "    <tr style=\"text-align: right;\">\n",
       "      <th></th>\n",
       "      <th>title</th>\n",
       "      <th>plots</th>\n",
       "      <th>author</th>\n",
       "      <th>characters</th>\n",
       "      <th>settings</th>\n",
       "      <th>url</th>\n",
       "      <th>index</th>\n",
       "      <th>All Words</th>\n",
       "    </tr>\n",
       "  </thead>\n",
       "  <tbody>\n",
       "    <tr>\n",
       "      <th>0</th>\n",
       "      <td>[hunger, games]</td>\n",
       "      <td>[could, survive, wild, every, one, make, sure,...</td>\n",
       "      <td>[suzanne, collins]</td>\n",
       "      <td>[katniss, everdeen, peeta, mellark, cato, hung...</td>\n",
       "      <td>[district, panem, capitol, panem, panem]</td>\n",
       "      <td>https://www.goodreads.com/book/show/2767052-th...</td>\n",
       "      <td>1</td>\n",
       "      <td>[hunger, games, could, survive, wild, every, o...</td>\n",
       "    </tr>\n",
       "    <tr>\n",
       "      <th>1</th>\n",
       "      <td>[harry, potter, order, phoenix]</td>\n",
       "      <td>[door, end, silent, corridor, haunting, harry,...</td>\n",
       "      <td>[j, k, rowling]</td>\n",
       "      <td>[sirius, black, draco, malfoy, ron, weasley, p...</td>\n",
       "      <td>[hogwarts, school, witchcraft, wizardry, londo...</td>\n",
       "      <td>https://www.goodreads.com/book/show/2.Harry_Po...</td>\n",
       "      <td>2</td>\n",
       "      <td>[harry, potter, order, phoenix, door, end, sil...</td>\n",
       "    </tr>\n",
       "    <tr>\n",
       "      <th>2</th>\n",
       "      <td>[kill, mockingbird]</td>\n",
       "      <td>[unforgettable, novel, childhood, sleepy, sout...</td>\n",
       "      <td>[harper, lee]</td>\n",
       "      <td>[scout, finch, atticus, finch, jem, finch, art...</td>\n",
       "      <td>[maycomb, alabama]</td>\n",
       "      <td>https://www.goodreads.com/book/show/2657.To_Ki...</td>\n",
       "      <td>3</td>\n",
       "      <td>[kill, mockingbird, unforgettable, novel, chil...</td>\n",
       "    </tr>\n",
       "    <tr>\n",
       "      <th>3</th>\n",
       "      <td>[pride, prejudice]</td>\n",
       "      <td>[since, immediate, success, pride, prejudice, ...</td>\n",
       "      <td>[jane, austen]</td>\n",
       "      <td>[mr, bennet, mrs, bennet, jane, bennet, elizab...</td>\n",
       "      <td>[united, kingdom, derbyshire, england, england...</td>\n",
       "      <td>https://www.goodreads.com/book/show/1885.Pride...</td>\n",
       "      <td>4</td>\n",
       "      <td>[pride, prejudice, since, immediate, success, ...</td>\n",
       "    </tr>\n",
       "    <tr>\n",
       "      <th>4</th>\n",
       "      <td>[twilight]</td>\n",
       "      <td>[three, things, absolutely, positive, first, e...</td>\n",
       "      <td>[stephenie, meyer]</td>\n",
       "      <td>[edward, cullen, jacob, black, laurent, renee,...</td>\n",
       "      <td>[forks, washington, phoenix, arizona, washingt...</td>\n",
       "      <td>https://www.goodreads.com/book/show/41865.Twil...</td>\n",
       "      <td>5</td>\n",
       "      <td>[twilight, three, things, absolutely, positive...</td>\n",
       "    </tr>\n",
       "  </tbody>\n",
       "</table>\n",
       "</div>"
      ],
      "text/plain": [
       "                             title  \\\n",
       "0                  [hunger, games]   \n",
       "1  [harry, potter, order, phoenix]   \n",
       "2              [kill, mockingbird]   \n",
       "3               [pride, prejudice]   \n",
       "4                       [twilight]   \n",
       "\n",
       "                                               plots              author  \\\n",
       "0  [could, survive, wild, every, one, make, sure,...  [suzanne, collins]   \n",
       "1  [door, end, silent, corridor, haunting, harry,...     [j, k, rowling]   \n",
       "2  [unforgettable, novel, childhood, sleepy, sout...       [harper, lee]   \n",
       "3  [since, immediate, success, pride, prejudice, ...      [jane, austen]   \n",
       "4  [three, things, absolutely, positive, first, e...  [stephenie, meyer]   \n",
       "\n",
       "                                          characters  \\\n",
       "0  [katniss, everdeen, peeta, mellark, cato, hung...   \n",
       "1  [sirius, black, draco, malfoy, ron, weasley, p...   \n",
       "2  [scout, finch, atticus, finch, jem, finch, art...   \n",
       "3  [mr, bennet, mrs, bennet, jane, bennet, elizab...   \n",
       "4  [edward, cullen, jacob, black, laurent, renee,...   \n",
       "\n",
       "                                            settings  \\\n",
       "0           [district, panem, capitol, panem, panem]   \n",
       "1  [hogwarts, school, witchcraft, wizardry, londo...   \n",
       "2                                 [maycomb, alabama]   \n",
       "3  [united, kingdom, derbyshire, england, england...   \n",
       "4  [forks, washington, phoenix, arizona, washingt...   \n",
       "\n",
       "                                                 url  index  \\\n",
       "0  https://www.goodreads.com/book/show/2767052-th...      1   \n",
       "1  https://www.goodreads.com/book/show/2.Harry_Po...      2   \n",
       "2  https://www.goodreads.com/book/show/2657.To_Ki...      3   \n",
       "3  https://www.goodreads.com/book/show/1885.Pride...      4   \n",
       "4  https://www.goodreads.com/book/show/41865.Twil...      5   \n",
       "\n",
       "                                           All Words  \n",
       "0  [hunger, games, could, survive, wild, every, o...  \n",
       "1  [harry, potter, order, phoenix, door, end, sil...  \n",
       "2  [kill, mockingbird, unforgettable, novel, chil...  \n",
       "3  [pride, prejudice, since, immediate, success, ...  \n",
       "4  [twilight, three, things, absolutely, positive...  "
      ]
     },
     "execution_count": 14,
     "metadata": {},
     "output_type": "execute_result"
    }
   ],
   "source": [
    "words=[] \n",
    "all_words = [] \n",
    "for i in range(len(df)):\n",
    "    c_all = []\n",
    "    for wordt in df['title'][i]:\n",
    "        words.append(wordt)\n",
    "        c_all.append(wordt)\n",
    "    for wordp in df['plots'][i]:\n",
    "        words.append(wordp)\n",
    "        c_all.append(wordp)\n",
    "    for worda in df['author'][i]:\n",
    "        words.append(worda)\n",
    "        c_all.append(worda)\n",
    "    for wordc in df['characters'][i]:\n",
    "        words.append(wordc)\n",
    "        c_all.append(wordc)\n",
    "    for wordst in df['settings'][i]:\n",
    "        words.append(wordst)\n",
    "        c_all.append(wordst)\n",
    "    all_words .append(c_all)\n",
    "df[\"All Words\"] = pd.Series(all_words)\n",
    "df.head(5)"
   ]
  },
  {
   "cell_type": "markdown",
   "metadata": {
    "ExecuteTime": {
     "end_time": "2020-12-06T09:14:05.674664Z",
     "start_time": "2020-12-06T09:14:05.667759Z"
    }
   },
   "source": [
    "> Create a vacabulary that contains all the words with a unique index can be searched."
   ]
  },
  {
   "cell_type": "code",
   "execution_count": 15,
   "metadata": {
    "ExecuteTime": {
     "end_time": "2020-12-06T07:23:20.969029Z",
     "start_time": "2020-12-06T07:22:52.047987Z"
    }
   },
   "outputs": [],
   "source": [
    "words=set(words)\n",
    "words = list(words)\n",
    "vocab={}\n",
    "for i in range(len(words)):\n",
    "    vocab.update({words[i] : i })\n",
    "with open(\"vocabulary.json\", \"w\", encoding = \"utf8\") as v:\n",
    "    v.write(json.dumps(vocab))\n",
    "    \n",
    "for i in range(len(df)):\n",
    "    for j in range(len(df[\"All Words\"][i])):\n",
    "        if df[\"All Words\"][i][j] in vocab.keys():\n",
    "            df[\"All Words\"][i][j] = vocab[df[\"All Words\"][i][j]]"
   ]
  },
  {
   "cell_type": "markdown",
   "metadata": {},
   "source": [
    "> Statistical word frequency"
   ]
  },
  {
   "cell_type": "code",
   "execution_count": 16,
   "metadata": {
    "ExecuteTime": {
     "end_time": "2020-12-06T07:23:21.331995Z",
     "start_time": "2020-12-06T07:23:20.971995Z"
    }
   },
   "outputs": [
    {
     "name": "stderr",
     "output_type": "stream",
     "text": [
      "<ipython-input-16-2efc5abdc4f8>:2: SettingWithCopyWarning: \n",
      "A value is trying to be set on a copy of a slice from a DataFrame.\n",
      "Try using .loc[row_indexer,col_indexer] = value instead\n",
      "\n",
      "See the caveats in the documentation: https://pandas.pydata.org/pandas-docs/stable/user_guide/indexing.html#returning-a-view-versus-a-copy\n",
      "  df[\"All Words\"] = df[\"All Words\"].apply(lambda x : Counter(x))\n"
     ]
    }
   ],
   "source": [
    "from collections import Counter\n",
    "df[\"All Words\"] = df[\"All Words\"].apply(lambda x : Counter(x))"
   ]
  },
  {
   "cell_type": "markdown",
   "metadata": {},
   "source": [
    "> tfidf(Term Frequency–Inverse Document Frequency):  \n",
    "It’s a way to score the importance of words (or “terms”) in a document based on how frequently they appear across multiple documents.    \n",
    "(1)Term Frequency (tf): Gives us the frequency of the word in each document in the dataset. It is the ratio of number of times the word appears in a document compared to the total number of words in that document. It increases as the number of occurrences of that word within the document increases.  \n",
    "$tf_{i,j}=\\frac {n_{i,j}}  {\\sum_{k}{n_{i,j}}}$  \n",
    "(2)Inverse Data Frequency (idf): Used to calculate the weight of rare words across all documents in the dataset. The words that occur rarely in the dataset have a high IDF score.  \n",
    "$idf(w)=log(\\frac{N}{df_t})$  \n",
    "$tfidf=tf*idf$"
   ]
  },
  {
   "cell_type": "code",
   "execution_count": 17,
   "metadata": {
    "ExecuteTime": {
     "end_time": "2020-12-06T07:23:21.343998Z",
     "start_time": "2020-12-06T07:23:21.335999Z"
    }
   },
   "outputs": [],
   "source": [
    "def Term_Frequency(doc_words):\n",
    "    bow = 0\n",
    "    for k, v in doc_words.items():\n",
    "        bow = bow + v\n",
    "    tf_word = {}\n",
    "    for word, count in doc_words.items():\n",
    "        tf_word[word] = count / float(bow)\n",
    "    return tf_word"
   ]
  },
  {
   "cell_type": "code",
   "execution_count": 18,
   "metadata": {
    "ExecuteTime": {
     "end_time": "2020-12-06T07:23:22.195003Z",
     "start_time": "2020-12-06T07:23:21.347999Z"
    }
   },
   "outputs": [
    {
     "name": "stderr",
     "output_type": "stream",
     "text": [
      "<ipython-input-18-c4098c20c2ae>:4: SettingWithCopyWarning: \n",
      "A value is trying to be set on a copy of a slice from a DataFrame.\n",
      "Try using .loc[row_indexer,col_indexer] = value instead\n",
      "\n",
      "See the caveats in the documentation: https://pandas.pydata.org/pandas-docs/stable/user_guide/indexing.html#returning-a-view-versus-a-copy\n",
      "  df[\"TF\"] = TF\n"
     ]
    }
   ],
   "source": [
    "TF = []\n",
    "for i in range(len(df[\"All Words\"])):\n",
    "    TF.append(Term_Frequency(df[\"All Words\"][i]))\n",
    "df[\"TF\"] = TF"
   ]
  },
  {
   "cell_type": "code",
   "execution_count": 19,
   "metadata": {
    "ExecuteTime": {
     "end_time": "2020-12-06T07:23:22.260078Z",
     "start_time": "2020-12-06T07:23:22.196994Z"
    }
   },
   "outputs": [
    {
     "data": {
      "text/html": [
       "<div>\n",
       "<style scoped>\n",
       "    .dataframe tbody tr th:only-of-type {\n",
       "        vertical-align: middle;\n",
       "    }\n",
       "\n",
       "    .dataframe tbody tr th {\n",
       "        vertical-align: top;\n",
       "    }\n",
       "\n",
       "    .dataframe thead th {\n",
       "        text-align: right;\n",
       "    }\n",
       "</style>\n",
       "<table border=\"1\" class=\"dataframe\">\n",
       "  <thead>\n",
       "    <tr style=\"text-align: right;\">\n",
       "      <th></th>\n",
       "      <th>title</th>\n",
       "      <th>plots</th>\n",
       "      <th>author</th>\n",
       "      <th>characters</th>\n",
       "      <th>settings</th>\n",
       "      <th>url</th>\n",
       "      <th>index</th>\n",
       "      <th>All Words</th>\n",
       "      <th>TF</th>\n",
       "    </tr>\n",
       "  </thead>\n",
       "  <tbody>\n",
       "    <tr>\n",
       "      <th>0</th>\n",
       "      <td>[hunger, games]</td>\n",
       "      <td>[could, survive, wild, every, one, make, sure,...</td>\n",
       "      <td>[suzanne, collins]</td>\n",
       "      <td>[katniss, everdeen, peeta, mellark, cato, hung...</td>\n",
       "      <td>[district, panem, capitol, panem, panem]</td>\n",
       "      <td>https://www.goodreads.com/book/show/2767052-th...</td>\n",
       "      <td>1</td>\n",
       "      <td>{39806: 6, 54551: 7, 11671: 1, 6663: 1, 75285:...</td>\n",
       "      <td>{39806: 0.043478260869565216, 54551: 0.0507246...</td>\n",
       "    </tr>\n",
       "    <tr>\n",
       "      <th>1</th>\n",
       "      <td>[harry, potter, order, phoenix]</td>\n",
       "      <td>[door, end, silent, corridor, haunting, harry,...</td>\n",
       "      <td>[j, k, rowling]</td>\n",
       "      <td>[sirius, black, draco, malfoy, ron, weasley, p...</td>\n",
       "      <td>[hogwarts, school, witchcraft, wizardry, londo...</td>\n",
       "      <td>https://www.goodreads.com/book/show/2.Harry_Po...</td>\n",
       "      <td>2</td>\n",
       "      <td>{49787: 5, 23523: 2, 55669: 1, 33261: 1, 41081...</td>\n",
       "      <td>{49787: 0.029069767441860465, 23523: 0.0116279...</td>\n",
       "    </tr>\n",
       "    <tr>\n",
       "      <th>2</th>\n",
       "      <td>[kill, mockingbird]</td>\n",
       "      <td>[unforgettable, novel, childhood, sleepy, sout...</td>\n",
       "      <td>[harper, lee]</td>\n",
       "      <td>[scout, finch, atticus, finch, jem, finch, art...</td>\n",
       "      <td>[maycomb, alabama]</td>\n",
       "      <td>https://www.goodreads.com/book/show/2657.To_Ki...</td>\n",
       "      <td>3</td>\n",
       "      <td>{52714: 3, 80376: 3, 67644: 1, 30410: 1, 23063...</td>\n",
       "      <td>{52714: 0.026785714285714284, 80376: 0.0267857...</td>\n",
       "    </tr>\n",
       "    <tr>\n",
       "      <th>3</th>\n",
       "      <td>[pride, prejudice]</td>\n",
       "      <td>[since, immediate, success, pride, prejudice, ...</td>\n",
       "      <td>[jane, austen]</td>\n",
       "      <td>[mr, bennet, mrs, bennet, jane, bennet, elizab...</td>\n",
       "      <td>[united, kingdom, derbyshire, england, england...</td>\n",
       "      <td>https://www.goodreads.com/book/show/1885.Pride...</td>\n",
       "      <td>4</td>\n",
       "      <td>{32999: 2, 71621: 2, 72609: 1, 62642: 1, 37310...</td>\n",
       "      <td>{32999: 0.01652892561983471, 71621: 0.01652892...</td>\n",
       "    </tr>\n",
       "    <tr>\n",
       "      <th>4</th>\n",
       "      <td>[twilight]</td>\n",
       "      <td>[three, things, absolutely, positive, first, e...</td>\n",
       "      <td>[stephenie, meyer]</td>\n",
       "      <td>[edward, cullen, jacob, black, laurent, renee,...</td>\n",
       "      <td>[forks, washington, phoenix, arizona, washingt...</td>\n",
       "      <td>https://www.goodreads.com/book/show/41865.Twil...</td>\n",
       "      <td>5</td>\n",
       "      <td>{66378: 2, 79650: 1, 16161: 1, 12393: 1, 54581...</td>\n",
       "      <td>{66378: 0.029411764705882353, 79650: 0.0147058...</td>\n",
       "    </tr>\n",
       "  </tbody>\n",
       "</table>\n",
       "</div>"
      ],
      "text/plain": [
       "                             title  \\\n",
       "0                  [hunger, games]   \n",
       "1  [harry, potter, order, phoenix]   \n",
       "2              [kill, mockingbird]   \n",
       "3               [pride, prejudice]   \n",
       "4                       [twilight]   \n",
       "\n",
       "                                               plots              author  \\\n",
       "0  [could, survive, wild, every, one, make, sure,...  [suzanne, collins]   \n",
       "1  [door, end, silent, corridor, haunting, harry,...     [j, k, rowling]   \n",
       "2  [unforgettable, novel, childhood, sleepy, sout...       [harper, lee]   \n",
       "3  [since, immediate, success, pride, prejudice, ...      [jane, austen]   \n",
       "4  [three, things, absolutely, positive, first, e...  [stephenie, meyer]   \n",
       "\n",
       "                                          characters  \\\n",
       "0  [katniss, everdeen, peeta, mellark, cato, hung...   \n",
       "1  [sirius, black, draco, malfoy, ron, weasley, p...   \n",
       "2  [scout, finch, atticus, finch, jem, finch, art...   \n",
       "3  [mr, bennet, mrs, bennet, jane, bennet, elizab...   \n",
       "4  [edward, cullen, jacob, black, laurent, renee,...   \n",
       "\n",
       "                                            settings  \\\n",
       "0           [district, panem, capitol, panem, panem]   \n",
       "1  [hogwarts, school, witchcraft, wizardry, londo...   \n",
       "2                                 [maycomb, alabama]   \n",
       "3  [united, kingdom, derbyshire, england, england...   \n",
       "4  [forks, washington, phoenix, arizona, washingt...   \n",
       "\n",
       "                                                 url  index  \\\n",
       "0  https://www.goodreads.com/book/show/2767052-th...      1   \n",
       "1  https://www.goodreads.com/book/show/2.Harry_Po...      2   \n",
       "2  https://www.goodreads.com/book/show/2657.To_Ki...      3   \n",
       "3  https://www.goodreads.com/book/show/1885.Pride...      4   \n",
       "4  https://www.goodreads.com/book/show/41865.Twil...      5   \n",
       "\n",
       "                                           All Words  \\\n",
       "0  {39806: 6, 54551: 7, 11671: 1, 6663: 1, 75285:...   \n",
       "1  {49787: 5, 23523: 2, 55669: 1, 33261: 1, 41081...   \n",
       "2  {52714: 3, 80376: 3, 67644: 1, 30410: 1, 23063...   \n",
       "3  {32999: 2, 71621: 2, 72609: 1, 62642: 1, 37310...   \n",
       "4  {66378: 2, 79650: 1, 16161: 1, 12393: 1, 54581...   \n",
       "\n",
       "                                                  TF  \n",
       "0  {39806: 0.043478260869565216, 54551: 0.0507246...  \n",
       "1  {49787: 0.029069767441860465, 23523: 0.0116279...  \n",
       "2  {52714: 0.026785714285714284, 80376: 0.0267857...  \n",
       "3  {32999: 0.01652892561983471, 71621: 0.01652892...  \n",
       "4  {66378: 0.029411764705882353, 79650: 0.0147058...  "
      ]
     },
     "execution_count": 19,
     "metadata": {},
     "output_type": "execute_result"
    }
   ],
   "source": [
    "df.head(5)"
   ]
  },
  {
   "cell_type": "code",
   "execution_count": 20,
   "metadata": {
    "ExecuteTime": {
     "end_time": "2020-12-06T07:23:22.266993Z",
     "start_time": "2020-12-06T07:23:22.262994Z"
    }
   },
   "outputs": [],
   "source": [
    "from collections import defaultdict\n",
    "inverted_index_new =  defaultdict(list)"
   ]
  },
  {
   "cell_type": "code",
   "execution_count": 21,
   "metadata": {
    "ExecuteTime": {
     "end_time": "2020-12-06T07:23:23.354012Z",
     "start_time": "2020-12-06T07:23:22.271000Z"
    }
   },
   "outputs": [],
   "source": [
    "\n",
    "for i in range(len(df)):\n",
    "    for keys,values in df['All Words'][i].items():\n",
    "        inverted_index_new[keys].append(i)"
   ]
  },
  {
   "cell_type": "code",
   "execution_count": 22,
   "metadata": {
    "ExecuteTime": {
     "end_time": "2020-12-06T07:23:25.003099Z",
     "start_time": "2020-12-06T07:23:23.358996Z"
    }
   },
   "outputs": [],
   "source": [
    "with open('inverted_index_new.json', 'w') as fp:\n",
    "    json.dump(inverted_index_new, fp)"
   ]
  },
  {
   "cell_type": "code",
   "execution_count": 23,
   "metadata": {
    "ExecuteTime": {
     "end_time": "2020-12-06T07:23:25.816065Z",
     "start_time": "2020-12-06T07:23:25.011998Z"
    }
   },
   "outputs": [],
   "source": [
    "import math\n",
    "idf = {}\n",
    "for k, v in vocab.items():\n",
    "    idf[v] = math.log(len(df[\"All Words\"])/len(inverted_index_new[v]))\n",
    "with open(\"idf.json\", \"w\", encoding = \"utf8\") as i_d_f:\n",
    "    i_d_f.write(json.dumps(idf))"
   ]
  },
  {
   "cell_type": "code",
   "execution_count": 24,
   "metadata": {
    "ExecuteTime": {
     "end_time": "2020-12-06T07:23:25.826064Z",
     "start_time": "2020-12-06T07:23:25.819143Z"
    }
   },
   "outputs": [],
   "source": [
    "def tf_idf(docid, termid):\n",
    "    return((df[\"All Words\"][docid][termid]*idf[termid])/sum(df[\"All Words\"][docid]))"
   ]
  },
  {
   "cell_type": "code",
   "execution_count": 25,
   "metadata": {
    "ExecuteTime": {
     "end_time": "2020-12-06T07:23:25.865066Z",
     "start_time": "2020-12-06T07:23:25.830065Z"
    }
   },
   "outputs": [
    {
     "data": {
      "text/html": [
       "<div>\n",
       "<style scoped>\n",
       "    .dataframe tbody tr th:only-of-type {\n",
       "        vertical-align: middle;\n",
       "    }\n",
       "\n",
       "    .dataframe tbody tr th {\n",
       "        vertical-align: top;\n",
       "    }\n",
       "\n",
       "    .dataframe thead th {\n",
       "        text-align: right;\n",
       "    }\n",
       "</style>\n",
       "<table border=\"1\" class=\"dataframe\">\n",
       "  <thead>\n",
       "    <tr style=\"text-align: right;\">\n",
       "      <th></th>\n",
       "      <th>title</th>\n",
       "      <th>plots</th>\n",
       "      <th>author</th>\n",
       "      <th>characters</th>\n",
       "      <th>settings</th>\n",
       "      <th>url</th>\n",
       "      <th>index</th>\n",
       "      <th>All Words</th>\n",
       "      <th>TF</th>\n",
       "    </tr>\n",
       "  </thead>\n",
       "  <tbody>\n",
       "    <tr>\n",
       "      <th>0</th>\n",
       "      <td>[hunger, games]</td>\n",
       "      <td>[could, survive, wild, every, one, make, sure,...</td>\n",
       "      <td>[suzanne, collins]</td>\n",
       "      <td>[katniss, everdeen, peeta, mellark, cato, hung...</td>\n",
       "      <td>[district, panem, capitol, panem, panem]</td>\n",
       "      <td>https://www.goodreads.com/book/show/2767052-th...</td>\n",
       "      <td>1</td>\n",
       "      <td>{39806: 6, 54551: 7, 11671: 1, 6663: 1, 75285:...</td>\n",
       "      <td>{39806: 0.043478260869565216, 54551: 0.0507246...</td>\n",
       "    </tr>\n",
       "  </tbody>\n",
       "</table>\n",
       "</div>"
      ],
      "text/plain": [
       "             title                                              plots  \\\n",
       "0  [hunger, games]  [could, survive, wild, every, one, make, sure,...   \n",
       "\n",
       "               author                                         characters  \\\n",
       "0  [suzanne, collins]  [katniss, everdeen, peeta, mellark, cato, hung...   \n",
       "\n",
       "                                   settings  \\\n",
       "0  [district, panem, capitol, panem, panem]   \n",
       "\n",
       "                                                 url  index  \\\n",
       "0  https://www.goodreads.com/book/show/2767052-th...      1   \n",
       "\n",
       "                                           All Words  \\\n",
       "0  {39806: 6, 54551: 7, 11671: 1, 6663: 1, 75285:...   \n",
       "\n",
       "                                                  TF  \n",
       "0  {39806: 0.043478260869565216, 54551: 0.0507246...  "
      ]
     },
     "execution_count": 25,
     "metadata": {},
     "output_type": "execute_result"
    }
   ],
   "source": [
    "df.head(1)"
   ]
  },
  {
   "cell_type": "code",
   "execution_count": 80,
   "metadata": {
    "ExecuteTime": {
     "end_time": "2020-12-06T09:35:28.345946Z",
     "start_time": "2020-12-06T09:35:19.229588Z"
    }
   },
   "outputs": [
    {
     "name": "stderr",
     "output_type": "stream",
     "text": [
      "<ipython-input-80-71b3cd48d360>:7: SettingWithCopyWarning: \n",
      "A value is trying to be set on a copy of a slice from a DataFrame.\n",
      "Try using .loc[row_indexer,col_indexer] = value instead\n",
      "\n",
      "See the caveats in the documentation: https://pandas.pydata.org/pandas-docs/stable/user_guide/indexing.html#returning-a-view-versus-a-copy\n",
      "  df[\"Norm\"] = norm\n"
     ]
    }
   ],
   "source": [
    "norm = []\n",
    "for i in range(len(df)):\n",
    "    s = 0\n",
    "    for word in df[\"All Words\"][i].keys():\n",
    "        s = s + (df[\"TF\"][i][word]*idf[word])**2\n",
    "    norm.append(s**(1/2))\n",
    "df[\"Norm\"] = norm"
   ]
  },
  {
   "cell_type": "code",
   "execution_count": 27,
   "metadata": {
    "ExecuteTime": {
     "end_time": "2020-12-06T07:23:35.917103Z",
     "start_time": "2020-12-06T07:23:35.888146Z"
    }
   },
   "outputs": [
    {
     "data": {
      "text/html": [
       "<div>\n",
       "<style scoped>\n",
       "    .dataframe tbody tr th:only-of-type {\n",
       "        vertical-align: middle;\n",
       "    }\n",
       "\n",
       "    .dataframe tbody tr th {\n",
       "        vertical-align: top;\n",
       "    }\n",
       "\n",
       "    .dataframe thead th {\n",
       "        text-align: right;\n",
       "    }\n",
       "</style>\n",
       "<table border=\"1\" class=\"dataframe\">\n",
       "  <thead>\n",
       "    <tr style=\"text-align: right;\">\n",
       "      <th></th>\n",
       "      <th>title</th>\n",
       "      <th>plots</th>\n",
       "      <th>author</th>\n",
       "      <th>characters</th>\n",
       "      <th>settings</th>\n",
       "      <th>url</th>\n",
       "      <th>index</th>\n",
       "      <th>All Words</th>\n",
       "      <th>TF</th>\n",
       "      <th>Norm</th>\n",
       "    </tr>\n",
       "  </thead>\n",
       "  <tbody>\n",
       "    <tr>\n",
       "      <th>0</th>\n",
       "      <td>[hunger, games]</td>\n",
       "      <td>[could, survive, wild, every, one, make, sure,...</td>\n",
       "      <td>[suzanne, collins]</td>\n",
       "      <td>[katniss, everdeen, peeta, mellark, cato, hung...</td>\n",
       "      <td>[district, panem, capitol, panem, panem]</td>\n",
       "      <td>https://www.goodreads.com/book/show/2767052-th...</td>\n",
       "      <td>1</td>\n",
       "      <td>{39806: 6, 54551: 7, 11671: 1, 6663: 1, 75285:...</td>\n",
       "      <td>{39806: 0.043478260869565216, 54551: 0.0507246...</td>\n",
       "      <td>0.660595</td>\n",
       "    </tr>\n",
       "  </tbody>\n",
       "</table>\n",
       "</div>"
      ],
      "text/plain": [
       "             title                                              plots  \\\n",
       "0  [hunger, games]  [could, survive, wild, every, one, make, sure,...   \n",
       "\n",
       "               author                                         characters  \\\n",
       "0  [suzanne, collins]  [katniss, everdeen, peeta, mellark, cato, hung...   \n",
       "\n",
       "                                   settings  \\\n",
       "0  [district, panem, capitol, panem, panem]   \n",
       "\n",
       "                                                 url  index  \\\n",
       "0  https://www.goodreads.com/book/show/2767052-th...      1   \n",
       "\n",
       "                                           All Words  \\\n",
       "0  {39806: 6, 54551: 7, 11671: 1, 6663: 1, 75285:...   \n",
       "\n",
       "                                                  TF      Norm  \n",
       "0  {39806: 0.043478260869565216, 54551: 0.0507246...  0.660595  "
      ]
     },
     "execution_count": 27,
     "metadata": {},
     "output_type": "execute_result"
    }
   ],
   "source": [
    "df.head(1)"
   ]
  },
  {
   "cell_type": "code",
   "execution_count": 78,
   "metadata": {
    "ExecuteTime": {
     "end_time": "2020-12-06T08:58:30.391128Z",
     "start_time": "2020-12-06T08:57:53.494018Z"
    }
   },
   "outputs": [],
   "source": [
    "inverted_index_2 = defaultdict(list)\n",
    "for k, v in inverted_index_new.items():\n",
    "    for l in v:\n",
    "        inverted_index_2[k].append((l, tf_idf(l,k)/df[\"Norm\"][l]))\n",
    "        \n",
    "with open(\"inverted_index_2.json\", \"w\", encoding = \"utf8\") as i_d_2:\n",
    "    i_d_2.write(json.dumps(inverted_index_2))"
   ]
  },
  {
   "cell_type": "markdown",
   "metadata": {},
   "source": [
    "# 2.2.2 Execute the query"
   ]
  },
  {
   "cell_type": "code",
   "execution_count": 87,
   "metadata": {
    "ExecuteTime": {
     "end_time": "2020-12-06T09:48:58.933797Z",
     "start_time": "2020-12-06T09:48:58.902796Z"
    }
   },
   "outputs": [],
   "source": [
    "def SearchEngine2(dataset):\n",
    "    query = input()\n",
    "    if query == \"\":\n",
    "        return(\"Please input again!\")\n",
    "    query=query.split(\" \")\n",
    "    books = list(dataset.index)\n",
    "    books = set(books)\n",
    "\n",
    "    vocab=json.loads(open(\"vocabulary.json\").read())\n",
    "    inverted_index_new = json.loads(open(\"inverted_index_new.json\").read())\n",
    "    inverted_index_2=json.loads(open(\"inverted_index_2.json\").read())\n",
    "    Inverse_Document_Frequency = json.loads(open(\"idf.json\").read())\n",
    "    # Query whether the search keyword exists in the vocabulary\n",
    "    for word in query:\n",
    "        if word in vocab.keys():\n",
    "            query[query.index(word)]=(vocab[word])\n",
    "        else:\n",
    "            print(\"word Not found\")\n",
    "    query_vec = {}\n",
    "    #Compute tfidf\n",
    "    for item in query:\n",
    "        query_vec[item]=  Term_Frequency(Counter(query))[item]*Inverse_Document_Frequency[str(item)]\n",
    "\n",
    "    for word in query: \n",
    "        books = books.intersection(inverted_index_new[str(word)])\n",
    "    dataset = dataset.drop(index=dataset.index.difference(books))\n",
    "    \n",
    "    \n",
    "    doc_vec = {}\n",
    "    \n",
    "    for book in books:\n",
    "        vec = []\n",
    "        for word_ in query:\n",
    "            index = inverted_index_2[str(word_)]\n",
    "            for i in range(len(index)):\n",
    "                if index[i][0] == book:\n",
    "                    vec.append(index[i][1])\n",
    "        doc_vec[book] = vec\n",
    "    \n",
    "    def dot(vector_1, vector_2):\n",
    "        sum = 0\n",
    "        for i in range(len(vector_1)):\n",
    "            sum = sum + vector_1[i]*vector_2[i]\n",
    "        return(sum)\n",
    "    def norm(vector):\n",
    "        if len(vector) > 1:\n",
    "            add = 0\n",
    "            for i in range(len(vector)):\n",
    "                add = add + vector[i]**2\n",
    "            return add**(1/2)\n",
    "        else:\n",
    "            return(vector)\n",
    "    # Compute Cosine similarity\n",
    "    similarity = {}\n",
    "    for book in books:\n",
    "        if isinstance(norm(list(query_vec.values())), float):\n",
    "            similarity[book] = dot(list(query_vec.values()),doc_vec[book])/norm(list(query_vec.values()))\n",
    "        else:\n",
    "            similarity[book] = dot(list(query_vec.values()),doc_vec[book])/norm(list(query_vec.values()))[0]\n",
    "\n",
    "    the_col = []\n",
    "    for i in range(len(dataset)):\n",
    "        for k, v in similarity.items():\n",
    "            if dataset.index[i] == k:\n",
    "                the_col.append(similarity[k])\n",
    "\n",
    "    dataset[\"Similarity\"] = the_col\n",
    "    truth = []\n",
    "    for book_d in books:\n",
    "        if dataset[\"Similarity\"][book_d] in heapq.nlargest(5,dataset[\"Similarity\"]):\n",
    "            truth.append(book_d)\n",
    "    newdataset = dataset.drop(index=dataset.index.difference(truth))\n",
    "    return(newdataset[['title','plots','url','Similarity']].sort_values(by = 'Similarity',axis = 0,ascending = False))"
   ]
  },
  {
   "cell_type": "code",
   "execution_count": 88,
   "metadata": {
    "ExecuteTime": {
     "end_time": "2020-12-06T09:49:09.948819Z",
     "start_time": "2020-12-06T09:49:01.562268Z"
    }
   },
   "outputs": [
    {
     "name": "stdout",
     "output_type": "stream",
     "text": [
      "harry potter\n"
     ]
    },
    {
     "data": {
      "text/html": [
       "<div>\n",
       "<style scoped>\n",
       "    .dataframe tbody tr th:only-of-type {\n",
       "        vertical-align: middle;\n",
       "    }\n",
       "\n",
       "    .dataframe tbody tr th {\n",
       "        vertical-align: top;\n",
       "    }\n",
       "\n",
       "    .dataframe thead th {\n",
       "        text-align: right;\n",
       "    }\n",
       "</style>\n",
       "<table border=\"1\" class=\"dataframe\">\n",
       "  <thead>\n",
       "    <tr style=\"text-align: right;\">\n",
       "      <th></th>\n",
       "      <th>title</th>\n",
       "      <th>plots</th>\n",
       "      <th>url</th>\n",
       "      <th>Similarity</th>\n",
       "    </tr>\n",
       "  </thead>\n",
       "  <tbody>\n",
       "    <tr>\n",
       "      <th>6754</th>\n",
       "      <td>Harry Potter Boxed Set, Books 1-5 (Harry Potte...</td>\n",
       "      <td>Box Set containing Harry Potter and the Sorcer...</td>\n",
       "      <td>https://www.goodreads.com/review/show/1783144390</td>\n",
       "      <td>0.000041</td>\n",
       "    </tr>\n",
       "    <tr>\n",
       "      <th>1578</th>\n",
       "      <td>The Harry Potter Collection 1-4</td>\n",
       "      <td>The exciting tales of Harry Potter, the young ...</td>\n",
       "      <td>https://www.goodreads.com/review/show/231816282</td>\n",
       "      <td>0.000028</td>\n",
       "    </tr>\n",
       "    <tr>\n",
       "      <th>6374</th>\n",
       "      <td>The Harry Potter trilogy</td>\n",
       "      <td>This box set collects hard cover editions Harr...</td>\n",
       "      <td>https://www.goodreads.com/review/show/2818927070</td>\n",
       "      <td>0.000025</td>\n",
       "    </tr>\n",
       "    <tr>\n",
       "      <th>1311</th>\n",
       "      <td>Harry Potter and the Cursed Child: Parts One a...</td>\n",
       "      <td>Based on an original new story by J.K. Rowling...</td>\n",
       "      <td>https://www.goodreads.com/review/show/1571798517</td>\n",
       "      <td>0.000023</td>\n",
       "    </tr>\n",
       "    <tr>\n",
       "      <th>407</th>\n",
       "      <td>Harry Potter Series Box Set</td>\n",
       "      <td>Over 4000 pages of Harry Potter and his world,...</td>\n",
       "      <td>https://www.goodreads.com/review/show/103790966</td>\n",
       "      <td>0.000020</td>\n",
       "    </tr>\n",
       "  </tbody>\n",
       "</table>\n",
       "</div>"
      ],
      "text/plain": [
       "                                                  title  \\\n",
       "6754  Harry Potter Boxed Set, Books 1-5 (Harry Potte...   \n",
       "1578                    The Harry Potter Collection 1-4   \n",
       "6374                           The Harry Potter trilogy   \n",
       "1311  Harry Potter and the Cursed Child: Parts One a...   \n",
       "407                         Harry Potter Series Box Set   \n",
       "\n",
       "                                                  plots  \\\n",
       "6754  Box Set containing Harry Potter and the Sorcer...   \n",
       "1578  The exciting tales of Harry Potter, the young ...   \n",
       "6374  This box set collects hard cover editions Harr...   \n",
       "1311  Based on an original new story by J.K. Rowling...   \n",
       "407   Over 4000 pages of Harry Potter and his world,...   \n",
       "\n",
       "                                                   url  Similarity  \n",
       "6754  https://www.goodreads.com/review/show/1783144390    0.000041  \n",
       "1578   https://www.goodreads.com/review/show/231816282    0.000028  \n",
       "6374  https://www.goodreads.com/review/show/2818927070    0.000025  \n",
       "1311  https://www.goodreads.com/review/show/1571798517    0.000023  \n",
       "407    https://www.goodreads.com/review/show/103790966    0.000020  "
      ]
     },
     "execution_count": 88,
     "metadata": {},
     "output_type": "execute_result"
    }
   ],
   "source": [
    "SearchEngine2(dataset)"
   ]
  },
  {
   "cell_type": "code",
   "execution_count": null,
   "metadata": {},
   "outputs": [],
   "source": []
  },
  {
   "cell_type": "code",
   "execution_count": null,
   "metadata": {},
   "outputs": [],
   "source": []
  }
 ],
 "metadata": {
  "kernelspec": {
   "display_name": "Python 3",
   "language": "python",
   "name": "python3"
  },
  "language_info": {
   "codemirror_mode": {
    "name": "ipython",
    "version": 3
   },
   "file_extension": ".py",
   "mimetype": "text/x-python",
   "name": "python",
   "nbconvert_exporter": "python",
   "pygments_lexer": "ipython3",
   "version": "3.8.3"
  },
  "latex_envs": {
   "LaTeX_envs_menu_present": true,
   "autoclose": false,
   "autocomplete": true,
   "bibliofile": "biblio.bib",
   "cite_by": "apalike",
   "current_citInitial": 1,
   "eqLabelWithNumbers": true,
   "eqNumInitial": 1,
   "hotkeys": {
    "equation": "Ctrl-E",
    "itemize": "Ctrl-I"
   },
   "labels_anchors": false,
   "latex_user_defs": false,
   "report_style_numbering": false,
   "user_envs_cfg": false
  }
 },
 "nbformat": 4,
 "nbformat_minor": 4
}
